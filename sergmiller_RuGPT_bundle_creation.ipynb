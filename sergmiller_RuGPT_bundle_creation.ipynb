{
  "nbformat": 4,
  "nbformat_minor": 0,
  "metadata": {
    "colab": {
      "name": "sergmiller-RuGPT-bundle-creation",
      "provenance": [],
      "collapsed_sections": [],
      "include_colab_link": true
    },
    "kernelspec": {
      "name": "python3",
      "display_name": "Python 3"
    },
    "language_info": {
      "name": "python"
    },
    "accelerator": "GPU"
  },
  "cells": [
    {
      "cell_type": "markdown",
      "metadata": {
        "id": "view-in-github",
        "colab_type": "text"
      },
      "source": [
        "<a href=\"https://colab.research.google.com/github/sergmiller/vk-cup-final-2021/blob/main/sergmiller_RuGPT_bundle_creation.ipynb\" target=\"_parent\"><img src=\"https://colab.research.google.com/assets/colab-badge.svg\" alt=\"Open In Colab\"/></a>"
      ]
    },
    {
      "cell_type": "code",
      "metadata": {
        "id": "U5yUXAkseG2Y",
        "colab": {
          "base_uri": "https://localhost:8080/"
        },
        "outputId": "5f5467dd-6afa-464c-b693-992cbce248ae"
      },
      "source": [
        "!pip install transformers sentencepiece\n",
        "!wget https://storage.yandexcloud.net/vk-cup-data/test_pipeline_questions.csv "
      ],
      "execution_count": 2,
      "outputs": [
        {
          "output_type": "stream",
          "text": [
            "Collecting transformers\n",
            "  Downloading transformers-4.9.2-py3-none-any.whl (2.6 MB)\n",
            "\u001b[K     |████████████████████████████████| 2.6 MB 14.2 MB/s \n",
            "\u001b[?25hCollecting sentencepiece\n",
            "  Downloading sentencepiece-0.1.96-cp37-cp37m-manylinux_2_17_x86_64.manylinux2014_x86_64.whl (1.2 MB)\n",
            "\u001b[K     |████████████████████████████████| 1.2 MB 55.5 MB/s \n",
            "\u001b[?25hCollecting pyyaml>=5.1\n",
            "  Downloading PyYAML-5.4.1-cp37-cp37m-manylinux1_x86_64.whl (636 kB)\n",
            "\u001b[K     |████████████████████████████████| 636 kB 57.9 MB/s \n",
            "\u001b[?25hCollecting tokenizers<0.11,>=0.10.1\n",
            "  Downloading tokenizers-0.10.3-cp37-cp37m-manylinux_2_5_x86_64.manylinux1_x86_64.manylinux_2_12_x86_64.manylinux2010_x86_64.whl (3.3 MB)\n",
            "\u001b[K     |████████████████████████████████| 3.3 MB 68.8 MB/s \n",
            "\u001b[?25hRequirement already satisfied: regex!=2019.12.17 in /usr/local/lib/python3.7/dist-packages (from transformers) (2019.12.20)\n",
            "Requirement already satisfied: requests in /usr/local/lib/python3.7/dist-packages (from transformers) (2.23.0)\n",
            "Requirement already satisfied: packaging in /usr/local/lib/python3.7/dist-packages (from transformers) (21.0)\n",
            "Requirement already satisfied: filelock in /usr/local/lib/python3.7/dist-packages (from transformers) (3.0.12)\n",
            "Collecting sacremoses\n",
            "  Downloading sacremoses-0.0.45-py3-none-any.whl (895 kB)\n",
            "\u001b[K     |████████████████████████████████| 895 kB 88.3 MB/s \n",
            "\u001b[?25hRequirement already satisfied: tqdm>=4.27 in /usr/local/lib/python3.7/dist-packages (from transformers) (4.62.0)\n",
            "Requirement already satisfied: numpy>=1.17 in /usr/local/lib/python3.7/dist-packages (from transformers) (1.19.5)\n",
            "Collecting huggingface-hub==0.0.12\n",
            "  Downloading huggingface_hub-0.0.12-py3-none-any.whl (37 kB)\n",
            "Requirement already satisfied: importlib-metadata in /usr/local/lib/python3.7/dist-packages (from transformers) (4.6.4)\n",
            "Requirement already satisfied: typing-extensions in /usr/local/lib/python3.7/dist-packages (from huggingface-hub==0.0.12->transformers) (3.7.4.3)\n",
            "Requirement already satisfied: pyparsing>=2.0.2 in /usr/local/lib/python3.7/dist-packages (from packaging->transformers) (2.4.7)\n",
            "Requirement already satisfied: zipp>=0.5 in /usr/local/lib/python3.7/dist-packages (from importlib-metadata->transformers) (3.5.0)\n",
            "Requirement already satisfied: chardet<4,>=3.0.2 in /usr/local/lib/python3.7/dist-packages (from requests->transformers) (3.0.4)\n",
            "Requirement already satisfied: certifi>=2017.4.17 in /usr/local/lib/python3.7/dist-packages (from requests->transformers) (2021.5.30)\n",
            "Requirement already satisfied: urllib3!=1.25.0,!=1.25.1,<1.26,>=1.21.1 in /usr/local/lib/python3.7/dist-packages (from requests->transformers) (1.24.3)\n",
            "Requirement already satisfied: idna<3,>=2.5 in /usr/local/lib/python3.7/dist-packages (from requests->transformers) (2.10)\n",
            "Requirement already satisfied: joblib in /usr/local/lib/python3.7/dist-packages (from sacremoses->transformers) (1.0.1)\n",
            "Requirement already satisfied: click in /usr/local/lib/python3.7/dist-packages (from sacremoses->transformers) (7.1.2)\n",
            "Requirement already satisfied: six in /usr/local/lib/python3.7/dist-packages (from sacremoses->transformers) (1.15.0)\n",
            "Installing collected packages: tokenizers, sacremoses, pyyaml, huggingface-hub, transformers, sentencepiece\n",
            "  Attempting uninstall: pyyaml\n",
            "    Found existing installation: PyYAML 3.13\n",
            "    Uninstalling PyYAML-3.13:\n",
            "      Successfully uninstalled PyYAML-3.13\n",
            "Successfully installed huggingface-hub-0.0.12 pyyaml-5.4.1 sacremoses-0.0.45 sentencepiece-0.1.96 tokenizers-0.10.3 transformers-4.9.2\n",
            "--2021-08-21 20:24:31--  https://storage.yandexcloud.net/vk-cup-data/test_pipeline_questions.csv\n",
            "Resolving storage.yandexcloud.net (storage.yandexcloud.net)... 213.180.193.243, 2a02:6b8::1d9\n",
            "Connecting to storage.yandexcloud.net (storage.yandexcloud.net)|213.180.193.243|:443... connected.\n",
            "HTTP request sent, awaiting response... 200 OK\n",
            "Length: 250 [text/csv]\n",
            "Saving to: ‘test_pipeline_questions.csv’\n",
            "\n",
            "test_pipeline_quest 100%[===================>]     250  --.-KB/s    in 0s      \n",
            "\n",
            "2021-08-21 20:24:31 (62.7 MB/s) - ‘test_pipeline_questions.csv’ saved [250/250]\n",
            "\n"
          ],
          "name": "stdout"
        }
      ]
    },
    {
      "cell_type": "code",
      "metadata": {
        "id": "pESx54YxsBiI"
      },
      "source": [
        "import pandas as pd\n",
        "import numpy as np\n",
        "from transformers import GPT2LMHeadModel, GPT2Tokenizer"
      ],
      "execution_count": 3,
      "outputs": []
    },
    {
      "cell_type": "code",
      "metadata": {
        "colab": {
          "base_uri": "https://localhost:8080/"
        },
        "id": "j-JLWo2Xp2ii",
        "outputId": "f2a7b595-50e4-4a81-9674-47c16e6f2402"
      },
      "source": [
        "from google.colab import drive\n",
        "drive.mount('/gdrive')\n",
        "\n",
        "MOUNT_DIR = \"/gdrive/My Drive/Colab Notebooks/ColabMountDir/\""
      ],
      "execution_count": 4,
      "outputs": [
        {
          "output_type": "stream",
          "text": [
            "Mounted at /gdrive\n"
          ],
          "name": "stdout"
        }
      ]
    },
    {
      "cell_type": "code",
      "metadata": {
        "id": "oXZsNx9-eyXL"
      },
      "source": [
        "model_name_or_path = \"sberbank-ai/rugpt3large_based_on_gpt2\"\n",
        "tokenizer = GPT2Tokenizer.from_pretrained(model_name_or_path)\n",
        "model = GPT2LMHeadModel.from_pretrained(model_name_or_path)#.cuda()"
      ],
      "execution_count": 6,
      "outputs": []
    },
    {
      "cell_type": "code",
      "metadata": {
        "id": "-lbchQA0j5tG"
      },
      "source": [
        "def calc_likelihood(text):\n",
        "    tokens_ids = tokenizer.encode(text, return_tensors=\"pt\")#.cuda()\n",
        "    prob = model(tokens_ids)\n",
        "\n",
        "    tokens = tokens_ids[0].cpu().tolist()\n",
        "    prob = prob[0].cpu()[0]\n",
        "\n",
        "    likelyhood = sum([prob[i, j].item() for i, j in enumerate(tokens)])\n",
        "    return likelyhood"
      ],
      "execution_count": 10,
      "outputs": []
    },
    {
      "cell_type": "code",
      "metadata": {
        "id": "TBcRl_9wfReF"
      },
      "source": [
        "tokens_ids = tokenizer.encode(\"1 2 3\", return_tensors=\"pt\")#.cuda()\n",
        "prob = model.forward(tokens_ids, output_hidden_states=True)"
      ],
      "execution_count": 8,
      "outputs": []
    },
    {
      "cell_type": "code",
      "metadata": {
        "colab": {
          "base_uri": "https://localhost:8080/"
        },
        "id": "t66F_6rnn8hS",
        "outputId": "3958d642-86fe-4843-cc97-8d6190a42097"
      },
      "source": [
        "logits = prob.logits.cpu().detach().numpy()\n",
        "hidden = prob.hidden_states\n",
        "logits.shape, len(hidden), hidden[0].shape"
      ],
      "execution_count": 9,
      "outputs": [
        {
          "output_type": "execute_result",
          "data": {
            "text/plain": [
              "((1, 3, 50257), 25, torch.Size([1, 3, 1536]))"
            ]
          },
          "metadata": {},
          "execution_count": 9
        }
      ]
    },
    {
      "cell_type": "code",
      "metadata": {
        "id": "ewCkWLikoz3_"
      },
      "source": [
        "def make_bundle(question: str, answers: list) -> dict:\n",
        "  torch2np = lambda x: x.cpu().detach().numpy()\n",
        "  def single_sent_info(sent: str) -> dict:\n",
        "    tokens_ids = tokenizer.encode(sent, return_tensors=\"pt\").cuda()\n",
        "    prob = model.forward(tokens_ids,output_hidden_states=True)\n",
        "    logits = prob.logits[0]\n",
        "    hidden = prob.hidden_states\n",
        "    T = len(tokens_ids[0])\n",
        "    assert list(logits.shape) == [T, 50257], logits.shape\n",
        "    assert len(hidden) == 25 and list(hidden[-1].shape) == [1, T, 1536], hidden[0].shape\n",
        "    state = dict()\n",
        "    state[\"tokens\"] = torch2np(tokens_ids)\n",
        "    tokens = tokens_ids[0].cpu().tolist()\n",
        "    logits = torch2np(logits)\n",
        "    state[\"likelihood\"] = np.sum([logits[i, j] for i, j in enumerate(tokens)])\n",
        "    state[\"embed\"] = torch2np(hidden[-1])\n",
        "    return state\n",
        "  bundle = dict()\n",
        "  bundle[\"q\"] = single_sent_info(question)\n",
        "  bundle[\"a1\"] = single_sent_info(question + \" \" + answers[0])\n",
        "  bundle[\"a2\"] = single_sent_info(question + \" \" + answers[1])\n",
        "  bundle[\"a3\"] = single_sent_info(question + \" \" + answers[2])\n",
        "  return bundle"
      ],
      "execution_count": 37,
      "outputs": []
    },
    {
      "cell_type": "code",
      "metadata": {
        "id": "SCnlvHtAmbvr"
      },
      "source": [
        "question = \"Кто доказал теорию эволюции?\"\n",
        "answers = [\"Даня Милохин\", \"Чарльз Дарвин\", \"Ленардо Да Винчи\"]\n",
        "def predict(question, answers):\n",
        "  scores = [calc_likelihood(question + \" \" +  answer) for answer in answers]\n",
        "  return str(np.argmax(scores))\n",
        "\n",
        "# predict(question, answers)\n",
        "b = make_bundle(question, answers)"
      ],
      "execution_count": 8,
      "outputs": []
    },
    {
      "cell_type": "code",
      "metadata": {
        "colab": {
          "base_uri": "https://localhost:8080/"
        },
        "id": "w7ab0gtt1QGb",
        "outputId": "359fb0a4-3930-4c07-ee45-d2c72dfe93a6"
      },
      "source": [
        "b[\"a1\"][\"likelihood\"]"
      ],
      "execution_count": 9,
      "outputs": [
        {
          "output_type": "execute_result",
          "data": {
            "text/plain": [
              "40.67775"
            ]
          },
          "metadata": {},
          "execution_count": 9
        }
      ]
    },
    {
      "cell_type": "code",
      "metadata": {
        "colab": {
          "base_uri": "https://localhost:8080/"
        },
        "id": "GCLdlK9IrHFz",
        "outputId": "c5e916e6-da11-4c9c-a901-3b47c332ceab"
      },
      "source": [
        "train_data = pd.read_csv(MOUNT_DIR + 'rus_train_dataset.csv', encoding='utf-8', sep='|')\n",
        "en_ru_aux_data = pd.read_csv(MOUNT_DIR + 'en_to_rus_train_dataset.csv', encoding='utf-8', sep='|')"
      ],
      "execution_count": 11,
      "outputs": [
        {
          "output_type": "stream",
          "text": [
            "Mounted at /gdrive\n"
          ],
          "name": "stdout"
        }
      ]
    },
    {
      "cell_type": "code",
      "metadata": {
        "colab": {
          "base_uri": "https://localhost:8080/",
          "height": 419
        },
        "id": "pssVpWWxuV1z",
        "outputId": "52c439bb-e762-4371-a435-01e09f32c96c"
      },
      "source": [
        "train_data"
      ],
      "execution_count": 13,
      "outputs": [
        {
          "output_type": "execute_result",
          "data": {
            "text/html": [
              "<div>\n",
              "<style scoped>\n",
              "    .dataframe tbody tr th:only-of-type {\n",
              "        vertical-align: middle;\n",
              "    }\n",
              "\n",
              "    .dataframe tbody tr th {\n",
              "        vertical-align: top;\n",
              "    }\n",
              "\n",
              "    .dataframe thead th {\n",
              "        text-align: right;\n",
              "    }\n",
              "</style>\n",
              "<table border=\"1\" class=\"dataframe\">\n",
              "  <thead>\n",
              "    <tr style=\"text-align: right;\">\n",
              "      <th></th>\n",
              "      <th>Unnamed: 0</th>\n",
              "      <th>question</th>\n",
              "      <th>ps_0</th>\n",
              "      <th>ps_1</th>\n",
              "      <th>ps_2</th>\n",
              "      <th>right_answer_id</th>\n",
              "    </tr>\n",
              "  </thead>\n",
              "  <tbody>\n",
              "    <tr>\n",
              "      <th>0</th>\n",
              "      <td>0</td>\n",
              "      <td>Как называется половина основного времени матч...</td>\n",
              "      <td>Тайм</td>\n",
              "      <td>Период</td>\n",
              "      <td>Гейм</td>\n",
              "      <td>0</td>\n",
              "    </tr>\n",
              "    <tr>\n",
              "      <th>1</th>\n",
              "      <td>1</td>\n",
              "      <td>Какая из указанных команд чаще других становил...</td>\n",
              "      <td>Россия</td>\n",
              "      <td>Англия</td>\n",
              "      <td>Чехия</td>\n",
              "      <td>0</td>\n",
              "    </tr>\n",
              "    <tr>\n",
              "      <th>2</th>\n",
              "      <td>2</td>\n",
              "      <td>В каком году мужская сборная СССР по баскетбол...</td>\n",
              "      <td>1972</td>\n",
              "      <td>1980</td>\n",
              "      <td>1988</td>\n",
              "      <td>0</td>\n",
              "    </tr>\n",
              "    <tr>\n",
              "      <th>3</th>\n",
              "      <td>3</td>\n",
              "      <td>Как называется технология, используемая для бе...</td>\n",
              "      <td>NFC</td>\n",
              "      <td>Android Pay</td>\n",
              "      <td>Apple Pay</td>\n",
              "      <td>0</td>\n",
              "    </tr>\n",
              "    <tr>\n",
              "      <th>4</th>\n",
              "      <td>4</td>\n",
              "      <td>Где в 2014 году проходил Чемпионат мира по фут...</td>\n",
              "      <td>Бразилия</td>\n",
              "      <td>Новая Зеландия</td>\n",
              "      <td>Германия</td>\n",
              "      <td>0</td>\n",
              "    </tr>\n",
              "    <tr>\n",
              "      <th>...</th>\n",
              "      <td>...</td>\n",
              "      <td>...</td>\n",
              "      <td>...</td>\n",
              "      <td>...</td>\n",
              "      <td>...</td>\n",
              "      <td>...</td>\n",
              "    </tr>\n",
              "    <tr>\n",
              "      <th>4056</th>\n",
              "      <td>4056</td>\n",
              "      <td>Как называются рецепторы в организме человека,...</td>\n",
              "      <td>Хеморецепторы</td>\n",
              "      <td>Барорецепторы</td>\n",
              "      <td>Механорецепторы</td>\n",
              "      <td>1</td>\n",
              "    </tr>\n",
              "    <tr>\n",
              "      <th>4057</th>\n",
              "      <td>4057</td>\n",
              "      <td>Какая из перечисленных стран НЕ входила в сост...</td>\n",
              "      <td>Казахстан</td>\n",
              "      <td>Украина</td>\n",
              "      <td>Финляндия</td>\n",
              "      <td>2</td>\n",
              "    </tr>\n",
              "    <tr>\n",
              "      <th>4058</th>\n",
              "      <td>4058</td>\n",
              "      <td>В каком году была выпущена приставка «Playstat...</td>\n",
              "      <td>2000</td>\n",
              "      <td>2001</td>\n",
              "      <td>1999</td>\n",
              "      <td>0</td>\n",
              "    </tr>\n",
              "    <tr>\n",
              "      <th>4059</th>\n",
              "      <td>4059</td>\n",
              "      <td>Как называлась добыча мёда диких пчёл на Руси?</td>\n",
              "      <td>Бортничество</td>\n",
              "      <td>Капище</td>\n",
              "      <td>Полюдье</td>\n",
              "      <td>0</td>\n",
              "    </tr>\n",
              "    <tr>\n",
              "      <th>4060</th>\n",
              "      <td>4060</td>\n",
              "      <td>Какого произведения НЕ было у Л. Н. Толстого?</td>\n",
              "      <td>«Оловянный солдатик»</td>\n",
              "      <td>«Хаджи-Мурат»</td>\n",
              "      <td>«Казаки»</td>\n",
              "      <td>0</td>\n",
              "    </tr>\n",
              "  </tbody>\n",
              "</table>\n",
              "<p>4061 rows × 6 columns</p>\n",
              "</div>"
            ],
            "text/plain": [
              "      Unnamed: 0  ... right_answer_id\n",
              "0              0  ...               0\n",
              "1              1  ...               0\n",
              "2              2  ...               0\n",
              "3              3  ...               0\n",
              "4              4  ...               0\n",
              "...          ...  ...             ...\n",
              "4056        4056  ...               1\n",
              "4057        4057  ...               2\n",
              "4058        4058  ...               0\n",
              "4059        4059  ...               0\n",
              "4060        4060  ...               0\n",
              "\n",
              "[4061 rows x 6 columns]"
            ]
          },
          "metadata": {},
          "execution_count": 13
        }
      ]
    },
    {
      "cell_type": "code",
      "metadata": {
        "colab": {
          "base_uri": "https://localhost:8080/",
          "height": 419
        },
        "id": "Nx7e0GPEuvey",
        "outputId": "6ca18422-fb07-4e3d-9d96-446021e6448c"
      },
      "source": [
        "en_ru_aux_data"
      ],
      "execution_count": 12,
      "outputs": [
        {
          "output_type": "execute_result",
          "data": {
            "text/html": [
              "<div>\n",
              "<style scoped>\n",
              "    .dataframe tbody tr th:only-of-type {\n",
              "        vertical-align: middle;\n",
              "    }\n",
              "\n",
              "    .dataframe tbody tr th {\n",
              "        vertical-align: top;\n",
              "    }\n",
              "\n",
              "    .dataframe thead th {\n",
              "        text-align: right;\n",
              "    }\n",
              "</style>\n",
              "<table border=\"1\" class=\"dataframe\">\n",
              "  <thead>\n",
              "    <tr style=\"text-align: right;\">\n",
              "      <th></th>\n",
              "      <th>Unnamed: 0</th>\n",
              "      <th>question</th>\n",
              "      <th>ps_0</th>\n",
              "      <th>ps_1</th>\n",
              "      <th>ps_2</th>\n",
              "      <th>right_answer_id</th>\n",
              "    </tr>\n",
              "  </thead>\n",
              "  <tbody>\n",
              "    <tr>\n",
              "      <th>0</th>\n",
              "      <td>0</td>\n",
              "      <td>Одним из остатков этого государства прежний ст...</td>\n",
              "      <td>Оклахома</td>\n",
              "      <td>Флорида</td>\n",
              "      <td>Луизиана</td>\n",
              "      <td>2.0</td>\n",
              "    </tr>\n",
              "    <tr>\n",
              "      <th>1</th>\n",
              "      <td>1</td>\n",
              "      <td>Самое большое озеро в этом штате - озеро окехо...</td>\n",
              "      <td>Гавайи</td>\n",
              "      <td>Теннесси</td>\n",
              "      <td>Флорида</td>\n",
              "      <td>2.0</td>\n",
              "    </tr>\n",
              "    <tr>\n",
              "      <th>2</th>\n",
              "      <td>2</td>\n",
              "      <td>Какая государственная столица Вашингтона?</td>\n",
              "      <td>Олимпия</td>\n",
              "      <td>Сиэтл</td>\n",
              "      <td>Walla Walla</td>\n",
              "      <td>0.0</td>\n",
              "    </tr>\n",
              "    <tr>\n",
              "      <th>3</th>\n",
              "      <td>3</td>\n",
              "      <td>Какова государственная столица Калифорнии?</td>\n",
              "      <td>Сакраменто</td>\n",
              "      <td>Лос-Анджелес</td>\n",
              "      <td>Сан-Диего</td>\n",
              "      <td>0.0</td>\n",
              "    </tr>\n",
              "    <tr>\n",
              "      <th>4</th>\n",
              "      <td>4</td>\n",
              "      <td>Что такое государственная столица Айдахо?</td>\n",
              "      <td>Бойсе</td>\n",
              "      <td>Айдахо-Фолс</td>\n",
              "      <td>Покателло</td>\n",
              "      <td>0.0</td>\n",
              "    </tr>\n",
              "    <tr>\n",
              "      <th>...</th>\n",
              "      <td>...</td>\n",
              "      <td>...</td>\n",
              "      <td>...</td>\n",
              "      <td>...</td>\n",
              "      <td>...</td>\n",
              "      <td>...</td>\n",
              "    </tr>\n",
              "    <tr>\n",
              "      <th>1936</th>\n",
              "      <td>1948</td>\n",
              "      <td>Три собаки и два щенка весят 128 фунтов. Четыр...</td>\n",
              "      <td>32 фунта</td>\n",
              "      <td>16 фунтов</td>\n",
              "      <td>80 фунтов</td>\n",
              "      <td>2.0</td>\n",
              "    </tr>\n",
              "    <tr>\n",
              "      <th>1937</th>\n",
              "      <td>1949</td>\n",
              "      <td>Изабелла взяла тест, который имел 20 вопросов....</td>\n",
              "      <td>10</td>\n",
              "      <td>5</td>\n",
              "      <td>3</td>\n",
              "      <td>1.0</td>\n",
              "    </tr>\n",
              "    <tr>\n",
              "      <th>1938</th>\n",
              "      <td>1950</td>\n",
              "      <td>Какие две планеты солнечной системы, отличающи...</td>\n",
              "      <td>Меркурий и Марс</td>\n",
              "      <td>Меркурий и Венеры</td>\n",
              "      <td>Венера и Юпитер</td>\n",
              "      <td>1.0</td>\n",
              "    </tr>\n",
              "    <tr>\n",
              "      <th>1939</th>\n",
              "      <td>1951</td>\n",
              "      <td>Эта луна, подшипщая название паромных мертвых ...</td>\n",
              "      <td>Charon</td>\n",
              "      <td>Nereid</td>\n",
              "      <td>Proteus</td>\n",
              "      <td>0.0</td>\n",
              "    </tr>\n",
              "    <tr>\n",
              "      <th>1940</th>\n",
              "      <td>1952</td>\n",
              "      <td>Какова пятая по величине луна Юпитера, названн...</td>\n",
              "      <td>Galatea</td>\n",
              "      <td>Mimas</td>\n",
              "      <td>Amalthea</td>\n",
              "      <td>2.0</td>\n",
              "    </tr>\n",
              "  </tbody>\n",
              "</table>\n",
              "<p>1941 rows × 6 columns</p>\n",
              "</div>"
            ],
            "text/plain": [
              "      Unnamed: 0  ... right_answer_id\n",
              "0              0  ...             2.0\n",
              "1              1  ...             2.0\n",
              "2              2  ...             0.0\n",
              "3              3  ...             0.0\n",
              "4              4  ...             0.0\n",
              "...          ...  ...             ...\n",
              "1936        1948  ...             2.0\n",
              "1937        1949  ...             1.0\n",
              "1938        1950  ...             1.0\n",
              "1939        1951  ...             0.0\n",
              "1940        1952  ...             2.0\n",
              "\n",
              "[1941 rows x 6 columns]"
            ]
          },
          "metadata": {},
          "execution_count": 12
        }
      ]
    },
    {
      "cell_type": "code",
      "metadata": {
        "id": "H40gYwiDuyco"
      },
      "source": [
        "import tqdm\n",
        "import json\n",
        "import os\n",
        "\n",
        "def prepare_dataset_bundle(df: pd.DataFrame)->list:\n",
        "  # if not os.path.exists(dirpath):\n",
        "  #   os.mkdir(dirpath)\n",
        "  res = []\n",
        "  for line in tqdm.tqdm(df.values, position=0):\n",
        "    idx, q, a1, a2, a3, _ = line\n",
        "    bundle = make_bundle(q, [str(a1), str(a2), str(a3)])\n",
        "    # np.save(dirpath + \"/\" + str(idx), bundle)\n",
        "    res.append(bundle)\n",
        "  return res"
      ],
      "execution_count": 49,
      "outputs": []
    },
    {
      "cell_type": "code",
      "metadata": {
        "colab": {
          "base_uri": "https://localhost:8080/"
        },
        "id": "g-K-_VF8vbN-",
        "outputId": "54701634-e468-4b93-e297-77ec7bc2a6b5"
      },
      "source": [
        "train_bundle = prepare_dataset_bundle(train_data)"
      ],
      "execution_count": 77,
      "outputs": [
        {
          "output_type": "stream",
          "text": [
            "100%|██████████| 4061/4061 [16:39<00:00,  4.06it/s]\n"
          ],
          "name": "stderr"
        }
      ]
    },
    {
      "cell_type": "code",
      "metadata": {
        "id": "0rHM8EY3Ou_q"
      },
      "source": [
        "np.save(MOUNT_DIR + \"train_dataset_bundle\", train_bundle)"
      ],
      "execution_count": 78,
      "outputs": []
    },
    {
      "cell_type": "code",
      "metadata": {
        "colab": {
          "base_uri": "https://localhost:8080/"
        },
        "id": "P31U-1wJ593s",
        "outputId": "671dc030-d9b7-477e-bcf0-2acd3ffb7045"
      },
      "source": [
        "aux_dataset_bundle = prepare_dataset_bundle(en_ru_aux_data)"
      ],
      "execution_count": 14,
      "outputs": [
        {
          "output_type": "stream",
          "text": [
            "100%|██████████| 1941/1941 [09:19<00:00,  3.47it/s]\n"
          ],
          "name": "stderr"
        }
      ]
    },
    {
      "cell_type": "code",
      "metadata": {
        "id": "ALNm-LjbSgwq"
      },
      "source": [
        "np.save(MOUNT_DIR + \"en_ru_aux_dataset_bundle\", aux_dataset_bundle)"
      ],
      "execution_count": 17,
      "outputs": []
    },
    {
      "cell_type": "code",
      "metadata": {
        "id": "vBMpS9gbtvG1"
      },
      "source": [
        "def create_submission(questions_csv_path):\n",
        "  data = pd.read_csv('test_pipeline_questions.csv', encoding='utf-8', sep='|')\n",
        "  answers = [predict(data['question'][i],\n",
        "                     [data['ps_0'][i], data['ps_1'][i], data['ps_2'][i]]) for i in range(len(data))]\n",
        "  \n",
        "  with open('answer.txt', 'w') as f:\n",
        "    f.write('\\n'.join(answers))\n",
        "  return answers"
      ],
      "execution_count": null,
      "outputs": []
    },
    {
      "cell_type": "code",
      "metadata": {
        "id": "zYKz3d5Uj9R9"
      },
      "source": [
        "data = pd.read_csv('test_pipeline_questions.csv', encoding='utf-8', sep='|')"
      ],
      "execution_count": 49,
      "outputs": []
    },
    {
      "cell_type": "code",
      "metadata": {
        "colab": {
          "base_uri": "https://localhost:8080/",
          "height": 111
        },
        "id": "5QdDVR4Ij9yj",
        "outputId": "7aeac98e-c773-43b8-8b16-59acb068164d"
      },
      "source": [
        "data.head()"
      ],
      "execution_count": 50,
      "outputs": [
        {
          "output_type": "execute_result",
          "data": {
            "text/html": [
              "<div>\n",
              "<style scoped>\n",
              "    .dataframe tbody tr th:only-of-type {\n",
              "        vertical-align: middle;\n",
              "    }\n",
              "\n",
              "    .dataframe tbody tr th {\n",
              "        vertical-align: top;\n",
              "    }\n",
              "\n",
              "    .dataframe thead th {\n",
              "        text-align: right;\n",
              "    }\n",
              "</style>\n",
              "<table border=\"1\" class=\"dataframe\">\n",
              "  <thead>\n",
              "    <tr style=\"text-align: right;\">\n",
              "      <th></th>\n",
              "      <th>question</th>\n",
              "      <th>ps_0</th>\n",
              "      <th>ps_1</th>\n",
              "      <th>ps_2</th>\n",
              "    </tr>\n",
              "  </thead>\n",
              "  <tbody>\n",
              "    <tr>\n",
              "      <th>0</th>\n",
              "      <td>В каком году был создан ВКонтакте?</td>\n",
              "      <td>1929</td>\n",
              "      <td>2021</td>\n",
              "      <td>2006</td>\n",
              "    </tr>\n",
              "    <tr>\n",
              "      <th>1</th>\n",
              "      <td>Кто придумал теорию относительности?</td>\n",
              "      <td>Альберт Энштейн</td>\n",
              "      <td>Исаак Ньютон</td>\n",
              "      <td>Мирон Федоров</td>\n",
              "    </tr>\n",
              "  </tbody>\n",
              "</table>\n",
              "</div>"
            ],
            "text/plain": [
              "                               question  ...           ps_2\n",
              "0    В каком году был создан ВКонтакте?  ...           2006\n",
              "1  Кто придумал теорию относительности?  ...  Мирон Федоров\n",
              "\n",
              "[2 rows x 4 columns]"
            ]
          },
          "metadata": {},
          "execution_count": 50
        }
      ]
    },
    {
      "cell_type": "markdown",
      "metadata": {
        "id": "4wFoZJUpqtPM"
      },
      "source": [
        "Перевод обработанного датасета http://nlp.cs.washington.edu/triviaqa/ (предобработку см в triviaQA_large_preparation.ipynb): здесь будет перевод с сэмплированием негативных ответов(т к в оригинальном датасете их нет)"
      ]
    },
    {
      "cell_type": "code",
      "metadata": {
        "id": "SaYhX8VT0shf"
      },
      "source": [
        "import sentencepiece"
      ],
      "execution_count": 39,
      "outputs": []
    },
    {
      "cell_type": "code",
      "metadata": {
        "colab": {
          "base_uri": "https://localhost:8080/"
        },
        "id": "ydFIoh81mp37",
        "outputId": "3833f3a7-631d-436c-fa9c-13c812924680"
      },
      "source": [
        "from transformers import FSMTForConditionalGeneration, FSMTTokenizer\n",
        "import torch\n",
        "mname = \"facebook/wmt19-en-ru\"\n",
        "tokenizer_tr = FSMTTokenizer.from_pretrained(mname)\n",
        "model_tr = FSMTForConditionalGeneration.from_pretrained(mname)\n",
        "\n",
        "# from transformers import AutoTokenizer, AutoModelForPreTraining\n",
        "  \n",
        "# tokenizer_tr = AutoTokenizer.from_pretrained(\"cointegrated/LaBSE-en-ru\")\n",
        "\n",
        "# model_tr = AutoModelForPreTraining.from_pretrained(\"cointegrated/LaBSE-en-ru\")\n",
        "\n",
        "def pad_sequences(batch, pad_value=2):\n",
        "    n = max(len(v) for v in batch)\n",
        "    return torch.tensor([v + [pad_value] * (n - len(v)) for v in batch])\n",
        "\n",
        "input = \"Machine learning is great, isn't it?\"\n",
        "input_ids = tokenizer_tr.encode(input)\n",
        "input2 = \"Machine learning is great!\"\n",
        "input_ids2 = tokenizer_tr.encode(input2)\n",
        "outputs = model_tr.generate(pad_sequences([input_ids, input_ids2]), num_beams=1)\n",
        "print(outputs.shape)\n",
        "decoded = tokenizer_tr.decode(outputs[0], skip_special_tokens=True)\n",
        "print(decoded) # Машинное обучение - это здорово, не так ли?\n",
        "decoded = tokenizer_tr.decode(outputs[1], skip_special_tokens=True)\n",
        "print(decoded) # Машинное обучение - это здорово, не так ли?"
      ],
      "execution_count": 5,
      "outputs": [
        {
          "output_type": "stream",
          "text": [
            "torch.Size([2, 14])\n",
            "Машинное обучение - это здорово, не так ли?\n",
            "Машинное обучение - это здорово!\n"
          ],
          "name": "stdout"
        }
      ]
    },
    {
      "cell_type": "code",
      "metadata": {
        "colab": {
          "base_uri": "https://localhost:8080/"
        },
        "id": "R7oeol8IBg3U",
        "outputId": "9bf009b6-9af7-4f88-ef99-0232891300dd"
      },
      "source": [
        "%%time\n",
        "outputs = model_tr.generate(pad_sequences([input_ids, input_ids2]))"
      ],
      "execution_count": 24,
      "outputs": [
        {
          "output_type": "stream",
          "text": [
            "CPU times: user 1.92 s, sys: 14.9 ms, total: 1.93 s\n",
            "Wall time: 1.92 s\n"
          ],
          "name": "stdout"
        }
      ]
    },
    {
      "cell_type": "code",
      "metadata": {
        "colab": {
          "base_uri": "https://localhost:8080/"
        },
        "id": "Dy5K6VSZBnDu",
        "outputId": "63e5f245-2177-4d7b-ab8c-71e0a5198168"
      },
      "source": [
        "%%time\n",
        "outputs = model_tr.generate(pad_sequences([input_ids, input_ids2]),  num_beams=1)"
      ],
      "execution_count": 28,
      "outputs": [
        {
          "output_type": "stream",
          "text": [
            "CPU times: user 1.3 s, sys: 3.77 ms, total: 1.3 s\n",
            "Wall time: 1.3 s\n"
          ],
          "name": "stdout"
        }
      ]
    },
    {
      "cell_type": "code",
      "metadata": {
        "id": "0u84FRJCuExI"
      },
      "source": [
        "tr_cache = dict()\n",
        "\n",
        "def translate(text: str) -> str:\n",
        "  if text in tr_cache:\n",
        "    return tr_cache[text]\n",
        "  input_ids = tokenizer_tr.encode(text, return_tensors=\"pt\")\n",
        "  outputs = model_tr.generate(input_ids)\n",
        "  decoded = tokenizer_tr.decode(outputs[0], skip_special_tokens=True)\n",
        "  tr_cache[text] = decoded\n",
        "  return decoded\n",
        "\n",
        "def translate_batch(texts: list) -> str:\n",
        "  res = [None for _ in range(len(texts))]\n",
        "  others = []\n",
        "  tokenized = []\n",
        "  for i, t in enumerate(texts):\n",
        "    if t in tr_cache:\n",
        "      res[i] = tr_cache[t]\n",
        "    else:\n",
        "      others.append(i)\n",
        "      tokenized.append(tokenizer_tr.encode(t))\n",
        "  if len(others) == 0:\n",
        "    return res\n",
        "  outputs = model_tr.generate(pad_sequences(tokenized))\n",
        "  for idx, out in zip(others, outputs):\n",
        "    decoded = tokenizer_tr.decode(out, skip_special_tokens=True)\n",
        "    tr_cache[texts[idx]] = decoded\n",
        "    res[idx] = decoded\n",
        "  return res"
      ],
      "execution_count": 6,
      "outputs": []
    },
    {
      "cell_type": "code",
      "metadata": {
        "id": "T5OadYweo6wn"
      },
      "source": [
        "en_trivia_qa = pd.read_csv(MOUNT_DIR + 'en_questions_bundle.csv')"
      ],
      "execution_count": 10,
      "outputs": []
    },
    {
      "cell_type": "code",
      "metadata": {
        "colab": {
          "base_uri": "https://localhost:8080/",
          "height": 204
        },
        "id": "fzkzAd5dpjUC",
        "outputId": "0fe3c2db-6e31-4c0e-f9ba-6ddaef71eccf"
      },
      "source": [
        "en_trivia_qa.head()"
      ],
      "execution_count": 11,
      "outputs": [
        {
          "output_type": "execute_result",
          "data": {
            "text/html": [
              "<div>\n",
              "<style scoped>\n",
              "    .dataframe tbody tr th:only-of-type {\n",
              "        vertical-align: middle;\n",
              "    }\n",
              "\n",
              "    .dataframe tbody tr th {\n",
              "        vertical-align: top;\n",
              "    }\n",
              "\n",
              "    .dataframe thead th {\n",
              "        text-align: right;\n",
              "    }\n",
              "</style>\n",
              "<table border=\"1\" class=\"dataframe\">\n",
              "  <thead>\n",
              "    <tr style=\"text-align: right;\">\n",
              "      <th></th>\n",
              "      <th>Unnamed: 0</th>\n",
              "      <th>0</th>\n",
              "      <th>1</th>\n",
              "    </tr>\n",
              "  </thead>\n",
              "  <tbody>\n",
              "    <tr>\n",
              "      <th>0</th>\n",
              "      <td>0</td>\n",
              "      <td>Where in England was Dame Judi Dench born?</td>\n",
              "      <td>York</td>\n",
              "    </tr>\n",
              "    <tr>\n",
              "      <th>1</th>\n",
              "      <td>1</td>\n",
              "      <td>From which country did Angola achieve independ...</td>\n",
              "      <td>Portugal</td>\n",
              "    </tr>\n",
              "    <tr>\n",
              "      <th>2</th>\n",
              "      <td>2</td>\n",
              "      <td>Which city does David Soul come from?</td>\n",
              "      <td>Chicago</td>\n",
              "    </tr>\n",
              "    <tr>\n",
              "      <th>3</th>\n",
              "      <td>3</td>\n",
              "      <td>Who won Super Bowl XX?</td>\n",
              "      <td>Chicago Bears</td>\n",
              "    </tr>\n",
              "    <tr>\n",
              "      <th>4</th>\n",
              "      <td>4</td>\n",
              "      <td>Which was the first European country to abolis...</td>\n",
              "      <td>Norway</td>\n",
              "    </tr>\n",
              "  </tbody>\n",
              "</table>\n",
              "</div>"
            ],
            "text/plain": [
              "   Unnamed: 0                                                  0              1\n",
              "0           0         Where in England was Dame Judi Dench born?           York\n",
              "1           1  From which country did Angola achieve independ...       Portugal\n",
              "2           2              Which city does David Soul come from?        Chicago\n",
              "3           3                             Who won Super Bowl XX?  Chicago Bears\n",
              "4           4  Which was the first European country to abolis...         Norway"
            ]
          },
          "metadata": {},
          "execution_count": 11
        }
      ]
    },
    {
      "cell_type": "code",
      "metadata": {
        "colab": {
          "base_uri": "https://localhost:8080/"
        },
        "id": "42fx4yJbsIPE",
        "outputId": "9e3d1d4b-37d2-4d21-94d5-ba5debb247b2"
      },
      "source": [
        "en_trivia_qa.shape"
      ],
      "execution_count": 12,
      "outputs": [
        {
          "output_type": "execute_result",
          "data": {
            "text/plain": [
              "(58018, 3)"
            ]
          },
          "metadata": {},
          "execution_count": 12
        }
      ]
    },
    {
      "cell_type": "code",
      "metadata": {
        "colab": {
          "base_uri": "https://localhost:8080/"
        },
        "id": "I88mNoB7sMH4",
        "outputId": "fd70ea63-495c-48fe-a6ae-fef87758104a"
      },
      "source": [
        "qids = np.arange(len(en_trivia_qa))\n",
        "np.random.seed(0)\n",
        "np.random.shuffle(qids)\n",
        "print(qids[:10])"
      ],
      "execution_count": 13,
      "outputs": [
        {
          "output_type": "stream",
          "text": [
            "[17114 35183 46480 12596 55446 18361 56939 15779  3745 44208]\n"
          ],
          "name": "stdout"
        }
      ]
    },
    {
      "cell_type": "code",
      "metadata": {
        "id": "c28M_yXyesJm"
      },
      "source": [
        "SAMPLE_SIZE = 2048 * 2"
      ],
      "execution_count": 14,
      "outputs": []
    },
    {
      "cell_type": "code",
      "metadata": {
        "id": "xm-OfvdWtAca"
      },
      "source": [
        "import tqdm\n",
        "\n",
        "batch_size = 16\n",
        "qs_translated = []\n",
        "for batch in tqdm.tqdm(np.arange(0, SAMPLE_SIZE, batch_size), position=0):\n",
        "  qbatch = qids[batch:batch + batch_size]\n",
        "  qs = en_trivia_qa.values[qbatch, 1]\n",
        "  qs_tr = translate_batch(qs)\n",
        "  qs_translated.extend(qs_tr)"
      ],
      "execution_count": 46,
      "outputs": []
    },
    {
      "cell_type": "code",
      "metadata": {
        "id": "BOmYMi2t6kK7"
      },
      "source": [
        "# np.save(MOUNT_DIR + \"qs_translated_4K\", qs_translated)\n",
        "qs_translated = np.load(MOUNT_DIR + \"qs_translated_4K.npy\", allow_pickle=True)"
      ],
      "execution_count": 16,
      "outputs": []
    },
    {
      "cell_type": "code",
      "metadata": {
        "colab": {
          "base_uri": "https://localhost:8080/"
        },
        "id": "udzVLPF8B_V2",
        "outputId": "a3da3f28-2a67-415e-e556-ef549c3143c7"
      },
      "source": [
        "qs_translated[:5]"
      ],
      "execution_count": 17,
      "outputs": [
        {
          "output_type": "execute_result",
          "data": {
            "text/plain": [
              "array(['Компания Loake Brothers, основанная в 1880 году, известна своим высоким качеством.',\n",
              "       '\"Кто играет главную роль в фильме\" Бэтмен \"?',\n",
              "       'Под каким названием проходят съемки фильма \"Лед и пламя\"?',\n",
              "       'По словам его создателя, какой известный вымышленный персонаж, в свою очередь, лгал о своем возрасте, чтобы попасть в резерв Королевского военно-морского флота во время Второй мировой войны, из которого он вышел в качестве командира?',\n",
              "       'Кто такой \"Розовая пантера\"?'], dtype='<U1378')"
            ]
          },
          "metadata": {},
          "execution_count": 17
        }
      ]
    },
    {
      "cell_type": "code",
      "metadata": {
        "id": "6X2RoUf1u9om"
      },
      "source": [
        "import tqdm\n",
        "\n",
        "NEGATIVES = 10\n",
        "\n",
        "qat_candidates = []\n",
        "\n",
        "np.random.seed(0)\n",
        "\n",
        "for i in tqdm.tqdm(np.arange(2 * SAMPLE_SIZE), position=0):\n",
        "    idx = qids[i]\n",
        "    negids = np.random.choice(qids, NEGATIVES)\n",
        "    lls = []\n",
        "    q_tr = qs_translated_all[i]\n",
        "    ra = en_trivia_qa.values[idx][2]\n",
        "    answers = [ra,]\n",
        "    for neg in negids:\n",
        "        if neg == idx:\n",
        "            continue\n",
        "        a = en_trivia_qa.values[neg][2]\n",
        "        answers.append(a)\n",
        "    answers_tr = translate_batch(answers)\n",
        "    qat_candidates.append((q_tr, answers_tr))"
      ],
      "execution_count": null,
      "outputs": []
    },
    {
      "cell_type": "code",
      "metadata": {
        "id": "C1enMUDfkYkp"
      },
      "source": [
        "qat_candidates = np.load(MOUNT_DIR + \"en_triviaQA_translated_qat_candidates_4K.npy\", allow_pickle=True)"
      ],
      "execution_count": 18,
      "outputs": []
    },
    {
      "cell_type": "code",
      "metadata": {
        "colab": {
          "base_uri": "https://localhost:8080/"
        },
        "id": "Lw-ksxRlxNy6",
        "outputId": "e0b879fc-88ec-4fd5-871f-f26faa76ae4a"
      },
      "source": [
        "qat_candidates[0]"
      ],
      "execution_count": 29,
      "outputs": [
        {
          "output_type": "execute_result",
          "data": {
            "text/plain": [
              "array(['Компания Loake Brothers, основанная в 1880 году, известна своим высоким качеством.',\n",
              "       list(['Обувь', 'Виктория Азаренка', 'Браун', 'Баптистская церковь Уэстборо', 'The Lion King', 'Ремесло', 'Дания', 'Эритреа', 'Пролив Кука', 'Yango', 'Бостон'])],\n",
              "      dtype=object)"
            ]
          },
          "metadata": {},
          "execution_count": 29
        }
      ]
    },
    {
      "cell_type": "code",
      "metadata": {
        "colab": {
          "base_uri": "https://localhost:8080/"
        },
        "id": "bLXXGBw1sg2j",
        "outputId": "7a6a1226-ab1c-4fdc-83da-22bcc6c19d84"
      },
      "source": [
        "import tqdm\n",
        "\n",
        "NEGATIVES = 10\n",
        "\n",
        "qat_pairs = []\n",
        "\n",
        "np.random.seed(0)\n",
        "\n",
        "for i in tqdm.tqdm(np.arange(SAMPLE_SIZE), position=0):\n",
        "  idx = qids[i]\n",
        "  lls = []\n",
        "  q_tr = qs_translated[i]\n",
        "  ra_tr = qat_candidates[i][1][0]\n",
        "  for a_neg_tr in qat_candidates[i][1][1:]:\n",
        "    _ll = calc_likelihood(q_tr + \" \" +  a_neg_tr)\n",
        "    lls.append((_ll, a_neg_tr))\n",
        "  lls = sorted(lls, key=lambda x:x[0])\n",
        "  hard_neg_1_a_tr = lls[-1][1]\n",
        "  hard_neg_2_a_tr = lls[-2][1]\n",
        "  order = np.random.permutation(3)\n",
        "  sample = [\n",
        "            (q_tr, ra_tr, 1),\n",
        "            (q_tr, hard_neg_1_a_tr, 0),\n",
        "            (q_tr, hard_neg_2_a_tr, 0),\n",
        "  ]\n",
        "  qat_pairs.append(sample[order[0]])\n",
        "  qat_pairs.append(sample[order[1]])\n",
        "  qat_pairs.append(sample[order[2]])"
      ],
      "execution_count": 34,
      "outputs": [
        {
          "output_type": "stream",
          "text": [
            "100%|██████████| 4096/4096 [23:42<00:00,  2.88it/s]\n"
          ],
          "name": "stderr"
        }
      ]
    },
    {
      "cell_type": "code",
      "metadata": {
        "id": "urvWeqvovlfV"
      },
      "source": [
        "# np.save(MOUNT_DIR + \"en_triviaQA_translated_with_negatives_qat_pairs_4K.npy\", qat_pairs)"
      ],
      "execution_count": 35,
      "outputs": []
    },
    {
      "cell_type": "code",
      "metadata": {
        "colab": {
          "base_uri": "https://localhost:8080/"
        },
        "id": "fQKLdkgCtnPB",
        "outputId": "26522697-f2c6-4c3a-f95b-19ab9517c522"
      },
      "source": [
        "qat_pairs[:6]"
      ],
      "execution_count": 36,
      "outputs": [
        {
          "output_type": "execute_result",
          "data": {
            "text/plain": [
              "[('Компания Loake Brothers, основанная в 1880 году, известна своим высоким качеством.',\n",
              "  'The Lion King',\n",
              "  0),\n",
              " ('Компания Loake Brothers, основанная в 1880 году, известна своим высоким качеством.',\n",
              "  'Баптистская церковь Уэстборо',\n",
              "  0),\n",
              " ('Компания Loake Brothers, основанная в 1880 году, известна своим высоким качеством.',\n",
              "  'Обувь',\n",
              "  1),\n",
              " ('\"Кто играет главную роль в фильме\" Бэтмен \"?', 'Уиттингтон, Ричард', 0),\n",
              " ('\"Кто играет главную роль в фильме\" Бэтмен \"?', 'Мишель Баффер', 1),\n",
              " ('\"Кто играет главную роль в фильме\" Бэтмен \"?',\n",
              "  'Ошибки, допущенные в ходе выборов, могут привести к тому, что многие избиратели не смогут проголосовать за кандидата в президенты США от Республиканской партии Дональда Трампа, который, по их мнению, является наиболее вероятным кандидатом от Республиканской партии на предстоящих президентских выборах в 2016 году.',\n",
              "  0)]"
            ]
          },
          "metadata": {},
          "execution_count": 36
        }
      ]
    },
    {
      "cell_type": "code",
      "metadata": {
        "id": "ChJWBfOOtoI0"
      },
      "source": [
        "def pairs2dataset(arr: np.array) -> pd.DataFrame:\n",
        "  res = []\n",
        "  # idx, q, a1, a2, a3, _ = line\n",
        "  idx = 0\n",
        "  for i in np.arange(0, len(arr), 3):\n",
        "    q = arr[i][0]\n",
        "    a1 = arr[i][1]\n",
        "    a2 = arr[i+1][1]\n",
        "    a3 = arr[i+2][1]\n",
        "    t = np.argmax([arr[i][2], arr[i+1][2], arr[i+2][2]])\n",
        "    res.append([idx, q, a1, a2, a3, t])\n",
        "    idx += 1\n",
        "  return pd.DataFrame(res)"
      ],
      "execution_count": 46,
      "outputs": []
    },
    {
      "cell_type": "code",
      "metadata": {
        "id": "ENEuyih5vLw2"
      },
      "source": [
        "en_ru_4k_dataset = pairs2dataset(qat_pairs)"
      ],
      "execution_count": 47,
      "outputs": []
    },
    {
      "cell_type": "code",
      "metadata": {
        "colab": {
          "base_uri": "https://localhost:8080/",
          "height": 204
        },
        "id": "SAksy0YZ5ApC",
        "outputId": "440af749-41f8-4094-d125-6269b8758b1a"
      },
      "source": [
        "en_ru_4k_dataset.head()"
      ],
      "execution_count": 48,
      "outputs": [
        {
          "output_type": "execute_result",
          "data": {
            "text/html": [
              "<div>\n",
              "<style scoped>\n",
              "    .dataframe tbody tr th:only-of-type {\n",
              "        vertical-align: middle;\n",
              "    }\n",
              "\n",
              "    .dataframe tbody tr th {\n",
              "        vertical-align: top;\n",
              "    }\n",
              "\n",
              "    .dataframe thead th {\n",
              "        text-align: right;\n",
              "    }\n",
              "</style>\n",
              "<table border=\"1\" class=\"dataframe\">\n",
              "  <thead>\n",
              "    <tr style=\"text-align: right;\">\n",
              "      <th></th>\n",
              "      <th>0</th>\n",
              "      <th>1</th>\n",
              "      <th>2</th>\n",
              "      <th>3</th>\n",
              "      <th>4</th>\n",
              "      <th>5</th>\n",
              "    </tr>\n",
              "  </thead>\n",
              "  <tbody>\n",
              "    <tr>\n",
              "      <th>0</th>\n",
              "      <td>0</td>\n",
              "      <td>Компания Loake Brothers, основанная в 1880 год...</td>\n",
              "      <td>The Lion King</td>\n",
              "      <td>Баптистская церковь Уэстборо</td>\n",
              "      <td>Обувь</td>\n",
              "      <td>2</td>\n",
              "    </tr>\n",
              "    <tr>\n",
              "      <th>1</th>\n",
              "      <td>1</td>\n",
              "      <td>\"Кто играет главную роль в фильме\" Бэтмен \"?</td>\n",
              "      <td>Уиттингтон, Ричард</td>\n",
              "      <td>Мишель Баффер</td>\n",
              "      <td>Ошибки, допущенные в ходе выборов, могут приве...</td>\n",
              "      <td>1</td>\n",
              "    </tr>\n",
              "    <tr>\n",
              "      <th>2</th>\n",
              "      <td>2</td>\n",
              "      <td>Под каким названием проходят съемки фильма \"Ле...</td>\n",
              "      <td>Игра престолов</td>\n",
              "      <td>Жан Симмонс</td>\n",
              "      <td>Мэри Квант</td>\n",
              "      <td>0</td>\n",
              "    </tr>\n",
              "    <tr>\n",
              "      <th>3</th>\n",
              "      <td>3</td>\n",
              "      <td>По словам его создателя, какой известный вымыш...</td>\n",
              "      <td>Троллоп, Энтони</td>\n",
              "      <td>Джеймс Бонд</td>\n",
              "      <td>Мария (мать Иисуса)</td>\n",
              "      <td>1</td>\n",
              "    </tr>\n",
              "    <tr>\n",
              "      <th>4</th>\n",
              "      <td>4</td>\n",
              "      <td>Кто такой \"Розовая пантера\"?</td>\n",
              "      <td>Улус-часы</td>\n",
              "      <td>В то же время, несмотря на то, что в настоящее...</td>\n",
              "      <td>Манчини, Генри</td>\n",
              "      <td>2</td>\n",
              "    </tr>\n",
              "  </tbody>\n",
              "</table>\n",
              "</div>"
            ],
            "text/plain": [
              "   0  ...  5\n",
              "0  0  ...  2\n",
              "1  1  ...  1\n",
              "2  2  ...  0\n",
              "3  3  ...  1\n",
              "4  4  ...  2\n",
              "\n",
              "[5 rows x 6 columns]"
            ]
          },
          "metadata": {},
          "execution_count": 48
        }
      ]
    },
    {
      "cell_type": "code",
      "metadata": {
        "colab": {
          "base_uri": "https://localhost:8080/"
        },
        "id": "krWkHXqy5D2h",
        "outputId": "70c7b14a-f538-40a6-cf42-7728ff5d2f85"
      },
      "source": [
        "en_ru_4k_bundle = prepare_dataset_bundle(en_ru_4k_dataset)"
      ],
      "execution_count": 50,
      "outputs": [
        {
          "output_type": "stream",
          "text": [
            "100%|██████████| 4096/4096 [10:15<00:00,  6.66it/s]\n"
          ],
          "name": "stderr"
        }
      ]
    },
    {
      "cell_type": "code",
      "metadata": {
        "id": "bc3MQz2W9bvI"
      },
      "source": [
        "np.save(MOUNT_DIR + \"en_ru_4k_dataset\", en_ru_4k_dataset)"
      ],
      "execution_count": 53,
      "outputs": []
    },
    {
      "cell_type": "code",
      "metadata": {
        "id": "8aDwdZ1Z8uqQ"
      },
      "source": [
        "np.save(MOUNT_DIR + \"en_ru_4k_bundle\", en_ru_4k_bundle)"
      ],
      "execution_count": 52,
      "outputs": []
    },
    {
      "cell_type": "code",
      "metadata": {
        "id": "hOG-F0iE5ngS"
      },
      "source": [
        "def make_pairs_with_negatives(qa_bundle: np.array, with_bundle:bool=False) -> np.array:\n",
        "    import tqdm\n",
        "\n",
        "    NEGATIVES = 10\n",
        "\n",
        "    qat_pairs = []\n",
        "\n",
        "    np.random.seed(0)\n",
        "\n",
        "    for i in tqdm.tqdm(np.arange(qa_bundle.shape[0]), position=0):\n",
        "        lls = []\n",
        "        q = qa_bundle[i][0]\n",
        "        ra = qa_bundle[i][1]\n",
        "        negids = np.random.choice(np.arange(qa_bundle.shape[0]), NEGATIVES)\n",
        "        lls = []\n",
        "        answers = []\n",
        "        for neg in negids:\n",
        "            if neg == i:\n",
        "                continue\n",
        "            a_neg = qa_bundle[neg][1]\n",
        "            _ll = calc_likelihood(q + \" \" +  a_neg)\n",
        "            lls.append((_ll, a_neg))\n",
        "        lls = sorted(lls, key=lambda x:x[0])\n",
        "        hard_neg_1_a = lls[-1][1]\n",
        "        hard_neg_2_a = lls[-2][1]\n",
        "        \n",
        "        order = np.random.permutation(3)\n",
        "        sents = np.array([ra, hard_neg_1_a, hard_neg_2_a])[order]\n",
        "        b = None\n",
        "        if with_bundle:\n",
        "            b = make_bundle(q, sents)\n",
        "        qat_pairs.append([q,] + list(sents) + [np.argmin(order), b])\n",
        "    return qat_pairs"
      ],
      "execution_count": 17,
      "outputs": []
    },
    {
      "cell_type": "code",
      "metadata": {
        "id": "2W0KDUxbA15F"
      },
      "source": [
        "rubq_qa = pd.read_csv(MOUNT_DIR + \"rubq_questions_bundle.csv\")"
      ],
      "execution_count": 11,
      "outputs": []
    },
    {
      "cell_type": "code",
      "metadata": {
        "colab": {
          "base_uri": "https://localhost:8080/"
        },
        "id": "v3Dz3aeTaNVc",
        "outputId": "2cb79179-536a-4c99-fc5b-b003afb83a60"
      },
      "source": [
        "rubq_qa.values"
      ],
      "execution_count": 13,
      "outputs": [
        {
          "output_type": "execute_result",
          "data": {
            "text/plain": [
              "array([[0, 'Что может вызвать цунами?', 'Землетрясение'],\n",
              "       [1, 'Кто написал роман «Хижина дяди Тома»?', 'Г. Бичер-Стоу'],\n",
              "       [2, 'Кто автор пьесы «Ромео и Джульетта»?', 'Шекспир'],\n",
              "       ...,\n",
              "       [2327, 'В каком году сняли с производства Jaguar E-type?', '1974'],\n",
              "       [2328,\n",
              "        'С какого года закончили выпускать Rolls-Royce Silver Ghost?',\n",
              "        '1926'],\n",
              "       [2329, 'В каком году сняли с производства Porsche 550?', '1956']],\n",
              "      dtype=object)"
            ]
          },
          "metadata": {},
          "execution_count": 13
        }
      ]
    },
    {
      "cell_type": "code",
      "metadata": {
        "id": "pbT5xIK4ahbY"
      },
      "source": [
        "rubq_qat_pairs = make_pairs_with_negatives(rubq_qa.values[:, 1:], True)"
      ],
      "execution_count": null,
      "outputs": []
    },
    {
      "cell_type": "code",
      "metadata": {
        "id": "76on7C5gV6P6"
      },
      "source": [
        "np.save(MOUNT_DIR + \"rubq_qat_pairs\", rubq_qat_pairs)"
      ],
      "execution_count": null,
      "outputs": []
    }
  ]
}