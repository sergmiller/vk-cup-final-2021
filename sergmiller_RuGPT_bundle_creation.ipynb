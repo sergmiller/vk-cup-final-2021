{
  "nbformat": 4,
  "nbformat_minor": 0,
  "metadata": {
    "colab": {
      "name": "sergmiller-RuGPT-bundle-creation",
      "provenance": [],
      "collapsed_sections": [],
      "include_colab_link": true
    },
    "kernelspec": {
      "name": "python3",
      "display_name": "Python 3"
    },
    "language_info": {
      "name": "python"
    },
    "accelerator": "GPU",
    "widgets": {
      "application/vnd.jupyter.widget-state+json": {
        "fa81f62c3fca4ad288063450579e8df3": {
          "model_module": "@jupyter-widgets/controls",
          "model_name": "HBoxModel",
          "model_module_version": "1.5.0",
          "state": {
            "_view_name": "HBoxView",
            "_dom_classes": [],
            "_model_name": "HBoxModel",
            "_view_module": "@jupyter-widgets/controls",
            "_model_module_version": "1.5.0",
            "_view_count": null,
            "_view_module_version": "1.5.0",
            "box_style": "",
            "layout": "IPY_MODEL_9dc3b4cebce34c6cb07c36c622530649",
            "_model_module": "@jupyter-widgets/controls",
            "children": [
              "IPY_MODEL_1480ccd6ee024858a16f1a28a214230d",
              "IPY_MODEL_9750a1b1d0b848d4bcf6d7a60bb31192",
              "IPY_MODEL_7b645126513a4b36aac401a58e9d1891"
            ]
          }
        },
        "9dc3b4cebce34c6cb07c36c622530649": {
          "model_module": "@jupyter-widgets/base",
          "model_name": "LayoutModel",
          "model_module_version": "1.2.0",
          "state": {
            "_view_name": "LayoutView",
            "grid_template_rows": null,
            "right": null,
            "justify_content": null,
            "_view_module": "@jupyter-widgets/base",
            "overflow": null,
            "_model_module_version": "1.2.0",
            "_view_count": null,
            "flex_flow": null,
            "width": null,
            "min_width": null,
            "border": null,
            "align_items": null,
            "bottom": null,
            "_model_module": "@jupyter-widgets/base",
            "top": null,
            "grid_column": null,
            "overflow_y": null,
            "overflow_x": null,
            "grid_auto_flow": null,
            "grid_area": null,
            "grid_template_columns": null,
            "flex": null,
            "_model_name": "LayoutModel",
            "justify_items": null,
            "grid_row": null,
            "max_height": null,
            "align_content": null,
            "visibility": null,
            "align_self": null,
            "height": null,
            "min_height": null,
            "padding": null,
            "grid_auto_rows": null,
            "grid_gap": null,
            "max_width": null,
            "order": null,
            "_view_module_version": "1.2.0",
            "grid_template_areas": null,
            "object_position": null,
            "object_fit": null,
            "grid_auto_columns": null,
            "margin": null,
            "display": null,
            "left": null
          }
        },
        "1480ccd6ee024858a16f1a28a214230d": {
          "model_module": "@jupyter-widgets/controls",
          "model_name": "HTMLModel",
          "model_module_version": "1.5.0",
          "state": {
            "_view_name": "HTMLView",
            "style": "IPY_MODEL_d34408a72e114ba8b4ae2d8fd8c766f7",
            "_dom_classes": [],
            "description": "",
            "_model_name": "HTMLModel",
            "placeholder": "​",
            "_view_module": "@jupyter-widgets/controls",
            "_model_module_version": "1.5.0",
            "value": "Downloading: 100%",
            "_view_count": null,
            "_view_module_version": "1.5.0",
            "description_tooltip": null,
            "_model_module": "@jupyter-widgets/controls",
            "layout": "IPY_MODEL_80205f0744084b37bfb5bd461ea0b441"
          }
        },
        "9750a1b1d0b848d4bcf6d7a60bb31192": {
          "model_module": "@jupyter-widgets/controls",
          "model_name": "FloatProgressModel",
          "model_module_version": "1.5.0",
          "state": {
            "_view_name": "ProgressView",
            "style": "IPY_MODEL_b5e3769bfecb4e5999bdf9a6660be6f0",
            "_dom_classes": [],
            "description": "",
            "_model_name": "FloatProgressModel",
            "bar_style": "success",
            "max": 1713123,
            "_view_module": "@jupyter-widgets/controls",
            "_model_module_version": "1.5.0",
            "value": 1713123,
            "_view_count": null,
            "_view_module_version": "1.5.0",
            "orientation": "horizontal",
            "min": 0,
            "description_tooltip": null,
            "_model_module": "@jupyter-widgets/controls",
            "layout": "IPY_MODEL_3c51e9309b5f4252b9cb9780497def74"
          }
        },
        "7b645126513a4b36aac401a58e9d1891": {
          "model_module": "@jupyter-widgets/controls",
          "model_name": "HTMLModel",
          "model_module_version": "1.5.0",
          "state": {
            "_view_name": "HTMLView",
            "style": "IPY_MODEL_ba64827918b541b496011c25308e53c1",
            "_dom_classes": [],
            "description": "",
            "_model_name": "HTMLModel",
            "placeholder": "​",
            "_view_module": "@jupyter-widgets/controls",
            "_model_module_version": "1.5.0",
            "value": " 1.71M/1.71M [00:01&lt;00:00, 2.03MB/s]",
            "_view_count": null,
            "_view_module_version": "1.5.0",
            "description_tooltip": null,
            "_model_module": "@jupyter-widgets/controls",
            "layout": "IPY_MODEL_fe882d57c6aa4b7aadd9bb47c7695333"
          }
        },
        "d34408a72e114ba8b4ae2d8fd8c766f7": {
          "model_module": "@jupyter-widgets/controls",
          "model_name": "DescriptionStyleModel",
          "model_module_version": "1.5.0",
          "state": {
            "_view_name": "StyleView",
            "_model_name": "DescriptionStyleModel",
            "description_width": "",
            "_view_module": "@jupyter-widgets/base",
            "_model_module_version": "1.5.0",
            "_view_count": null,
            "_view_module_version": "1.2.0",
            "_model_module": "@jupyter-widgets/controls"
          }
        },
        "80205f0744084b37bfb5bd461ea0b441": {
          "model_module": "@jupyter-widgets/base",
          "model_name": "LayoutModel",
          "model_module_version": "1.2.0",
          "state": {
            "_view_name": "LayoutView",
            "grid_template_rows": null,
            "right": null,
            "justify_content": null,
            "_view_module": "@jupyter-widgets/base",
            "overflow": null,
            "_model_module_version": "1.2.0",
            "_view_count": null,
            "flex_flow": null,
            "width": null,
            "min_width": null,
            "border": null,
            "align_items": null,
            "bottom": null,
            "_model_module": "@jupyter-widgets/base",
            "top": null,
            "grid_column": null,
            "overflow_y": null,
            "overflow_x": null,
            "grid_auto_flow": null,
            "grid_area": null,
            "grid_template_columns": null,
            "flex": null,
            "_model_name": "LayoutModel",
            "justify_items": null,
            "grid_row": null,
            "max_height": null,
            "align_content": null,
            "visibility": null,
            "align_self": null,
            "height": null,
            "min_height": null,
            "padding": null,
            "grid_auto_rows": null,
            "grid_gap": null,
            "max_width": null,
            "order": null,
            "_view_module_version": "1.2.0",
            "grid_template_areas": null,
            "object_position": null,
            "object_fit": null,
            "grid_auto_columns": null,
            "margin": null,
            "display": null,
            "left": null
          }
        },
        "b5e3769bfecb4e5999bdf9a6660be6f0": {
          "model_module": "@jupyter-widgets/controls",
          "model_name": "ProgressStyleModel",
          "model_module_version": "1.5.0",
          "state": {
            "_view_name": "StyleView",
            "_model_name": "ProgressStyleModel",
            "description_width": "",
            "_view_module": "@jupyter-widgets/base",
            "_model_module_version": "1.5.0",
            "_view_count": null,
            "_view_module_version": "1.2.0",
            "bar_color": null,
            "_model_module": "@jupyter-widgets/controls"
          }
        },
        "3c51e9309b5f4252b9cb9780497def74": {
          "model_module": "@jupyter-widgets/base",
          "model_name": "LayoutModel",
          "model_module_version": "1.2.0",
          "state": {
            "_view_name": "LayoutView",
            "grid_template_rows": null,
            "right": null,
            "justify_content": null,
            "_view_module": "@jupyter-widgets/base",
            "overflow": null,
            "_model_module_version": "1.2.0",
            "_view_count": null,
            "flex_flow": null,
            "width": null,
            "min_width": null,
            "border": null,
            "align_items": null,
            "bottom": null,
            "_model_module": "@jupyter-widgets/base",
            "top": null,
            "grid_column": null,
            "overflow_y": null,
            "overflow_x": null,
            "grid_auto_flow": null,
            "grid_area": null,
            "grid_template_columns": null,
            "flex": null,
            "_model_name": "LayoutModel",
            "justify_items": null,
            "grid_row": null,
            "max_height": null,
            "align_content": null,
            "visibility": null,
            "align_self": null,
            "height": null,
            "min_height": null,
            "padding": null,
            "grid_auto_rows": null,
            "grid_gap": null,
            "max_width": null,
            "order": null,
            "_view_module_version": "1.2.0",
            "grid_template_areas": null,
            "object_position": null,
            "object_fit": null,
            "grid_auto_columns": null,
            "margin": null,
            "display": null,
            "left": null
          }
        },
        "ba64827918b541b496011c25308e53c1": {
          "model_module": "@jupyter-widgets/controls",
          "model_name": "DescriptionStyleModel",
          "model_module_version": "1.5.0",
          "state": {
            "_view_name": "StyleView",
            "_model_name": "DescriptionStyleModel",
            "description_width": "",
            "_view_module": "@jupyter-widgets/base",
            "_model_module_version": "1.5.0",
            "_view_count": null,
            "_view_module_version": "1.2.0",
            "_model_module": "@jupyter-widgets/controls"
          }
        },
        "fe882d57c6aa4b7aadd9bb47c7695333": {
          "model_module": "@jupyter-widgets/base",
          "model_name": "LayoutModel",
          "model_module_version": "1.2.0",
          "state": {
            "_view_name": "LayoutView",
            "grid_template_rows": null,
            "right": null,
            "justify_content": null,
            "_view_module": "@jupyter-widgets/base",
            "overflow": null,
            "_model_module_version": "1.2.0",
            "_view_count": null,
            "flex_flow": null,
            "width": null,
            "min_width": null,
            "border": null,
            "align_items": null,
            "bottom": null,
            "_model_module": "@jupyter-widgets/base",
            "top": null,
            "grid_column": null,
            "overflow_y": null,
            "overflow_x": null,
            "grid_auto_flow": null,
            "grid_area": null,
            "grid_template_columns": null,
            "flex": null,
            "_model_name": "LayoutModel",
            "justify_items": null,
            "grid_row": null,
            "max_height": null,
            "align_content": null,
            "visibility": null,
            "align_self": null,
            "height": null,
            "min_height": null,
            "padding": null,
            "grid_auto_rows": null,
            "grid_gap": null,
            "max_width": null,
            "order": null,
            "_view_module_version": "1.2.0",
            "grid_template_areas": null,
            "object_position": null,
            "object_fit": null,
            "grid_auto_columns": null,
            "margin": null,
            "display": null,
            "left": null
          }
        },
        "09ac0a5cfeae43b8b1c6df66e3eb91c4": {
          "model_module": "@jupyter-widgets/controls",
          "model_name": "HBoxModel",
          "model_module_version": "1.5.0",
          "state": {
            "_view_name": "HBoxView",
            "_dom_classes": [],
            "_model_name": "HBoxModel",
            "_view_module": "@jupyter-widgets/controls",
            "_model_module_version": "1.5.0",
            "_view_count": null,
            "_view_module_version": "1.5.0",
            "box_style": "",
            "layout": "IPY_MODEL_4dbb44ff29b94feebeb28f00f059a927",
            "_model_module": "@jupyter-widgets/controls",
            "children": [
              "IPY_MODEL_876b71673e0a4598969f6a370b4dede1",
              "IPY_MODEL_e76c07120e884cdd8b584a5c6d379f4d",
              "IPY_MODEL_0540ab68811648beb14ee758afe7bfe5"
            ]
          }
        },
        "4dbb44ff29b94feebeb28f00f059a927": {
          "model_module": "@jupyter-widgets/base",
          "model_name": "LayoutModel",
          "model_module_version": "1.2.0",
          "state": {
            "_view_name": "LayoutView",
            "grid_template_rows": null,
            "right": null,
            "justify_content": null,
            "_view_module": "@jupyter-widgets/base",
            "overflow": null,
            "_model_module_version": "1.2.0",
            "_view_count": null,
            "flex_flow": null,
            "width": null,
            "min_width": null,
            "border": null,
            "align_items": null,
            "bottom": null,
            "_model_module": "@jupyter-widgets/base",
            "top": null,
            "grid_column": null,
            "overflow_y": null,
            "overflow_x": null,
            "grid_auto_flow": null,
            "grid_area": null,
            "grid_template_columns": null,
            "flex": null,
            "_model_name": "LayoutModel",
            "justify_items": null,
            "grid_row": null,
            "max_height": null,
            "align_content": null,
            "visibility": null,
            "align_self": null,
            "height": null,
            "min_height": null,
            "padding": null,
            "grid_auto_rows": null,
            "grid_gap": null,
            "max_width": null,
            "order": null,
            "_view_module_version": "1.2.0",
            "grid_template_areas": null,
            "object_position": null,
            "object_fit": null,
            "grid_auto_columns": null,
            "margin": null,
            "display": null,
            "left": null
          }
        },
        "876b71673e0a4598969f6a370b4dede1": {
          "model_module": "@jupyter-widgets/controls",
          "model_name": "HTMLModel",
          "model_module_version": "1.5.0",
          "state": {
            "_view_name": "HTMLView",
            "style": "IPY_MODEL_25925f853cd7485e930e1cfe9037b710",
            "_dom_classes": [],
            "description": "",
            "_model_name": "HTMLModel",
            "placeholder": "​",
            "_view_module": "@jupyter-widgets/controls",
            "_model_module_version": "1.5.0",
            "value": "Downloading: 100%",
            "_view_count": null,
            "_view_module_version": "1.5.0",
            "description_tooltip": null,
            "_model_module": "@jupyter-widgets/controls",
            "layout": "IPY_MODEL_35caa576717d4abd999bf396f303479c"
          }
        },
        "e76c07120e884cdd8b584a5c6d379f4d": {
          "model_module": "@jupyter-widgets/controls",
          "model_name": "FloatProgressModel",
          "model_module_version": "1.5.0",
          "state": {
            "_view_name": "ProgressView",
            "style": "IPY_MODEL_e1c8cb8d0bf7468aaffdc2cb8e85d595",
            "_dom_classes": [],
            "description": "",
            "_model_name": "FloatProgressModel",
            "bar_style": "success",
            "max": 1270925,
            "_view_module": "@jupyter-widgets/controls",
            "_model_module_version": "1.5.0",
            "value": 1270925,
            "_view_count": null,
            "_view_module_version": "1.5.0",
            "orientation": "horizontal",
            "min": 0,
            "description_tooltip": null,
            "_model_module": "@jupyter-widgets/controls",
            "layout": "IPY_MODEL_65feee0cec9a40e88c35594a5188e1d5"
          }
        },
        "0540ab68811648beb14ee758afe7bfe5": {
          "model_module": "@jupyter-widgets/controls",
          "model_name": "HTMLModel",
          "model_module_version": "1.5.0",
          "state": {
            "_view_name": "HTMLView",
            "style": "IPY_MODEL_3fe66399b1bd4c9ea871991b23fb5b9e",
            "_dom_classes": [],
            "description": "",
            "_model_name": "HTMLModel",
            "placeholder": "​",
            "_view_module": "@jupyter-widgets/controls",
            "_model_module_version": "1.5.0",
            "value": " 1.27M/1.27M [00:01&lt;00:00, 1.44MB/s]",
            "_view_count": null,
            "_view_module_version": "1.5.0",
            "description_tooltip": null,
            "_model_module": "@jupyter-widgets/controls",
            "layout": "IPY_MODEL_f746041748f14231b2ca7d069dee3407"
          }
        },
        "25925f853cd7485e930e1cfe9037b710": {
          "model_module": "@jupyter-widgets/controls",
          "model_name": "DescriptionStyleModel",
          "model_module_version": "1.5.0",
          "state": {
            "_view_name": "StyleView",
            "_model_name": "DescriptionStyleModel",
            "description_width": "",
            "_view_module": "@jupyter-widgets/base",
            "_model_module_version": "1.5.0",
            "_view_count": null,
            "_view_module_version": "1.2.0",
            "_model_module": "@jupyter-widgets/controls"
          }
        },
        "35caa576717d4abd999bf396f303479c": {
          "model_module": "@jupyter-widgets/base",
          "model_name": "LayoutModel",
          "model_module_version": "1.2.0",
          "state": {
            "_view_name": "LayoutView",
            "grid_template_rows": null,
            "right": null,
            "justify_content": null,
            "_view_module": "@jupyter-widgets/base",
            "overflow": null,
            "_model_module_version": "1.2.0",
            "_view_count": null,
            "flex_flow": null,
            "width": null,
            "min_width": null,
            "border": null,
            "align_items": null,
            "bottom": null,
            "_model_module": "@jupyter-widgets/base",
            "top": null,
            "grid_column": null,
            "overflow_y": null,
            "overflow_x": null,
            "grid_auto_flow": null,
            "grid_area": null,
            "grid_template_columns": null,
            "flex": null,
            "_model_name": "LayoutModel",
            "justify_items": null,
            "grid_row": null,
            "max_height": null,
            "align_content": null,
            "visibility": null,
            "align_self": null,
            "height": null,
            "min_height": null,
            "padding": null,
            "grid_auto_rows": null,
            "grid_gap": null,
            "max_width": null,
            "order": null,
            "_view_module_version": "1.2.0",
            "grid_template_areas": null,
            "object_position": null,
            "object_fit": null,
            "grid_auto_columns": null,
            "margin": null,
            "display": null,
            "left": null
          }
        },
        "e1c8cb8d0bf7468aaffdc2cb8e85d595": {
          "model_module": "@jupyter-widgets/controls",
          "model_name": "ProgressStyleModel",
          "model_module_version": "1.5.0",
          "state": {
            "_view_name": "StyleView",
            "_model_name": "ProgressStyleModel",
            "description_width": "",
            "_view_module": "@jupyter-widgets/base",
            "_model_module_version": "1.5.0",
            "_view_count": null,
            "_view_module_version": "1.2.0",
            "bar_color": null,
            "_model_module": "@jupyter-widgets/controls"
          }
        },
        "65feee0cec9a40e88c35594a5188e1d5": {
          "model_module": "@jupyter-widgets/base",
          "model_name": "LayoutModel",
          "model_module_version": "1.2.0",
          "state": {
            "_view_name": "LayoutView",
            "grid_template_rows": null,
            "right": null,
            "justify_content": null,
            "_view_module": "@jupyter-widgets/base",
            "overflow": null,
            "_model_module_version": "1.2.0",
            "_view_count": null,
            "flex_flow": null,
            "width": null,
            "min_width": null,
            "border": null,
            "align_items": null,
            "bottom": null,
            "_model_module": "@jupyter-widgets/base",
            "top": null,
            "grid_column": null,
            "overflow_y": null,
            "overflow_x": null,
            "grid_auto_flow": null,
            "grid_area": null,
            "grid_template_columns": null,
            "flex": null,
            "_model_name": "LayoutModel",
            "justify_items": null,
            "grid_row": null,
            "max_height": null,
            "align_content": null,
            "visibility": null,
            "align_self": null,
            "height": null,
            "min_height": null,
            "padding": null,
            "grid_auto_rows": null,
            "grid_gap": null,
            "max_width": null,
            "order": null,
            "_view_module_version": "1.2.0",
            "grid_template_areas": null,
            "object_position": null,
            "object_fit": null,
            "grid_auto_columns": null,
            "margin": null,
            "display": null,
            "left": null
          }
        },
        "3fe66399b1bd4c9ea871991b23fb5b9e": {
          "model_module": "@jupyter-widgets/controls",
          "model_name": "DescriptionStyleModel",
          "model_module_version": "1.5.0",
          "state": {
            "_view_name": "StyleView",
            "_model_name": "DescriptionStyleModel",
            "description_width": "",
            "_view_module": "@jupyter-widgets/base",
            "_model_module_version": "1.5.0",
            "_view_count": null,
            "_view_module_version": "1.2.0",
            "_model_module": "@jupyter-widgets/controls"
          }
        },
        "f746041748f14231b2ca7d069dee3407": {
          "model_module": "@jupyter-widgets/base",
          "model_name": "LayoutModel",
          "model_module_version": "1.2.0",
          "state": {
            "_view_name": "LayoutView",
            "grid_template_rows": null,
            "right": null,
            "justify_content": null,
            "_view_module": "@jupyter-widgets/base",
            "overflow": null,
            "_model_module_version": "1.2.0",
            "_view_count": null,
            "flex_flow": null,
            "width": null,
            "min_width": null,
            "border": null,
            "align_items": null,
            "bottom": null,
            "_model_module": "@jupyter-widgets/base",
            "top": null,
            "grid_column": null,
            "overflow_y": null,
            "overflow_x": null,
            "grid_auto_flow": null,
            "grid_area": null,
            "grid_template_columns": null,
            "flex": null,
            "_model_name": "LayoutModel",
            "justify_items": null,
            "grid_row": null,
            "max_height": null,
            "align_content": null,
            "visibility": null,
            "align_self": null,
            "height": null,
            "min_height": null,
            "padding": null,
            "grid_auto_rows": null,
            "grid_gap": null,
            "max_width": null,
            "order": null,
            "_view_module_version": "1.2.0",
            "grid_template_areas": null,
            "object_position": null,
            "object_fit": null,
            "grid_auto_columns": null,
            "margin": null,
            "display": null,
            "left": null
          }
        },
        "94e4f8074f0648ff8c04f2b8ba991861": {
          "model_module": "@jupyter-widgets/controls",
          "model_name": "HBoxModel",
          "model_module_version": "1.5.0",
          "state": {
            "_view_name": "HBoxView",
            "_dom_classes": [],
            "_model_name": "HBoxModel",
            "_view_module": "@jupyter-widgets/controls",
            "_model_module_version": "1.5.0",
            "_view_count": null,
            "_view_module_version": "1.5.0",
            "box_style": "",
            "layout": "IPY_MODEL_801415f6dd0849b1929e94abe9c05be7",
            "_model_module": "@jupyter-widgets/controls",
            "children": [
              "IPY_MODEL_efa4a463ace34ac8af5ff5be6a04f152",
              "IPY_MODEL_d0a51a7522074992971839b2a015569b",
              "IPY_MODEL_be6a5f8e9b444abf97603a4845b63f53"
            ]
          }
        },
        "801415f6dd0849b1929e94abe9c05be7": {
          "model_module": "@jupyter-widgets/base",
          "model_name": "LayoutModel",
          "model_module_version": "1.2.0",
          "state": {
            "_view_name": "LayoutView",
            "grid_template_rows": null,
            "right": null,
            "justify_content": null,
            "_view_module": "@jupyter-widgets/base",
            "overflow": null,
            "_model_module_version": "1.2.0",
            "_view_count": null,
            "flex_flow": null,
            "width": null,
            "min_width": null,
            "border": null,
            "align_items": null,
            "bottom": null,
            "_model_module": "@jupyter-widgets/base",
            "top": null,
            "grid_column": null,
            "overflow_y": null,
            "overflow_x": null,
            "grid_auto_flow": null,
            "grid_area": null,
            "grid_template_columns": null,
            "flex": null,
            "_model_name": "LayoutModel",
            "justify_items": null,
            "grid_row": null,
            "max_height": null,
            "align_content": null,
            "visibility": null,
            "align_self": null,
            "height": null,
            "min_height": null,
            "padding": null,
            "grid_auto_rows": null,
            "grid_gap": null,
            "max_width": null,
            "order": null,
            "_view_module_version": "1.2.0",
            "grid_template_areas": null,
            "object_position": null,
            "object_fit": null,
            "grid_auto_columns": null,
            "margin": null,
            "display": null,
            "left": null
          }
        },
        "efa4a463ace34ac8af5ff5be6a04f152": {
          "model_module": "@jupyter-widgets/controls",
          "model_name": "HTMLModel",
          "model_module_version": "1.5.0",
          "state": {
            "_view_name": "HTMLView",
            "style": "IPY_MODEL_5745122f3eb04a978c8093f180896cac",
            "_dom_classes": [],
            "description": "",
            "_model_name": "HTMLModel",
            "placeholder": "​",
            "_view_module": "@jupyter-widgets/controls",
            "_model_module_version": "1.5.0",
            "value": "Downloading: 100%",
            "_view_count": null,
            "_view_module_version": "1.5.0",
            "description_tooltip": null,
            "_model_module": "@jupyter-widgets/controls",
            "layout": "IPY_MODEL_200ad7b2b26743c2823498e6cf979488"
          }
        },
        "d0a51a7522074992971839b2a015569b": {
          "model_module": "@jupyter-widgets/controls",
          "model_name": "FloatProgressModel",
          "model_module_version": "1.5.0",
          "state": {
            "_view_name": "ProgressView",
            "style": "IPY_MODEL_27f4ddb6c1be46a287f335bafbbd42ac",
            "_dom_classes": [],
            "description": "",
            "_model_name": "FloatProgressModel",
            "bar_style": "success",
            "max": 609,
            "_view_module": "@jupyter-widgets/controls",
            "_model_module_version": "1.5.0",
            "value": 609,
            "_view_count": null,
            "_view_module_version": "1.5.0",
            "orientation": "horizontal",
            "min": 0,
            "description_tooltip": null,
            "_model_module": "@jupyter-widgets/controls",
            "layout": "IPY_MODEL_eff5cd9c1a1c4811a2288c2b78ee1317"
          }
        },
        "be6a5f8e9b444abf97603a4845b63f53": {
          "model_module": "@jupyter-widgets/controls",
          "model_name": "HTMLModel",
          "model_module_version": "1.5.0",
          "state": {
            "_view_name": "HTMLView",
            "style": "IPY_MODEL_798c2ad822454c9e91df4cd040b9c3d7",
            "_dom_classes": [],
            "description": "",
            "_model_name": "HTMLModel",
            "placeholder": "​",
            "_view_module": "@jupyter-widgets/controls",
            "_model_module_version": "1.5.0",
            "value": " 609/609 [00:00&lt;00:00, 11.8kB/s]",
            "_view_count": null,
            "_view_module_version": "1.5.0",
            "description_tooltip": null,
            "_model_module": "@jupyter-widgets/controls",
            "layout": "IPY_MODEL_0933050e556e4b56819fe1f11f216240"
          }
        },
        "5745122f3eb04a978c8093f180896cac": {
          "model_module": "@jupyter-widgets/controls",
          "model_name": "DescriptionStyleModel",
          "model_module_version": "1.5.0",
          "state": {
            "_view_name": "StyleView",
            "_model_name": "DescriptionStyleModel",
            "description_width": "",
            "_view_module": "@jupyter-widgets/base",
            "_model_module_version": "1.5.0",
            "_view_count": null,
            "_view_module_version": "1.2.0",
            "_model_module": "@jupyter-widgets/controls"
          }
        },
        "200ad7b2b26743c2823498e6cf979488": {
          "model_module": "@jupyter-widgets/base",
          "model_name": "LayoutModel",
          "model_module_version": "1.2.0",
          "state": {
            "_view_name": "LayoutView",
            "grid_template_rows": null,
            "right": null,
            "justify_content": null,
            "_view_module": "@jupyter-widgets/base",
            "overflow": null,
            "_model_module_version": "1.2.0",
            "_view_count": null,
            "flex_flow": null,
            "width": null,
            "min_width": null,
            "border": null,
            "align_items": null,
            "bottom": null,
            "_model_module": "@jupyter-widgets/base",
            "top": null,
            "grid_column": null,
            "overflow_y": null,
            "overflow_x": null,
            "grid_auto_flow": null,
            "grid_area": null,
            "grid_template_columns": null,
            "flex": null,
            "_model_name": "LayoutModel",
            "justify_items": null,
            "grid_row": null,
            "max_height": null,
            "align_content": null,
            "visibility": null,
            "align_self": null,
            "height": null,
            "min_height": null,
            "padding": null,
            "grid_auto_rows": null,
            "grid_gap": null,
            "max_width": null,
            "order": null,
            "_view_module_version": "1.2.0",
            "grid_template_areas": null,
            "object_position": null,
            "object_fit": null,
            "grid_auto_columns": null,
            "margin": null,
            "display": null,
            "left": null
          }
        },
        "27f4ddb6c1be46a287f335bafbbd42ac": {
          "model_module": "@jupyter-widgets/controls",
          "model_name": "ProgressStyleModel",
          "model_module_version": "1.5.0",
          "state": {
            "_view_name": "StyleView",
            "_model_name": "ProgressStyleModel",
            "description_width": "",
            "_view_module": "@jupyter-widgets/base",
            "_model_module_version": "1.5.0",
            "_view_count": null,
            "_view_module_version": "1.2.0",
            "bar_color": null,
            "_model_module": "@jupyter-widgets/controls"
          }
        },
        "eff5cd9c1a1c4811a2288c2b78ee1317": {
          "model_module": "@jupyter-widgets/base",
          "model_name": "LayoutModel",
          "model_module_version": "1.2.0",
          "state": {
            "_view_name": "LayoutView",
            "grid_template_rows": null,
            "right": null,
            "justify_content": null,
            "_view_module": "@jupyter-widgets/base",
            "overflow": null,
            "_model_module_version": "1.2.0",
            "_view_count": null,
            "flex_flow": null,
            "width": null,
            "min_width": null,
            "border": null,
            "align_items": null,
            "bottom": null,
            "_model_module": "@jupyter-widgets/base",
            "top": null,
            "grid_column": null,
            "overflow_y": null,
            "overflow_x": null,
            "grid_auto_flow": null,
            "grid_area": null,
            "grid_template_columns": null,
            "flex": null,
            "_model_name": "LayoutModel",
            "justify_items": null,
            "grid_row": null,
            "max_height": null,
            "align_content": null,
            "visibility": null,
            "align_self": null,
            "height": null,
            "min_height": null,
            "padding": null,
            "grid_auto_rows": null,
            "grid_gap": null,
            "max_width": null,
            "order": null,
            "_view_module_version": "1.2.0",
            "grid_template_areas": null,
            "object_position": null,
            "object_fit": null,
            "grid_auto_columns": null,
            "margin": null,
            "display": null,
            "left": null
          }
        },
        "798c2ad822454c9e91df4cd040b9c3d7": {
          "model_module": "@jupyter-widgets/controls",
          "model_name": "DescriptionStyleModel",
          "model_module_version": "1.5.0",
          "state": {
            "_view_name": "StyleView",
            "_model_name": "DescriptionStyleModel",
            "description_width": "",
            "_view_module": "@jupyter-widgets/base",
            "_model_module_version": "1.5.0",
            "_view_count": null,
            "_view_module_version": "1.2.0",
            "_model_module": "@jupyter-widgets/controls"
          }
        },
        "0933050e556e4b56819fe1f11f216240": {
          "model_module": "@jupyter-widgets/base",
          "model_name": "LayoutModel",
          "model_module_version": "1.2.0",
          "state": {
            "_view_name": "LayoutView",
            "grid_template_rows": null,
            "right": null,
            "justify_content": null,
            "_view_module": "@jupyter-widgets/base",
            "overflow": null,
            "_model_module_version": "1.2.0",
            "_view_count": null,
            "flex_flow": null,
            "width": null,
            "min_width": null,
            "border": null,
            "align_items": null,
            "bottom": null,
            "_model_module": "@jupyter-widgets/base",
            "top": null,
            "grid_column": null,
            "overflow_y": null,
            "overflow_x": null,
            "grid_auto_flow": null,
            "grid_area": null,
            "grid_template_columns": null,
            "flex": null,
            "_model_name": "LayoutModel",
            "justify_items": null,
            "grid_row": null,
            "max_height": null,
            "align_content": null,
            "visibility": null,
            "align_self": null,
            "height": null,
            "min_height": null,
            "padding": null,
            "grid_auto_rows": null,
            "grid_gap": null,
            "max_width": null,
            "order": null,
            "_view_module_version": "1.2.0",
            "grid_template_areas": null,
            "object_position": null,
            "object_fit": null,
            "grid_auto_columns": null,
            "margin": null,
            "display": null,
            "left": null
          }
        },
        "4f8e6db3eeea41ba983166d6e895045d": {
          "model_module": "@jupyter-widgets/controls",
          "model_name": "HBoxModel",
          "model_module_version": "1.5.0",
          "state": {
            "_view_name": "HBoxView",
            "_dom_classes": [],
            "_model_name": "HBoxModel",
            "_view_module": "@jupyter-widgets/controls",
            "_model_module_version": "1.5.0",
            "_view_count": null,
            "_view_module_version": "1.5.0",
            "box_style": "",
            "layout": "IPY_MODEL_974c4aad1e224a9d9a965e08d9e5c542",
            "_model_module": "@jupyter-widgets/controls",
            "children": [
              "IPY_MODEL_fc48fdab16034103805152eacef5a607",
              "IPY_MODEL_a961b182bf1f48fab0a193d0dd560b69",
              "IPY_MODEL_81a979b8004d4123b3f6c959565f7079"
            ]
          }
        },
        "974c4aad1e224a9d9a965e08d9e5c542": {
          "model_module": "@jupyter-widgets/base",
          "model_name": "LayoutModel",
          "model_module_version": "1.2.0",
          "state": {
            "_view_name": "LayoutView",
            "grid_template_rows": null,
            "right": null,
            "justify_content": null,
            "_view_module": "@jupyter-widgets/base",
            "overflow": null,
            "_model_module_version": "1.2.0",
            "_view_count": null,
            "flex_flow": null,
            "width": null,
            "min_width": null,
            "border": null,
            "align_items": null,
            "bottom": null,
            "_model_module": "@jupyter-widgets/base",
            "top": null,
            "grid_column": null,
            "overflow_y": null,
            "overflow_x": null,
            "grid_auto_flow": null,
            "grid_area": null,
            "grid_template_columns": null,
            "flex": null,
            "_model_name": "LayoutModel",
            "justify_items": null,
            "grid_row": null,
            "max_height": null,
            "align_content": null,
            "visibility": null,
            "align_self": null,
            "height": null,
            "min_height": null,
            "padding": null,
            "grid_auto_rows": null,
            "grid_gap": null,
            "max_width": null,
            "order": null,
            "_view_module_version": "1.2.0",
            "grid_template_areas": null,
            "object_position": null,
            "object_fit": null,
            "grid_auto_columns": null,
            "margin": null,
            "display": null,
            "left": null
          }
        },
        "fc48fdab16034103805152eacef5a607": {
          "model_module": "@jupyter-widgets/controls",
          "model_name": "HTMLModel",
          "model_module_version": "1.5.0",
          "state": {
            "_view_name": "HTMLView",
            "style": "IPY_MODEL_2040a4210f144d9c90ce1d0be90be015",
            "_dom_classes": [],
            "description": "",
            "_model_name": "HTMLModel",
            "placeholder": "​",
            "_view_module": "@jupyter-widgets/controls",
            "_model_module_version": "1.5.0",
            "value": "Downloading: 100%",
            "_view_count": null,
            "_view_module_version": "1.5.0",
            "description_tooltip": null,
            "_model_module": "@jupyter-widgets/controls",
            "layout": "IPY_MODEL_a2ab0bc935094c7fb21b8f62ab23fe17"
          }
        },
        "a961b182bf1f48fab0a193d0dd560b69": {
          "model_module": "@jupyter-widgets/controls",
          "model_name": "FloatProgressModel",
          "model_module_version": "1.5.0",
          "state": {
            "_view_name": "ProgressView",
            "style": "IPY_MODEL_38900e072bc44e1ab59d28f452e54ba6",
            "_dom_classes": [],
            "description": "",
            "_model_name": "FloatProgressModel",
            "bar_style": "success",
            "max": 3141928084,
            "_view_module": "@jupyter-widgets/controls",
            "_model_module_version": "1.5.0",
            "value": 3141928084,
            "_view_count": null,
            "_view_module_version": "1.5.0",
            "orientation": "horizontal",
            "min": 0,
            "description_tooltip": null,
            "_model_module": "@jupyter-widgets/controls",
            "layout": "IPY_MODEL_ce97ed2489a242258d52cdeb48f66f70"
          }
        },
        "81a979b8004d4123b3f6c959565f7079": {
          "model_module": "@jupyter-widgets/controls",
          "model_name": "HTMLModel",
          "model_module_version": "1.5.0",
          "state": {
            "_view_name": "HTMLView",
            "style": "IPY_MODEL_5f14b1fb8fbf48b7908d6f1d1cebf0da",
            "_dom_classes": [],
            "description": "",
            "_model_name": "HTMLModel",
            "placeholder": "​",
            "_view_module": "@jupyter-widgets/controls",
            "_model_module_version": "1.5.0",
            "value": " 3.14G/3.14G [01:36&lt;00:00, 32.9MB/s]",
            "_view_count": null,
            "_view_module_version": "1.5.0",
            "description_tooltip": null,
            "_model_module": "@jupyter-widgets/controls",
            "layout": "IPY_MODEL_24dad0f1b3c04bfcbeff852f63252b62"
          }
        },
        "2040a4210f144d9c90ce1d0be90be015": {
          "model_module": "@jupyter-widgets/controls",
          "model_name": "DescriptionStyleModel",
          "model_module_version": "1.5.0",
          "state": {
            "_view_name": "StyleView",
            "_model_name": "DescriptionStyleModel",
            "description_width": "",
            "_view_module": "@jupyter-widgets/base",
            "_model_module_version": "1.5.0",
            "_view_count": null,
            "_view_module_version": "1.2.0",
            "_model_module": "@jupyter-widgets/controls"
          }
        },
        "a2ab0bc935094c7fb21b8f62ab23fe17": {
          "model_module": "@jupyter-widgets/base",
          "model_name": "LayoutModel",
          "model_module_version": "1.2.0",
          "state": {
            "_view_name": "LayoutView",
            "grid_template_rows": null,
            "right": null,
            "justify_content": null,
            "_view_module": "@jupyter-widgets/base",
            "overflow": null,
            "_model_module_version": "1.2.0",
            "_view_count": null,
            "flex_flow": null,
            "width": null,
            "min_width": null,
            "border": null,
            "align_items": null,
            "bottom": null,
            "_model_module": "@jupyter-widgets/base",
            "top": null,
            "grid_column": null,
            "overflow_y": null,
            "overflow_x": null,
            "grid_auto_flow": null,
            "grid_area": null,
            "grid_template_columns": null,
            "flex": null,
            "_model_name": "LayoutModel",
            "justify_items": null,
            "grid_row": null,
            "max_height": null,
            "align_content": null,
            "visibility": null,
            "align_self": null,
            "height": null,
            "min_height": null,
            "padding": null,
            "grid_auto_rows": null,
            "grid_gap": null,
            "max_width": null,
            "order": null,
            "_view_module_version": "1.2.0",
            "grid_template_areas": null,
            "object_position": null,
            "object_fit": null,
            "grid_auto_columns": null,
            "margin": null,
            "display": null,
            "left": null
          }
        },
        "38900e072bc44e1ab59d28f452e54ba6": {
          "model_module": "@jupyter-widgets/controls",
          "model_name": "ProgressStyleModel",
          "model_module_version": "1.5.0",
          "state": {
            "_view_name": "StyleView",
            "_model_name": "ProgressStyleModel",
            "description_width": "",
            "_view_module": "@jupyter-widgets/base",
            "_model_module_version": "1.5.0",
            "_view_count": null,
            "_view_module_version": "1.2.0",
            "bar_color": null,
            "_model_module": "@jupyter-widgets/controls"
          }
        },
        "ce97ed2489a242258d52cdeb48f66f70": {
          "model_module": "@jupyter-widgets/base",
          "model_name": "LayoutModel",
          "model_module_version": "1.2.0",
          "state": {
            "_view_name": "LayoutView",
            "grid_template_rows": null,
            "right": null,
            "justify_content": null,
            "_view_module": "@jupyter-widgets/base",
            "overflow": null,
            "_model_module_version": "1.2.0",
            "_view_count": null,
            "flex_flow": null,
            "width": null,
            "min_width": null,
            "border": null,
            "align_items": null,
            "bottom": null,
            "_model_module": "@jupyter-widgets/base",
            "top": null,
            "grid_column": null,
            "overflow_y": null,
            "overflow_x": null,
            "grid_auto_flow": null,
            "grid_area": null,
            "grid_template_columns": null,
            "flex": null,
            "_model_name": "LayoutModel",
            "justify_items": null,
            "grid_row": null,
            "max_height": null,
            "align_content": null,
            "visibility": null,
            "align_self": null,
            "height": null,
            "min_height": null,
            "padding": null,
            "grid_auto_rows": null,
            "grid_gap": null,
            "max_width": null,
            "order": null,
            "_view_module_version": "1.2.0",
            "grid_template_areas": null,
            "object_position": null,
            "object_fit": null,
            "grid_auto_columns": null,
            "margin": null,
            "display": null,
            "left": null
          }
        },
        "5f14b1fb8fbf48b7908d6f1d1cebf0da": {
          "model_module": "@jupyter-widgets/controls",
          "model_name": "DescriptionStyleModel",
          "model_module_version": "1.5.0",
          "state": {
            "_view_name": "StyleView",
            "_model_name": "DescriptionStyleModel",
            "description_width": "",
            "_view_module": "@jupyter-widgets/base",
            "_model_module_version": "1.5.0",
            "_view_count": null,
            "_view_module_version": "1.2.0",
            "_model_module": "@jupyter-widgets/controls"
          }
        },
        "24dad0f1b3c04bfcbeff852f63252b62": {
          "model_module": "@jupyter-widgets/base",
          "model_name": "LayoutModel",
          "model_module_version": "1.2.0",
          "state": {
            "_view_name": "LayoutView",
            "grid_template_rows": null,
            "right": null,
            "justify_content": null,
            "_view_module": "@jupyter-widgets/base",
            "overflow": null,
            "_model_module_version": "1.2.0",
            "_view_count": null,
            "flex_flow": null,
            "width": null,
            "min_width": null,
            "border": null,
            "align_items": null,
            "bottom": null,
            "_model_module": "@jupyter-widgets/base",
            "top": null,
            "grid_column": null,
            "overflow_y": null,
            "overflow_x": null,
            "grid_auto_flow": null,
            "grid_area": null,
            "grid_template_columns": null,
            "flex": null,
            "_model_name": "LayoutModel",
            "justify_items": null,
            "grid_row": null,
            "max_height": null,
            "align_content": null,
            "visibility": null,
            "align_self": null,
            "height": null,
            "min_height": null,
            "padding": null,
            "grid_auto_rows": null,
            "grid_gap": null,
            "max_width": null,
            "order": null,
            "_view_module_version": "1.2.0",
            "grid_template_areas": null,
            "object_position": null,
            "object_fit": null,
            "grid_auto_columns": null,
            "margin": null,
            "display": null,
            "left": null
          }
        }
      }
    }
  },
  "cells": [
    {
      "cell_type": "markdown",
      "metadata": {
        "id": "view-in-github",
        "colab_type": "text"
      },
      "source": [
        "<a href=\"https://colab.research.google.com/github/sergmiller/vk-cup-final-2021/blob/main/sergmiller_RuGPT_bundle_creation.ipynb\" target=\"_parent\"><img src=\"https://colab.research.google.com/assets/colab-badge.svg\" alt=\"Open In Colab\"/></a>"
      ]
    },
    {
      "cell_type": "code",
      "metadata": {
        "id": "U5yUXAkseG2Y",
        "colab": {
          "base_uri": "https://localhost:8080/"
        },
        "outputId": "18f0687f-6049-4800-a094-426308042f0a"
      },
      "source": [
        "!pip install transformers\n",
        "!wget https://storage.yandexcloud.net/vk-cup-data/test_pipeline_questions.csv "
      ],
      "execution_count": 2,
      "outputs": [
        {
          "output_type": "stream",
          "text": [
            "Collecting transformers\n",
            "  Downloading transformers-4.9.2-py3-none-any.whl (2.6 MB)\n",
            "\u001b[K     |████████████████████████████████| 2.6 MB 4.0 MB/s \n",
            "\u001b[?25hRequirement already satisfied: numpy>=1.17 in /usr/local/lib/python3.7/dist-packages (from transformers) (1.19.5)\n",
            "Requirement already satisfied: regex!=2019.12.17 in /usr/local/lib/python3.7/dist-packages (from transformers) (2019.12.20)\n",
            "Collecting sacremoses\n",
            "  Downloading sacremoses-0.0.45-py3-none-any.whl (895 kB)\n",
            "\u001b[K     |████████████████████████████████| 895 kB 40.4 MB/s \n",
            "\u001b[?25hRequirement already satisfied: packaging in /usr/local/lib/python3.7/dist-packages (from transformers) (21.0)\n",
            "Collecting huggingface-hub==0.0.12\n",
            "  Downloading huggingface_hub-0.0.12-py3-none-any.whl (37 kB)\n",
            "Requirement already satisfied: filelock in /usr/local/lib/python3.7/dist-packages (from transformers) (3.0.12)\n",
            "Requirement already satisfied: tqdm>=4.27 in /usr/local/lib/python3.7/dist-packages (from transformers) (4.62.0)\n",
            "Requirement already satisfied: importlib-metadata in /usr/local/lib/python3.7/dist-packages (from transformers) (4.6.4)\n",
            "Collecting tokenizers<0.11,>=0.10.1\n",
            "  Downloading tokenizers-0.10.3-cp37-cp37m-manylinux_2_5_x86_64.manylinux1_x86_64.manylinux_2_12_x86_64.manylinux2010_x86_64.whl (3.3 MB)\n",
            "\u001b[K     |████████████████████████████████| 3.3 MB 33.3 MB/s \n",
            "\u001b[?25hRequirement already satisfied: requests in /usr/local/lib/python3.7/dist-packages (from transformers) (2.23.0)\n",
            "Collecting pyyaml>=5.1\n",
            "  Downloading PyYAML-5.4.1-cp37-cp37m-manylinux1_x86_64.whl (636 kB)\n",
            "\u001b[K     |████████████████████████████████| 636 kB 49.8 MB/s \n",
            "\u001b[?25hRequirement already satisfied: typing-extensions in /usr/local/lib/python3.7/dist-packages (from huggingface-hub==0.0.12->transformers) (3.7.4.3)\n",
            "Requirement already satisfied: pyparsing>=2.0.2 in /usr/local/lib/python3.7/dist-packages (from packaging->transformers) (2.4.7)\n",
            "Requirement already satisfied: zipp>=0.5 in /usr/local/lib/python3.7/dist-packages (from importlib-metadata->transformers) (3.5.0)\n",
            "Requirement already satisfied: certifi>=2017.4.17 in /usr/local/lib/python3.7/dist-packages (from requests->transformers) (2021.5.30)\n",
            "Requirement already satisfied: idna<3,>=2.5 in /usr/local/lib/python3.7/dist-packages (from requests->transformers) (2.10)\n",
            "Requirement already satisfied: chardet<4,>=3.0.2 in /usr/local/lib/python3.7/dist-packages (from requests->transformers) (3.0.4)\n",
            "Requirement already satisfied: urllib3!=1.25.0,!=1.25.1,<1.26,>=1.21.1 in /usr/local/lib/python3.7/dist-packages (from requests->transformers) (1.24.3)\n",
            "Requirement already satisfied: six in /usr/local/lib/python3.7/dist-packages (from sacremoses->transformers) (1.15.0)\n",
            "Requirement already satisfied: joblib in /usr/local/lib/python3.7/dist-packages (from sacremoses->transformers) (1.0.1)\n",
            "Requirement already satisfied: click in /usr/local/lib/python3.7/dist-packages (from sacremoses->transformers) (7.1.2)\n",
            "Installing collected packages: tokenizers, sacremoses, pyyaml, huggingface-hub, transformers\n",
            "  Attempting uninstall: pyyaml\n",
            "    Found existing installation: PyYAML 3.13\n",
            "    Uninstalling PyYAML-3.13:\n",
            "      Successfully uninstalled PyYAML-3.13\n",
            "Successfully installed huggingface-hub-0.0.12 pyyaml-5.4.1 sacremoses-0.0.45 tokenizers-0.10.3 transformers-4.9.2\n",
            "--2021-08-20 18:02:10--  https://storage.yandexcloud.net/vk-cup-data/test_pipeline_questions.csv\n",
            "Resolving storage.yandexcloud.net (storage.yandexcloud.net)... 213.180.193.243, 2a02:6b8::1d9\n",
            "Connecting to storage.yandexcloud.net (storage.yandexcloud.net)|213.180.193.243|:443... connected.\n",
            "HTTP request sent, awaiting response... 200 OK\n",
            "Length: 250 [text/csv]\n",
            "Saving to: ‘test_pipeline_questions.csv’\n",
            "\n",
            "test_pipeline_quest 100%[===================>]     250  --.-KB/s    in 0s      \n",
            "\n",
            "2021-08-20 18:02:12 (43.2 MB/s) - ‘test_pipeline_questions.csv’ saved [250/250]\n",
            "\n"
          ],
          "name": "stdout"
        }
      ]
    },
    {
      "cell_type": "code",
      "metadata": {
        "id": "oXZsNx9-eyXL",
        "colab": {
          "base_uri": "https://localhost:8080/",
          "height": 145,
          "referenced_widgets": [
            "fa81f62c3fca4ad288063450579e8df3",
            "9dc3b4cebce34c6cb07c36c622530649",
            "1480ccd6ee024858a16f1a28a214230d",
            "9750a1b1d0b848d4bcf6d7a60bb31192",
            "7b645126513a4b36aac401a58e9d1891",
            "d34408a72e114ba8b4ae2d8fd8c766f7",
            "80205f0744084b37bfb5bd461ea0b441",
            "b5e3769bfecb4e5999bdf9a6660be6f0",
            "3c51e9309b5f4252b9cb9780497def74",
            "ba64827918b541b496011c25308e53c1",
            "fe882d57c6aa4b7aadd9bb47c7695333",
            "09ac0a5cfeae43b8b1c6df66e3eb91c4",
            "4dbb44ff29b94feebeb28f00f059a927",
            "876b71673e0a4598969f6a370b4dede1",
            "e76c07120e884cdd8b584a5c6d379f4d",
            "0540ab68811648beb14ee758afe7bfe5",
            "25925f853cd7485e930e1cfe9037b710",
            "35caa576717d4abd999bf396f303479c",
            "e1c8cb8d0bf7468aaffdc2cb8e85d595",
            "65feee0cec9a40e88c35594a5188e1d5",
            "3fe66399b1bd4c9ea871991b23fb5b9e",
            "f746041748f14231b2ca7d069dee3407",
            "94e4f8074f0648ff8c04f2b8ba991861",
            "801415f6dd0849b1929e94abe9c05be7",
            "efa4a463ace34ac8af5ff5be6a04f152",
            "d0a51a7522074992971839b2a015569b",
            "be6a5f8e9b444abf97603a4845b63f53",
            "5745122f3eb04a978c8093f180896cac",
            "200ad7b2b26743c2823498e6cf979488",
            "27f4ddb6c1be46a287f335bafbbd42ac",
            "eff5cd9c1a1c4811a2288c2b78ee1317",
            "798c2ad822454c9e91df4cd040b9c3d7",
            "0933050e556e4b56819fe1f11f216240",
            "4f8e6db3eeea41ba983166d6e895045d",
            "974c4aad1e224a9d9a965e08d9e5c542",
            "fc48fdab16034103805152eacef5a607",
            "a961b182bf1f48fab0a193d0dd560b69",
            "81a979b8004d4123b3f6c959565f7079",
            "2040a4210f144d9c90ce1d0be90be015",
            "a2ab0bc935094c7fb21b8f62ab23fe17",
            "38900e072bc44e1ab59d28f452e54ba6",
            "ce97ed2489a242258d52cdeb48f66f70",
            "5f14b1fb8fbf48b7908d6f1d1cebf0da",
            "24dad0f1b3c04bfcbeff852f63252b62"
          ]
        },
        "outputId": "26675123-19dd-4a37-82b0-6ee66887317c"
      },
      "source": [
        "import pandas as pd\n",
        "import numpy as np\n",
        "from transformers import GPT2LMHeadModel, GPT2Tokenizer\n",
        "\n",
        "\n",
        "model_name_or_path = \"sberbank-ai/rugpt3large_based_on_gpt2\"\n",
        "tokenizer = GPT2Tokenizer.from_pretrained(model_name_or_path)\n",
        "model = GPT2LMHeadModel.from_pretrained(model_name_or_path).cuda()"
      ],
      "execution_count": 3,
      "outputs": [
        {
          "output_type": "display_data",
          "data": {
            "application/vnd.jupyter.widget-view+json": {
              "model_id": "fa81f62c3fca4ad288063450579e8df3",
              "version_minor": 0,
              "version_major": 2
            },
            "text/plain": [
              "Downloading:   0%|          | 0.00/1.71M [00:00<?, ?B/s]"
            ]
          },
          "metadata": {}
        },
        {
          "output_type": "display_data",
          "data": {
            "application/vnd.jupyter.widget-view+json": {
              "model_id": "09ac0a5cfeae43b8b1c6df66e3eb91c4",
              "version_minor": 0,
              "version_major": 2
            },
            "text/plain": [
              "Downloading:   0%|          | 0.00/1.27M [00:00<?, ?B/s]"
            ]
          },
          "metadata": {}
        },
        {
          "output_type": "display_data",
          "data": {
            "application/vnd.jupyter.widget-view+json": {
              "model_id": "94e4f8074f0648ff8c04f2b8ba991861",
              "version_minor": 0,
              "version_major": 2
            },
            "text/plain": [
              "Downloading:   0%|          | 0.00/609 [00:00<?, ?B/s]"
            ]
          },
          "metadata": {}
        },
        {
          "output_type": "display_data",
          "data": {
            "application/vnd.jupyter.widget-view+json": {
              "model_id": "4f8e6db3eeea41ba983166d6e895045d",
              "version_minor": 0,
              "version_major": 2
            },
            "text/plain": [
              "Downloading:   0%|          | 0.00/3.14G [00:00<?, ?B/s]"
            ]
          },
          "metadata": {}
        }
      ]
    },
    {
      "cell_type": "code",
      "metadata": {
        "id": "-lbchQA0j5tG"
      },
      "source": [
        "def calc_likelihood(text):\n",
        "    tokens_ids = tokenizer.encode(text, return_tensors=\"pt\").cuda()\n",
        "    prob = model(tokens_ids)\n",
        "\n",
        "    tokens = tokens_ids[0].cpu().tolist()\n",
        "    prob = prob[0].cpu()[0]\n",
        "\n",
        "    likelyhood = sum([prob[i, j].item() for i, j in enumerate(tokens)])\n",
        "    return likelyhood"
      ],
      "execution_count": 4,
      "outputs": []
    },
    {
      "cell_type": "code",
      "metadata": {
        "id": "TBcRl_9wfReF"
      },
      "source": [
        "tokens_ids = tokenizer.encode(\"1 2 3\", return_tensors=\"pt\").cuda()\n",
        "prob = model.forward(tokens_ids, output_hidden_states=True)"
      ],
      "execution_count": 5,
      "outputs": []
    },
    {
      "cell_type": "code",
      "metadata": {
        "colab": {
          "base_uri": "https://localhost:8080/"
        },
        "id": "t66F_6rnn8hS",
        "outputId": "894b23e3-6d98-4ef7-dd80-bd6ae5e6d499"
      },
      "source": [
        "logits = prob.logits.cpu().detach().numpy()\n",
        "hidden = prob.hidden_states\n",
        "logits.shape, len(hidden), hidden[0].shape"
      ],
      "execution_count": 6,
      "outputs": [
        {
          "output_type": "execute_result",
          "data": {
            "text/plain": [
              "((1, 3, 50257), 25, torch.Size([1, 3, 1536]))"
            ]
          },
          "metadata": {},
          "execution_count": 6
        }
      ]
    },
    {
      "cell_type": "code",
      "metadata": {
        "id": "ewCkWLikoz3_"
      },
      "source": [
        "def make_bundle(question: str, answers: list) -> dict:\n",
        "  torch2np = lambda x: x.cpu().detach().numpy()\n",
        "  def single_sent_info(sent: str) -> dict:\n",
        "    tokens_ids = tokenizer.encode(sent, return_tensors=\"pt\").cuda()\n",
        "    prob = model.forward(tokens_ids,output_hidden_states=True)\n",
        "    logits = prob.logits[0]\n",
        "    hidden = prob.hidden_states\n",
        "    T = len(tokens_ids[0])\n",
        "    assert list(logits.shape) == [T, 50257], logits.shape\n",
        "    assert len(hidden) == 25 and list(hidden[-1].shape) == [1, T, 1536], hidden[0].shape\n",
        "    state = dict()\n",
        "    state[\"tokens\"] = torch2np(tokens_ids)\n",
        "    tokens = tokens_ids[0].cpu().tolist()\n",
        "    logits = torch2np(logits)\n",
        "    state[\"likelihood\"] = np.sum([logits[i, j] for i, j in enumerate(tokens)])\n",
        "    state[\"embed\"] = torch2np(hidden[-1])\n",
        "    return state\n",
        "  bundle = dict()\n",
        "  bundle[\"q\"] = single_sent_info(question)\n",
        "  bundle[\"a1\"] = single_sent_info(question + \" \" + answers[0])\n",
        "  bundle[\"a2\"] = single_sent_info(question + \" \" + answers[1])\n",
        "  bundle[\"a3\"] = single_sent_info(question + \" \" + answers[2])\n",
        "  return bundle"
      ],
      "execution_count": 7,
      "outputs": []
    },
    {
      "cell_type": "code",
      "metadata": {
        "id": "SCnlvHtAmbvr"
      },
      "source": [
        "question = \"Кто доказал теорию эволюции?\"\n",
        "answers = [\"Даня Милохин\", \"Чарльз Дарвин\", \"Ленардо Да Винчи\"]\n",
        "def predict(question, answers):\n",
        "  scores = [calc_likelihood(question + \" \" +  answer) for answer in answers]\n",
        "  return str(np.argmax(scores))\n",
        "\n",
        "# predict(question, answers)\n",
        "b = make_bundle(question, answers)"
      ],
      "execution_count": 8,
      "outputs": []
    },
    {
      "cell_type": "code",
      "metadata": {
        "colab": {
          "base_uri": "https://localhost:8080/"
        },
        "id": "w7ab0gtt1QGb",
        "outputId": "359fb0a4-3930-4c07-ee45-d2c72dfe93a6"
      },
      "source": [
        "b[\"a1\"][\"likelihood\"]"
      ],
      "execution_count": 9,
      "outputs": [
        {
          "output_type": "execute_result",
          "data": {
            "text/plain": [
              "40.67775"
            ]
          },
          "metadata": {},
          "execution_count": 9
        }
      ]
    },
    {
      "cell_type": "code",
      "metadata": {
        "colab": {
          "base_uri": "https://localhost:8080/"
        },
        "id": "GCLdlK9IrHFz",
        "outputId": "c5e916e6-da11-4c9c-a901-3b47c332ceab"
      },
      "source": [
        "from google.colab import drive\n",
        "drive.mount('/gdrive')\n",
        "\n",
        "MOUNT_DIR = \"/gdrive/My Drive/Colab Notebooks/ColabMountDir/\"\n",
        "train_data = pd.read_csv(MOUNT_DIR + 'rus_train_dataset.csv', encoding='utf-8', sep='|')\n",
        "en_ru_aux_data = pd.read_csv(MOUNT_DIR + 'en_to_rus_train_dataset.csv', encoding='utf-8', sep='|')"
      ],
      "execution_count": 11,
      "outputs": [
        {
          "output_type": "stream",
          "text": [
            "Mounted at /gdrive\n"
          ],
          "name": "stdout"
        }
      ]
    },
    {
      "cell_type": "code",
      "metadata": {
        "colab": {
          "base_uri": "https://localhost:8080/",
          "height": 419
        },
        "id": "pssVpWWxuV1z",
        "outputId": "52c439bb-e762-4371-a435-01e09f32c96c"
      },
      "source": [
        "train_data"
      ],
      "execution_count": 13,
      "outputs": [
        {
          "output_type": "execute_result",
          "data": {
            "text/html": [
              "<div>\n",
              "<style scoped>\n",
              "    .dataframe tbody tr th:only-of-type {\n",
              "        vertical-align: middle;\n",
              "    }\n",
              "\n",
              "    .dataframe tbody tr th {\n",
              "        vertical-align: top;\n",
              "    }\n",
              "\n",
              "    .dataframe thead th {\n",
              "        text-align: right;\n",
              "    }\n",
              "</style>\n",
              "<table border=\"1\" class=\"dataframe\">\n",
              "  <thead>\n",
              "    <tr style=\"text-align: right;\">\n",
              "      <th></th>\n",
              "      <th>Unnamed: 0</th>\n",
              "      <th>question</th>\n",
              "      <th>ps_0</th>\n",
              "      <th>ps_1</th>\n",
              "      <th>ps_2</th>\n",
              "      <th>right_answer_id</th>\n",
              "    </tr>\n",
              "  </thead>\n",
              "  <tbody>\n",
              "    <tr>\n",
              "      <th>0</th>\n",
              "      <td>0</td>\n",
              "      <td>Как называется половина основного времени матч...</td>\n",
              "      <td>Тайм</td>\n",
              "      <td>Период</td>\n",
              "      <td>Гейм</td>\n",
              "      <td>0</td>\n",
              "    </tr>\n",
              "    <tr>\n",
              "      <th>1</th>\n",
              "      <td>1</td>\n",
              "      <td>Какая из указанных команд чаще других становил...</td>\n",
              "      <td>Россия</td>\n",
              "      <td>Англия</td>\n",
              "      <td>Чехия</td>\n",
              "      <td>0</td>\n",
              "    </tr>\n",
              "    <tr>\n",
              "      <th>2</th>\n",
              "      <td>2</td>\n",
              "      <td>В каком году мужская сборная СССР по баскетбол...</td>\n",
              "      <td>1972</td>\n",
              "      <td>1980</td>\n",
              "      <td>1988</td>\n",
              "      <td>0</td>\n",
              "    </tr>\n",
              "    <tr>\n",
              "      <th>3</th>\n",
              "      <td>3</td>\n",
              "      <td>Как называется технология, используемая для бе...</td>\n",
              "      <td>NFC</td>\n",
              "      <td>Android Pay</td>\n",
              "      <td>Apple Pay</td>\n",
              "      <td>0</td>\n",
              "    </tr>\n",
              "    <tr>\n",
              "      <th>4</th>\n",
              "      <td>4</td>\n",
              "      <td>Где в 2014 году проходил Чемпионат мира по фут...</td>\n",
              "      <td>Бразилия</td>\n",
              "      <td>Новая Зеландия</td>\n",
              "      <td>Германия</td>\n",
              "      <td>0</td>\n",
              "    </tr>\n",
              "    <tr>\n",
              "      <th>...</th>\n",
              "      <td>...</td>\n",
              "      <td>...</td>\n",
              "      <td>...</td>\n",
              "      <td>...</td>\n",
              "      <td>...</td>\n",
              "      <td>...</td>\n",
              "    </tr>\n",
              "    <tr>\n",
              "      <th>4056</th>\n",
              "      <td>4056</td>\n",
              "      <td>Как называются рецепторы в организме человека,...</td>\n",
              "      <td>Хеморецепторы</td>\n",
              "      <td>Барорецепторы</td>\n",
              "      <td>Механорецепторы</td>\n",
              "      <td>1</td>\n",
              "    </tr>\n",
              "    <tr>\n",
              "      <th>4057</th>\n",
              "      <td>4057</td>\n",
              "      <td>Какая из перечисленных стран НЕ входила в сост...</td>\n",
              "      <td>Казахстан</td>\n",
              "      <td>Украина</td>\n",
              "      <td>Финляндия</td>\n",
              "      <td>2</td>\n",
              "    </tr>\n",
              "    <tr>\n",
              "      <th>4058</th>\n",
              "      <td>4058</td>\n",
              "      <td>В каком году была выпущена приставка «Playstat...</td>\n",
              "      <td>2000</td>\n",
              "      <td>2001</td>\n",
              "      <td>1999</td>\n",
              "      <td>0</td>\n",
              "    </tr>\n",
              "    <tr>\n",
              "      <th>4059</th>\n",
              "      <td>4059</td>\n",
              "      <td>Как называлась добыча мёда диких пчёл на Руси?</td>\n",
              "      <td>Бортничество</td>\n",
              "      <td>Капище</td>\n",
              "      <td>Полюдье</td>\n",
              "      <td>0</td>\n",
              "    </tr>\n",
              "    <tr>\n",
              "      <th>4060</th>\n",
              "      <td>4060</td>\n",
              "      <td>Какого произведения НЕ было у Л. Н. Толстого?</td>\n",
              "      <td>«Оловянный солдатик»</td>\n",
              "      <td>«Хаджи-Мурат»</td>\n",
              "      <td>«Казаки»</td>\n",
              "      <td>0</td>\n",
              "    </tr>\n",
              "  </tbody>\n",
              "</table>\n",
              "<p>4061 rows × 6 columns</p>\n",
              "</div>"
            ],
            "text/plain": [
              "      Unnamed: 0  ... right_answer_id\n",
              "0              0  ...               0\n",
              "1              1  ...               0\n",
              "2              2  ...               0\n",
              "3              3  ...               0\n",
              "4              4  ...               0\n",
              "...          ...  ...             ...\n",
              "4056        4056  ...               1\n",
              "4057        4057  ...               2\n",
              "4058        4058  ...               0\n",
              "4059        4059  ...               0\n",
              "4060        4060  ...               0\n",
              "\n",
              "[4061 rows x 6 columns]"
            ]
          },
          "metadata": {},
          "execution_count": 13
        }
      ]
    },
    {
      "cell_type": "code",
      "metadata": {
        "colab": {
          "base_uri": "https://localhost:8080/",
          "height": 419
        },
        "id": "Nx7e0GPEuvey",
        "outputId": "6ca18422-fb07-4e3d-9d96-446021e6448c"
      },
      "source": [
        "en_ru_aux_data"
      ],
      "execution_count": 12,
      "outputs": [
        {
          "output_type": "execute_result",
          "data": {
            "text/html": [
              "<div>\n",
              "<style scoped>\n",
              "    .dataframe tbody tr th:only-of-type {\n",
              "        vertical-align: middle;\n",
              "    }\n",
              "\n",
              "    .dataframe tbody tr th {\n",
              "        vertical-align: top;\n",
              "    }\n",
              "\n",
              "    .dataframe thead th {\n",
              "        text-align: right;\n",
              "    }\n",
              "</style>\n",
              "<table border=\"1\" class=\"dataframe\">\n",
              "  <thead>\n",
              "    <tr style=\"text-align: right;\">\n",
              "      <th></th>\n",
              "      <th>Unnamed: 0</th>\n",
              "      <th>question</th>\n",
              "      <th>ps_0</th>\n",
              "      <th>ps_1</th>\n",
              "      <th>ps_2</th>\n",
              "      <th>right_answer_id</th>\n",
              "    </tr>\n",
              "  </thead>\n",
              "  <tbody>\n",
              "    <tr>\n",
              "      <th>0</th>\n",
              "      <td>0</td>\n",
              "      <td>Одним из остатков этого государства прежний ст...</td>\n",
              "      <td>Оклахома</td>\n",
              "      <td>Флорида</td>\n",
              "      <td>Луизиана</td>\n",
              "      <td>2.0</td>\n",
              "    </tr>\n",
              "    <tr>\n",
              "      <th>1</th>\n",
              "      <td>1</td>\n",
              "      <td>Самое большое озеро в этом штате - озеро окехо...</td>\n",
              "      <td>Гавайи</td>\n",
              "      <td>Теннесси</td>\n",
              "      <td>Флорида</td>\n",
              "      <td>2.0</td>\n",
              "    </tr>\n",
              "    <tr>\n",
              "      <th>2</th>\n",
              "      <td>2</td>\n",
              "      <td>Какая государственная столица Вашингтона?</td>\n",
              "      <td>Олимпия</td>\n",
              "      <td>Сиэтл</td>\n",
              "      <td>Walla Walla</td>\n",
              "      <td>0.0</td>\n",
              "    </tr>\n",
              "    <tr>\n",
              "      <th>3</th>\n",
              "      <td>3</td>\n",
              "      <td>Какова государственная столица Калифорнии?</td>\n",
              "      <td>Сакраменто</td>\n",
              "      <td>Лос-Анджелес</td>\n",
              "      <td>Сан-Диего</td>\n",
              "      <td>0.0</td>\n",
              "    </tr>\n",
              "    <tr>\n",
              "      <th>4</th>\n",
              "      <td>4</td>\n",
              "      <td>Что такое государственная столица Айдахо?</td>\n",
              "      <td>Бойсе</td>\n",
              "      <td>Айдахо-Фолс</td>\n",
              "      <td>Покателло</td>\n",
              "      <td>0.0</td>\n",
              "    </tr>\n",
              "    <tr>\n",
              "      <th>...</th>\n",
              "      <td>...</td>\n",
              "      <td>...</td>\n",
              "      <td>...</td>\n",
              "      <td>...</td>\n",
              "      <td>...</td>\n",
              "      <td>...</td>\n",
              "    </tr>\n",
              "    <tr>\n",
              "      <th>1936</th>\n",
              "      <td>1948</td>\n",
              "      <td>Три собаки и два щенка весят 128 фунтов. Четыр...</td>\n",
              "      <td>32 фунта</td>\n",
              "      <td>16 фунтов</td>\n",
              "      <td>80 фунтов</td>\n",
              "      <td>2.0</td>\n",
              "    </tr>\n",
              "    <tr>\n",
              "      <th>1937</th>\n",
              "      <td>1949</td>\n",
              "      <td>Изабелла взяла тест, который имел 20 вопросов....</td>\n",
              "      <td>10</td>\n",
              "      <td>5</td>\n",
              "      <td>3</td>\n",
              "      <td>1.0</td>\n",
              "    </tr>\n",
              "    <tr>\n",
              "      <th>1938</th>\n",
              "      <td>1950</td>\n",
              "      <td>Какие две планеты солнечной системы, отличающи...</td>\n",
              "      <td>Меркурий и Марс</td>\n",
              "      <td>Меркурий и Венеры</td>\n",
              "      <td>Венера и Юпитер</td>\n",
              "      <td>1.0</td>\n",
              "    </tr>\n",
              "    <tr>\n",
              "      <th>1939</th>\n",
              "      <td>1951</td>\n",
              "      <td>Эта луна, подшипщая название паромных мертвых ...</td>\n",
              "      <td>Charon</td>\n",
              "      <td>Nereid</td>\n",
              "      <td>Proteus</td>\n",
              "      <td>0.0</td>\n",
              "    </tr>\n",
              "    <tr>\n",
              "      <th>1940</th>\n",
              "      <td>1952</td>\n",
              "      <td>Какова пятая по величине луна Юпитера, названн...</td>\n",
              "      <td>Galatea</td>\n",
              "      <td>Mimas</td>\n",
              "      <td>Amalthea</td>\n",
              "      <td>2.0</td>\n",
              "    </tr>\n",
              "  </tbody>\n",
              "</table>\n",
              "<p>1941 rows × 6 columns</p>\n",
              "</div>"
            ],
            "text/plain": [
              "      Unnamed: 0  ... right_answer_id\n",
              "0              0  ...             2.0\n",
              "1              1  ...             2.0\n",
              "2              2  ...             0.0\n",
              "3              3  ...             0.0\n",
              "4              4  ...             0.0\n",
              "...          ...  ...             ...\n",
              "1936        1948  ...             2.0\n",
              "1937        1949  ...             1.0\n",
              "1938        1950  ...             1.0\n",
              "1939        1951  ...             0.0\n",
              "1940        1952  ...             2.0\n",
              "\n",
              "[1941 rows x 6 columns]"
            ]
          },
          "metadata": {},
          "execution_count": 12
        }
      ]
    },
    {
      "cell_type": "code",
      "metadata": {
        "colab": {
          "base_uri": "https://localhost:8080/"
        },
        "id": "Jt5UVQDrvAx2",
        "outputId": "d2ad562a-8a51-4ff4-88c7-2b70554d239d"
      },
      "source": [
        "for x in train_data.values:\n",
        "  print(x)\n",
        "  break"
      ],
      "execution_count": 97,
      "outputs": [
        {
          "output_type": "stream",
          "text": [
            "[0 'Как называется половина основного времени матча в футболе?' 'Тайм'\n",
            " 'Период' 'Гейм' 0]\n"
          ],
          "name": "stdout"
        }
      ]
    },
    {
      "cell_type": "code",
      "metadata": {
        "id": "H40gYwiDuyco"
      },
      "source": [
        "import tqdm\n",
        "import json\n",
        "import os\n",
        "\n",
        "def prepare_dataset_bundle(df: pd.DataFrame)->list:\n",
        "  # if not os.path.exists(dirpath):\n",
        "  #   os.mkdir(dirpath)\n",
        "  res = []\n",
        "  for line in tqdm.tqdm(df.values, position=0):\n",
        "    idx, q, a1, a2, a3, _ = line\n",
        "    bundle = make_bundle(q, [str(a1), str(a2), str(a3)])\n",
        "    # np.save(dirpath + \"/\" + str(idx), bundle)\n",
        "    res.append(bundle)\n",
        "  return res"
      ],
      "execution_count": 13,
      "outputs": []
    },
    {
      "cell_type": "code",
      "metadata": {
        "colab": {
          "base_uri": "https://localhost:8080/"
        },
        "id": "g-K-_VF8vbN-",
        "outputId": "54701634-e468-4b93-e297-77ec7bc2a6b5"
      },
      "source": [
        "train_bundle = prepare_dataset_bundle(train_data)"
      ],
      "execution_count": 77,
      "outputs": [
        {
          "output_type": "stream",
          "text": [
            "100%|██████████| 4061/4061 [16:39<00:00,  4.06it/s]\n"
          ],
          "name": "stderr"
        }
      ]
    },
    {
      "cell_type": "code",
      "metadata": {
        "id": "0rHM8EY3Ou_q"
      },
      "source": [
        "np.save(MOUNT_DIR + \"train_dataset_bundle\", train_bundle)"
      ],
      "execution_count": 78,
      "outputs": []
    },
    {
      "cell_type": "code",
      "metadata": {
        "colab": {
          "base_uri": "https://localhost:8080/"
        },
        "id": "P31U-1wJ593s",
        "outputId": "671dc030-d9b7-477e-bcf0-2acd3ffb7045"
      },
      "source": [
        "aux_dataset_bundle = prepare_dataset_bundle(en_ru_aux_data)"
      ],
      "execution_count": 14,
      "outputs": [
        {
          "output_type": "stream",
          "text": [
            "100%|██████████| 1941/1941 [09:19<00:00,  3.47it/s]\n"
          ],
          "name": "stderr"
        }
      ]
    },
    {
      "cell_type": "code",
      "metadata": {
        "colab": {
          "base_uri": "https://localhost:8080/"
        },
        "id": "PzrxcJSSudRB",
        "outputId": "4d3880a8-2569-43f3-f6cb-7885752aa912"
      },
      "source": [
        "aux_dataset_bundle[-1]"
      ],
      "execution_count": 16,
      "outputs": [
        {
          "output_type": "execute_result",
          "data": {
            "text/plain": [
              "{'a1': {'embed': array([[[-0.10105464,  0.01616081,  0.42873275, ..., -0.10581393,\n",
              "            1.0124849 , -0.6411731 ],\n",
              "          [-0.84845036, -0.23344773,  0.09690423, ..., -1.0865364 ,\n",
              "            0.1056523 ,  0.13522843],\n",
              "          [-0.71256673, -0.6480566 ,  0.00300177, ..., -1.2034646 ,\n",
              "           -0.12873265,  0.3060442 ],\n",
              "          ...,\n",
              "          [-0.21363114, -0.73018676, -0.47411677, ..., -0.34579372,\n",
              "            0.42838606,  0.01017577],\n",
              "          [ 1.08882   , -1.379691  ,  0.4502308 , ..., -0.7921384 ,\n",
              "            0.85322446, -1.0489603 ],\n",
              "          [-0.4810411 , -0.10261427, -0.40849409, ..., -0.4148412 ,\n",
              "            0.6340526 , -0.5959289 ]]], dtype=float32),\n",
              "  'likelihood': 196.58864,\n",
              "  'tokens': array([[ 4182,   401, 49176,   334, 35942, 24865, 29316,   665,    16,\n",
              "          13334,   549,   282,  6292,  1498,  2503, 43016, 40950,    16,\n",
              "           1586,  1040, 17049, 11138, 38347,   507,   473,  4298,  1748,\n",
              "            665,    13,   281, 11850,  1683, 29258,    18, 27115,  1899,\n",
              "             69]])},\n",
              " 'a2': {'embed': array([[[-1.01054639e-01,  1.61608066e-02,  4.28732753e-01, ...,\n",
              "           -1.05813928e-01,  1.01248491e+00, -6.41173124e-01],\n",
              "          [-8.48450363e-01, -2.33447731e-01,  9.69042256e-02, ...,\n",
              "           -1.08653641e+00,  1.05652295e-01,  1.35228425e-01],\n",
              "          [-7.12566733e-01, -6.48056626e-01,  3.00176581e-03, ...,\n",
              "           -1.20346463e+00, -1.28732651e-01,  3.06044191e-01],\n",
              "          ...,\n",
              "          [ 2.82850669e-04, -6.50821745e-01, -3.60470980e-01, ...,\n",
              "           -4.04538035e-01,  6.33344173e-01, -1.89677209e-01],\n",
              "          [-3.72624904e-01,  7.74525106e-02, -1.89646751e-01, ...,\n",
              "            4.83561307e-02,  1.07698929e+00,  8.09674680e-01],\n",
              "          [ 2.75688320e-01,  3.45035009e-02, -3.21900725e-01, ...,\n",
              "           -4.71559703e-01,  1.90004811e-01,  4.88319211e-02]]],\n",
              "        dtype=float32),\n",
              "  'likelihood': 201.5231,\n",
              "  'tokens': array([[ 4182,   401, 49176,   334, 35942, 24865, 29316,   665,    16,\n",
              "          13334,   549,   282,  6292,  1498,  2503, 43016, 40950,    16,\n",
              "           1586,  1040, 17049, 11138, 38347,   507,   473,  4298,  1748,\n",
              "            665,    13,   281, 11850,  1683, 29258,    18,   860,  1091,\n",
              "            633]])},\n",
              " 'a3': {'embed': array([[[-0.10105464,  0.01616081,  0.42873275, ..., -0.10581393,\n",
              "            1.0124849 , -0.6411731 ],\n",
              "          [-0.84845036, -0.23344773,  0.09690423, ..., -1.0865364 ,\n",
              "            0.1056523 ,  0.13522843],\n",
              "          [-0.71256673, -0.6480566 ,  0.00300177, ..., -1.2034646 ,\n",
              "           -0.12873265,  0.3060442 ],\n",
              "          ...,\n",
              "          [ 0.39831278,  0.6592544 , -0.1610466 , ..., -0.15244406,\n",
              "            0.8402935 ,  0.2649644 ],\n",
              "          [ 0.5949156 , -0.21033372,  0.88424903, ..., -0.7900583 ,\n",
              "            0.9895498 , -0.38993382],\n",
              "          [ 0.11645058,  0.26938298, -0.62738955, ..., -0.59401536,\n",
              "            0.7568767 , -0.70403594]]], dtype=float32),\n",
              "  'likelihood': 208.20345,\n",
              "  'tokens': array([[ 4182,   401, 49176,   334, 35942, 24865, 29316,   665,    16,\n",
              "          13334,   549,   282,  6292,  1498,  2503, 43016, 40950,    16,\n",
              "           1586,  1040, 17049, 11138, 38347,   507,   473,  4298,  1748,\n",
              "            665,    13,   281, 11850,  1683, 29258,    18, 10530,   565,\n",
              "           9582,    69]])},\n",
              " 'q': {'embed': array([[[-0.10105464,  0.01616081,  0.42873275, ..., -0.10581393,\n",
              "            1.0124849 , -0.6411731 ],\n",
              "          [-0.84845036, -0.23344773,  0.09690423, ..., -1.0865364 ,\n",
              "            0.1056523 ,  0.13522843],\n",
              "          [-0.71256673, -0.6480566 ,  0.00300177, ..., -1.2034646 ,\n",
              "           -0.12873265,  0.3060442 ],\n",
              "          ...,\n",
              "          [-0.07256564, -1.1949021 , -2.1291711 , ..., -0.39777339,\n",
              "           -0.11301155,  1.2873617 ],\n",
              "          [-0.36922315, -0.50193775, -0.9970851 , ...,  0.3029665 ,\n",
              "            0.06126523,  1.0415785 ],\n",
              "          [-0.17955859, -0.38624185, -0.3051262 , ..., -0.13667709,\n",
              "            0.28541785, -0.20466189]]], dtype=float32),\n",
              "  'likelihood': 176.49222,\n",
              "  'tokens': array([[ 4182,   401, 49176,   334, 35942, 24865, 29316,   665,    16,\n",
              "          13334,   549,   282,  6292,  1498,  2503, 43016, 40950,    16,\n",
              "           1586,  1040, 17049, 11138, 38347,   507,   473,  4298,  1748,\n",
              "            665,    13,   281, 11850,  1683, 29258,    18]])}}"
            ]
          },
          "metadata": {},
          "execution_count": 16
        }
      ]
    },
    {
      "cell_type": "code",
      "metadata": {
        "id": "ALNm-LjbSgwq"
      },
      "source": [
        "np.save(MOUNT_DIR + \"en_ru_aux_dataset_bundle\", aux_dataset_bundle)"
      ],
      "execution_count": 17,
      "outputs": []
    },
    {
      "cell_type": "code",
      "metadata": {
        "id": "vBMpS9gbtvG1"
      },
      "source": [
        "def create_submission(questions_csv_path):\n",
        "  data = pd.read_csv('test_pipeline_questions.csv', encoding='utf-8', sep='|')\n",
        "  answers = [predict(data['question'][i],\n",
        "                     [data['ps_0'][i], data['ps_1'][i], data['ps_2'][i]]) for i in range(len(data))]\n",
        "  \n",
        "  with open('answer.txt', 'w') as f:\n",
        "    f.write('\\n'.join(answers))\n",
        "  return answers"
      ],
      "execution_count": null,
      "outputs": []
    },
    {
      "cell_type": "code",
      "metadata": {
        "id": "zYKz3d5Uj9R9"
      },
      "source": [
        "data = pd.read_csv('test_pipeline_questions.csv', encoding='utf-8', sep='|')"
      ],
      "execution_count": 49,
      "outputs": []
    },
    {
      "cell_type": "code",
      "metadata": {
        "colab": {
          "base_uri": "https://localhost:8080/",
          "height": 111
        },
        "id": "5QdDVR4Ij9yj",
        "outputId": "7aeac98e-c773-43b8-8b16-59acb068164d"
      },
      "source": [
        "data.head()"
      ],
      "execution_count": 50,
      "outputs": [
        {
          "output_type": "execute_result",
          "data": {
            "text/html": [
              "<div>\n",
              "<style scoped>\n",
              "    .dataframe tbody tr th:only-of-type {\n",
              "        vertical-align: middle;\n",
              "    }\n",
              "\n",
              "    .dataframe tbody tr th {\n",
              "        vertical-align: top;\n",
              "    }\n",
              "\n",
              "    .dataframe thead th {\n",
              "        text-align: right;\n",
              "    }\n",
              "</style>\n",
              "<table border=\"1\" class=\"dataframe\">\n",
              "  <thead>\n",
              "    <tr style=\"text-align: right;\">\n",
              "      <th></th>\n",
              "      <th>question</th>\n",
              "      <th>ps_0</th>\n",
              "      <th>ps_1</th>\n",
              "      <th>ps_2</th>\n",
              "    </tr>\n",
              "  </thead>\n",
              "  <tbody>\n",
              "    <tr>\n",
              "      <th>0</th>\n",
              "      <td>В каком году был создан ВКонтакте?</td>\n",
              "      <td>1929</td>\n",
              "      <td>2021</td>\n",
              "      <td>2006</td>\n",
              "    </tr>\n",
              "    <tr>\n",
              "      <th>1</th>\n",
              "      <td>Кто придумал теорию относительности?</td>\n",
              "      <td>Альберт Энштейн</td>\n",
              "      <td>Исаак Ньютон</td>\n",
              "      <td>Мирон Федоров</td>\n",
              "    </tr>\n",
              "  </tbody>\n",
              "</table>\n",
              "</div>"
            ],
            "text/plain": [
              "                               question  ...           ps_2\n",
              "0    В каком году был создан ВКонтакте?  ...           2006\n",
              "1  Кто придумал теорию относительности?  ...  Мирон Федоров\n",
              "\n",
              "[2 rows x 4 columns]"
            ]
          },
          "metadata": {},
          "execution_count": 50
        }
      ]
    },
    {
      "cell_type": "code",
      "metadata": {
        "colab": {
          "base_uri": "https://localhost:8080/"
        },
        "id": "kfovoq5JmB4I",
        "outputId": "3c50b000-2e0b-4e50-d100-e79b070fbd38"
      },
      "source": [
        ""
      ],
      "execution_count": 60,
      "outputs": [
        {
          "output_type": "stream",
          "text": [
            "Mounted at /gdrive\n"
          ],
          "name": "stdout"
        }
      ]
    },
    {
      "cell_type": "code",
      "metadata": {
        "id": "e2MKwI_Dj-7C"
      },
      "source": [
        " data.to_csv(\"/gdrive/My Drive/Colab Notebooks/ColabMountDir/test_pipeline_questions_comma_sep.csv\")"
      ],
      "execution_count": 61,
      "outputs": []
    },
    {
      "cell_type": "code",
      "metadata": {
        "id": "ydFIoh81mp37"
      },
      "source": [
        ""
      ],
      "execution_count": null,
      "outputs": []
    }
  ]
}