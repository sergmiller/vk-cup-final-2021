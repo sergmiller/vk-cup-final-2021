{
 "cells": [
  {
   "cell_type": "code",
   "execution_count": 19,
   "metadata": {},
   "outputs": [],
   "source": [
    "import numpy as np\n",
    "import json\n",
    "import pandas as pd"
   ]
  },
  {
   "cell_type": "code",
   "execution_count": 2,
   "metadata": {},
   "outputs": [],
   "source": [
    "%config Completer.use_jedi = False"
   ]
  },
  {
   "cell_type": "code",
   "execution_count": 3,
   "metadata": {},
   "outputs": [],
   "source": [
    "QA_PATH = \"/Users/sergmiller/Downloads/triviaqa-rc/\""
   ]
  },
  {
   "cell_type": "code",
   "execution_count": 4,
   "metadata": {},
   "outputs": [],
   "source": [
    "with open(QA_PATH + \"qa/wikipedia-train.json\", \"r\") as f:\n",
    "    train_wiki = json.load(f)"
   ]
  },
  {
   "cell_type": "code",
   "execution_count": 7,
   "metadata": {},
   "outputs": [
    {
     "data": {
      "text/plain": [
       "dict_keys(['Data', 'Domain', 'Split', 'VerifiedEval', 'Version'])"
      ]
     },
     "execution_count": 7,
     "metadata": {},
     "output_type": "execute_result"
    }
   ],
   "source": [
    "train_wiki.keys()"
   ]
  },
  {
   "cell_type": "code",
   "execution_count": 9,
   "metadata": {},
   "outputs": [
    {
     "data": {
      "text/plain": [
       "61888"
      ]
     },
     "execution_count": 9,
     "metadata": {},
     "output_type": "execute_result"
    }
   ],
   "source": [
    "len(train_wiki['Data'])"
   ]
  },
  {
   "cell_type": "code",
   "execution_count": 10,
   "metadata": {},
   "outputs": [
    {
     "data": {
      "text/plain": [
       "{'Answer': {'Aliases': ['Park Grove (1895)',\n",
       "   'York UA',\n",
       "   'Yorkish',\n",
       "   'UN/LOCODE:GBYRK',\n",
       "   'York, UK',\n",
       "   'Eoforwic',\n",
       "   'Park Grove School',\n",
       "   'York Ham',\n",
       "   'The weather in York',\n",
       "   'City of York',\n",
       "   'York, England',\n",
       "   'York, Yorkshire',\n",
       "   'York ham',\n",
       "   'County Borough of York',\n",
       "   'YORK',\n",
       "   'Eoferwic',\n",
       "   'Park Grove Primary School',\n",
       "   'York, North Yorkshire',\n",
       "   'Yoisk',\n",
       "   'York',\n",
       "   'York (England)'],\n",
       "  'MatchedWikiEntityName': 'York',\n",
       "  'NormalizedAliases': ['york yorkshire',\n",
       "   'eoferwic',\n",
       "   'park grove primary school',\n",
       "   'park grove school',\n",
       "   'weather in york',\n",
       "   'park grove 1895',\n",
       "   'eoforwic',\n",
       "   'county borough of york',\n",
       "   'york uk',\n",
       "   'un locode gbyrk',\n",
       "   'city of york',\n",
       "   'york england',\n",
       "   'york ua',\n",
       "   'york ham',\n",
       "   'york',\n",
       "   'yorkish',\n",
       "   'yoisk',\n",
       "   'york north yorkshire'],\n",
       "  'NormalizedMatchedWikiEntityName': 'york',\n",
       "  'NormalizedValue': 'york',\n",
       "  'Type': 'WikipediaEntity',\n",
       "  'Value': 'York'},\n",
       " 'EntityPages': [{'DocSource': 'TagMe',\n",
       "   'Filename': 'England.txt',\n",
       "   'Title': 'England'},\n",
       "  {'DocSource': 'TagMe', 'Filename': 'Judi_Dench.txt', 'Title': 'Judi Dench'}],\n",
       " 'Question': 'Where in England was Dame Judi Dench born?',\n",
       " 'QuestionId': 'tc_3',\n",
       " 'QuestionSource': 'http://www.triviacountry.com/'}"
      ]
     },
     "execution_count": 10,
     "metadata": {},
     "output_type": "execute_result"
    }
   ],
   "source": [
    "train_wiki['Data'][0]"
   ]
  },
  {
   "cell_type": "code",
   "execution_count": 17,
   "metadata": {},
   "outputs": [
    {
     "name": "stderr",
     "output_type": "stream",
     "text": [
      "100%|██████████| 61888/61888 [00:00<00:00, 318058.11it/s]\n"
     ]
    }
   ],
   "source": [
    "import tqdm\n",
    "\n",
    "en_questions_bundle = []\n",
    "for q in tqdm.tqdm(train_wiki['Data'], position=0):\n",
    "    ans = q['Answer']\n",
    "    if 'MatchedWikiEntityName' not in ans:\n",
    "        continue\n",
    "    entity_name = ans['MatchedWikiEntityName']\n",
    "    if entity_name is None or entity_name == \"\":\n",
    "        continue\n",
    "    question = q[\"Question\"]\n",
    "    en_questions_bundle.append([question, entity_name])"
   ]
  },
  {
   "cell_type": "code",
   "execution_count": 21,
   "metadata": {},
   "outputs": [],
   "source": [
    "pd.DataFrame(en_questions_bundle).to_csv(\"data/en_questions_bundle.csv\")"
   ]
  },
  {
   "cell_type": "code",
   "execution_count": null,
   "metadata": {},
   "outputs": [],
   "source": []
  }
 ],
 "metadata": {
  "kernelspec": {
   "display_name": "Python 3",
   "language": "python",
   "name": "python3"
  },
  "language_info": {
   "codemirror_mode": {
    "name": "ipython",
    "version": 3
   },
   "file_extension": ".py",
   "mimetype": "text/x-python",
   "name": "python",
   "nbconvert_exporter": "python",
   "pygments_lexer": "ipython3",
   "version": "3.7.9"
  }
 },
 "nbformat": 4,
 "nbformat_minor": 4
}
