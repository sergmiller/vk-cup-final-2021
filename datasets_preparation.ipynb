{
 "cells": [
  {
   "cell_type": "code",
   "execution_count": 19,
   "metadata": {},
   "outputs": [],
   "source": [
    "import numpy as np\n",
    "import json\n",
    "import pandas as pd"
   ]
  },
  {
   "cell_type": "code",
   "execution_count": 2,
   "metadata": {},
   "outputs": [],
   "source": [
    "%config Completer.use_jedi = False"
   ]
  },
  {
   "cell_type": "markdown",
   "metadata": {},
   "source": [
    "Подготовка датасета LargeQA Trivia version 1.0 http://nlp.cs.washington.edu/triviaqa/"
   ]
  },
  {
   "cell_type": "code",
   "execution_count": 3,
   "metadata": {},
   "outputs": [],
   "source": [
    "QA_PATH = \"/Users/sergmiller/Downloads/triviaqa-rc/\""
   ]
  },
  {
   "cell_type": "code",
   "execution_count": 4,
   "metadata": {},
   "outputs": [],
   "source": [
    "with open(QA_PATH + \"qa/wikipedia-train.json\", \"r\") as f:\n",
    "    train_wiki = json.load(f)"
   ]
  },
  {
   "cell_type": "code",
   "execution_count": 7,
   "metadata": {},
   "outputs": [
    {
     "data": {
      "text/plain": [
       "dict_keys(['Data', 'Domain', 'Split', 'VerifiedEval', 'Version'])"
      ]
     },
     "execution_count": 7,
     "metadata": {},
     "output_type": "execute_result"
    }
   ],
   "source": [
    "train_wiki.keys()"
   ]
  },
  {
   "cell_type": "code",
   "execution_count": 9,
   "metadata": {},
   "outputs": [
    {
     "data": {
      "text/plain": [
       "61888"
      ]
     },
     "execution_count": 9,
     "metadata": {},
     "output_type": "execute_result"
    }
   ],
   "source": [
    "len(train_wiki['Data'])"
   ]
  },
  {
   "cell_type": "code",
   "execution_count": 22,
   "metadata": {},
   "outputs": [
    {
     "data": {
      "text/plain": [
       "[(1, 2), (-1, 3)]"
      ]
     },
     "execution_count": 22,
     "metadata": {},
     "output_type": "execute_result"
    }
   ],
   "source": [
    "sorted([(1,2), (-1,3)], key=lambda x:x[1])"
   ]
  },
  {
   "cell_type": "code",
   "execution_count": 10,
   "metadata": {},
   "outputs": [
    {
     "data": {
      "text/plain": [
       "{'Answer': {'Aliases': ['Park Grove (1895)',\n",
       "   'York UA',\n",
       "   'Yorkish',\n",
       "   'UN/LOCODE:GBYRK',\n",
       "   'York, UK',\n",
       "   'Eoforwic',\n",
       "   'Park Grove School',\n",
       "   'York Ham',\n",
       "   'The weather in York',\n",
       "   'City of York',\n",
       "   'York, England',\n",
       "   'York, Yorkshire',\n",
       "   'York ham',\n",
       "   'County Borough of York',\n",
       "   'YORK',\n",
       "   'Eoferwic',\n",
       "   'Park Grove Primary School',\n",
       "   'York, North Yorkshire',\n",
       "   'Yoisk',\n",
       "   'York',\n",
       "   'York (England)'],\n",
       "  'MatchedWikiEntityName': 'York',\n",
       "  'NormalizedAliases': ['york yorkshire',\n",
       "   'eoferwic',\n",
       "   'park grove primary school',\n",
       "   'park grove school',\n",
       "   'weather in york',\n",
       "   'park grove 1895',\n",
       "   'eoforwic',\n",
       "   'county borough of york',\n",
       "   'york uk',\n",
       "   'un locode gbyrk',\n",
       "   'city of york',\n",
       "   'york england',\n",
       "   'york ua',\n",
       "   'york ham',\n",
       "   'york',\n",
       "   'yorkish',\n",
       "   'yoisk',\n",
       "   'york north yorkshire'],\n",
       "  'NormalizedMatchedWikiEntityName': 'york',\n",
       "  'NormalizedValue': 'york',\n",
       "  'Type': 'WikipediaEntity',\n",
       "  'Value': 'York'},\n",
       " 'EntityPages': [{'DocSource': 'TagMe',\n",
       "   'Filename': 'England.txt',\n",
       "   'Title': 'England'},\n",
       "  {'DocSource': 'TagMe', 'Filename': 'Judi_Dench.txt', 'Title': 'Judi Dench'}],\n",
       " 'Question': 'Where in England was Dame Judi Dench born?',\n",
       " 'QuestionId': 'tc_3',\n",
       " 'QuestionSource': 'http://www.triviacountry.com/'}"
      ]
     },
     "execution_count": 10,
     "metadata": {},
     "output_type": "execute_result"
    }
   ],
   "source": [
    "train_wiki['Data'][0]"
   ]
  },
  {
   "cell_type": "code",
   "execution_count": 17,
   "metadata": {},
   "outputs": [
    {
     "name": "stderr",
     "output_type": "stream",
     "text": [
      "100%|██████████| 61888/61888 [00:00<00:00, 318058.11it/s]\n"
     ]
    }
   ],
   "source": [
    "import tqdm\n",
    "\n",
    "en_questions_bundle = []\n",
    "for q in tqdm.tqdm(train_wiki['Data'], position=0):\n",
    "    ans = q['Answer']\n",
    "    if 'MatchedWikiEntityName' not in ans:\n",
    "        continue\n",
    "    entity_name = ans['MatchedWikiEntityName']\n",
    "    if entity_name is None or entity_name == \"\":\n",
    "        continue\n",
    "    question = q[\"Question\"]\n",
    "    en_questions_bundle.append([question, entity_name])"
   ]
  },
  {
   "cell_type": "code",
   "execution_count": 21,
   "metadata": {},
   "outputs": [],
   "source": [
    "pd.DataFrame(en_questions_bundle).to_csv(\"data/en_questions_bundle.csv\")"
   ]
  },
  {
   "cell_type": "markdown",
   "metadata": {},
   "source": [
    "Подготовка датасета RuBQ 2.0 test https://github.com/vladislavneon/RuBQ/blob/master/RuBQ_2.0/RuBQ_2.0_test.json"
   ]
  },
  {
   "cell_type": "code",
   "execution_count": 31,
   "metadata": {},
   "outputs": [],
   "source": [
    "with open(\"data/RuBQ_2.0_test.json\", \"r\") as f:\n",
    "    rubq = json.load(f)"
   ]
  },
  {
   "cell_type": "code",
   "execution_count": 32,
   "metadata": {},
   "outputs": [
    {
     "data": {
      "text/plain": [
       "2330"
      ]
     },
     "execution_count": 32,
     "metadata": {},
     "output_type": "execute_result"
    }
   ],
   "source": [
    "len(rubq)"
   ]
  },
  {
   "cell_type": "code",
   "execution_count": 33,
   "metadata": {},
   "outputs": [
    {
     "name": "stderr",
     "output_type": "stream",
     "text": [
      "100%|██████████| 2330/2330 [00:00<00:00, 451042.06it/s]\n"
     ]
    }
   ],
   "source": [
    "import tqdm\n",
    "\n",
    "rubq_questions_bundle = []\n",
    "for q in tqdm.tqdm(rubq, position=0):\n",
    "    question = q[\"question_text\"]\n",
    "    answer = q['answer_text']\n",
    "    rubq_questions_bundle.append([question, answer])"
   ]
  },
  {
   "cell_type": "code",
   "execution_count": 27,
   "metadata": {},
   "outputs": [
    {
     "data": {
      "text/plain": [
       "{'uid': 0,\n",
       " 'question_text': 'Что может вызвать цунами?',\n",
       " 'query': 'SELECT ?answer \\nWHERE {\\n  wd:Q8070 wdt:P828 ?answer\\n}',\n",
       " 'answer_text': 'Землетрясение',\n",
       " 'question_uris': ['http://www.wikidata.org/entity/Q8070'],\n",
       " 'question_props': ['wdt:P828'],\n",
       " 'answers': [{'type': 'uri',\n",
       "   'label': 'землетрясение',\n",
       "   'value': 'http://www.wikidata.org/entity/Q7944',\n",
       "   'wd_names': {'ru': ['землетрясение', 'җир тетрәве'],\n",
       "    'en': ['seism',\n",
       "     'earthquake',\n",
       "     'seismic activity',\n",
       "     'fore shocks',\n",
       "     'tremor',\n",
       "     'earthquakes',\n",
       "     'earth quake',\n",
       "     'earthtemblor',\n",
       "     'foreshock',\n",
       "     'aftershock',\n",
       "     'quake',\n",
       "     'temblor',\n",
       "     'earth temblor',\n",
       "     'foreshocks',\n",
       "     'after shocks',\n",
       "     'earth quakes',\n",
       "     'after shock',\n",
       "     'earthtremor',\n",
       "     'convulsion',\n",
       "     'earth tremor',\n",
       "     'shock',\n",
       "     'fore shock',\n",
       "     'aftershocks']},\n",
       "   'wp_names': ['землетрясениям']},\n",
       "  {'type': 'uri',\n",
       "   'label': 'метеорит',\n",
       "   'value': 'http://www.wikidata.org/entity/Q60186',\n",
       "   'wd_names': {'ru': ['метеорит', 'Метеориты', 'Аэролиты'],\n",
       "    'en': ['shooting star', 'meteorite']},\n",
       "   'wp_names': []},\n",
       "  {'type': 'uri',\n",
       "   'label': 'оползень',\n",
       "   'value': 'http://www.wikidata.org/entity/Q167903',\n",
       "   'wd_names': {'ru': ['оползень', 'оползни'],\n",
       "    'en': ['Rock avalanche', 'landslide', 'landslip']},\n",
       "   'wp_names': ['оползни', 'оползнями']},\n",
       "  {'type': 'uri',\n",
       "   'label': 'Проект Seal',\n",
       "   'value': 'http://www.wikidata.org/entity/Q2580904',\n",
       "   'wd_names': {'ru': ['Проект Seal'], 'en': ['tsunami bomb']},\n",
       "   'wp_names': []},\n",
       "  {'type': 'uri',\n",
       "   'label': 'подводный оползень',\n",
       "   'value': 'http://www.wikidata.org/entity/Q5975740',\n",
       "   'wd_names': {'ru': [],\n",
       "    'en': ['undersea landslide',\n",
       "     'submarine landslide',\n",
       "     'underwater landslide']},\n",
       "   'wp_names': []},\n",
       "  {'type': 'uri',\n",
       "   'label': 'извержение вулкана',\n",
       "   'value': 'http://www.wikidata.org/entity/Q7692360',\n",
       "   'wd_names': {'ru': ['Фреатическое извержение',\n",
       "     'Вулканические извержения',\n",
       "     'Стромболианское извержение',\n",
       "     'извержение вулкана',\n",
       "     'Гавайское извержение',\n",
       "     'Газовое извержение',\n",
       "     'Вулканическое извержение',\n",
       "     'Пелейское извержение'],\n",
       "    'en': ['volcano eruption', 'volcanic eruption', 'eruption']},\n",
       "   'wp_names': ['извержения вулкана']}],\n",
       " 'paragraphs_uids': {'with_answer': [35622],\n",
       "  'all_related': [35622,\n",
       "   35623,\n",
       "   35624,\n",
       "   35625,\n",
       "   35626,\n",
       "   35632,\n",
       "   35633,\n",
       "   35634,\n",
       "   35635,\n",
       "   35636,\n",
       "   35637,\n",
       "   35638,\n",
       "   35639,\n",
       "   35640,\n",
       "   35641,\n",
       "   35642,\n",
       "   35643,\n",
       "   35644,\n",
       "   35645,\n",
       "   35646,\n",
       "   35647,\n",
       "   35648,\n",
       "   35649,\n",
       "   35650,\n",
       "   35651]},\n",
       " 'tags': ['1-hop'],\n",
       " 'RuBQ_version': '1.0',\n",
       " 'question_eng': 'What can cause a tsunami?'}"
      ]
     },
     "execution_count": 27,
     "metadata": {},
     "output_type": "execute_result"
    }
   ],
   "source": [
    "test_rubq[0]"
   ]
  },
  {
   "cell_type": "code",
   "execution_count": 36,
   "metadata": {},
   "outputs": [],
   "source": [
    "pd.DataFrame(rubq_questions_bundle).to_csv(\"data/rubq_questions_bundle.csv\")"
   ]
  },
  {
   "cell_type": "code",
   "execution_count": null,
   "metadata": {},
   "outputs": [],
   "source": []
  }
 ],
 "metadata": {
  "kernelspec": {
   "display_name": "Python 3",
   "language": "python",
   "name": "python3"
  },
  "language_info": {
   "codemirror_mode": {
    "name": "ipython",
    "version": 3
   },
   "file_extension": ".py",
   "mimetype": "text/x-python",
   "name": "python",
   "nbconvert_exporter": "python",
   "pygments_lexer": "ipython3",
   "version": "3.7.9"
  }
 },
 "nbformat": 4,
 "nbformat_minor": 4
}
