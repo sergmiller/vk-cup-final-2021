{
 "cells": [
  {
   "cell_type": "code",
   "execution_count": 3,
   "metadata": {
    "scrolled": true
   },
   "outputs": [
    {
     "name": "stdout",
     "output_type": "stream",
     "text": [
      "Requirement already satisfied: transformers==4.9.2 in /Library/Frameworks/Python.framework/Versions/3.7/lib/python3.7/site-packages (4.9.2)\n",
      "Requirement already satisfied: requests in /Library/Frameworks/Python.framework/Versions/3.7/lib/python3.7/site-packages (from transformers==4.9.2) (2.25.1)\n",
      "Requirement already satisfied: huggingface-hub==0.0.12 in /Library/Frameworks/Python.framework/Versions/3.7/lib/python3.7/site-packages (from transformers==4.9.2) (0.0.12)\n",
      "Requirement already satisfied: packaging in /Library/Frameworks/Python.framework/Versions/3.7/lib/python3.7/site-packages (from transformers==4.9.2) (21.0)\n",
      "Requirement already satisfied: filelock in /Users/sergmiller/Library/Python/3.7/lib/python/site-packages (from transformers==4.9.2) (3.0.12)\n",
      "Requirement already satisfied: tqdm>=4.27 in /Library/Frameworks/Python.framework/Versions/3.7/lib/python3.7/site-packages (from transformers==4.9.2) (4.55.1)\n",
      "Requirement already satisfied: numpy>=1.17 in /Library/Frameworks/Python.framework/Versions/3.7/lib/python3.7/site-packages (from transformers==4.9.2) (1.19.4)\n",
      "Requirement already satisfied: sacremoses in /Users/sergmiller/Library/Python/3.7/lib/python/site-packages (from transformers==4.9.2) (0.0.43)\n",
      "Requirement already satisfied: tokenizers<0.11,>=0.10.1 in /Users/sergmiller/Library/Python/3.7/lib/python/site-packages (from transformers==4.9.2) (0.10.1)\n",
      "Requirement already satisfied: pyyaml>=5.1 in /Library/Frameworks/Python.framework/Versions/3.7/lib/python3.7/site-packages (from transformers==4.9.2) (5.4.1)\n",
      "Requirement already satisfied: regex!=2019.12.17 in /Users/sergmiller/Library/Python/3.7/lib/python/site-packages (from transformers==4.9.2) (2020.11.13)\n",
      "Requirement already satisfied: importlib-metadata in /Library/Frameworks/Python.framework/Versions/3.7/lib/python3.7/site-packages (from transformers==4.9.2) (3.3.0)\n",
      "Requirement already satisfied: typing-extensions in /Library/Frameworks/Python.framework/Versions/3.7/lib/python3.7/site-packages (from huggingface-hub==0.0.12->transformers==4.9.2) (3.7.4.3)\n",
      "Requirement already satisfied: pyparsing>=2.0.2 in /Library/Frameworks/Python.framework/Versions/3.7/lib/python3.7/site-packages (from packaging->transformers==4.9.2) (2.4.7)\n",
      "Requirement already satisfied: zipp>=0.5 in /Library/Frameworks/Python.framework/Versions/3.7/lib/python3.7/site-packages (from importlib-metadata->transformers==4.9.2) (3.4.0)\n",
      "Requirement already satisfied: certifi>=2017.4.17 in /Library/Frameworks/Python.framework/Versions/3.7/lib/python3.7/site-packages (from requests->transformers==4.9.2) (2020.12.5)\n",
      "Requirement already satisfied: chardet<5,>=3.0.2 in /Library/Frameworks/Python.framework/Versions/3.7/lib/python3.7/site-packages (from requests->transformers==4.9.2) (4.0.0)\n",
      "Requirement already satisfied: urllib3<1.27,>=1.21.1 in /Library/Frameworks/Python.framework/Versions/3.7/lib/python3.7/site-packages (from requests->transformers==4.9.2) (1.26.2)\n",
      "Requirement already satisfied: idna<3,>=2.5 in /Library/Frameworks/Python.framework/Versions/3.7/lib/python3.7/site-packages (from requests->transformers==4.9.2) (2.10)\n",
      "Requirement already satisfied: six in /Library/Frameworks/Python.framework/Versions/3.7/lib/python3.7/site-packages (from sacremoses->transformers==4.9.2) (1.15.0)\n",
      "Requirement already satisfied: joblib in /Library/Frameworks/Python.framework/Versions/3.7/lib/python3.7/site-packages (from sacremoses->transformers==4.9.2) (1.0.0)\n",
      "Requirement already satisfied: click in /Users/sergmiller/Library/Python/3.7/lib/python/site-packages (from sacremoses->transformers==4.9.2) (7.1.2)\n",
      "\u001b[33mWARNING: You are using pip version 21.0.1; however, version 21.2.4 is available.\n",
      "You should consider upgrading via the '/usr/local/bin/python3.7 -m pip install --upgrade pip' command.\u001b[0m\n"
     ]
    }
   ],
   "source": [
    "!python3.7 -m pip install transformers==4.9.2"
   ]
  },
  {
   "cell_type": "code",
   "execution_count": 13,
   "metadata": {},
   "outputs": [],
   "source": [
    "import numpy as np\n",
    "import pandas as pd\n",
    "\n",
    "import matplotlib.pyplot as plt\n",
    "\n",
    "from collections import defaultdict\n",
    "\n",
    "%matplotlib inline"
   ]
  },
  {
   "cell_type": "code",
   "execution_count": 14,
   "metadata": {},
   "outputs": [],
   "source": [
    "%config Completer.use_jedi = False"
   ]
  },
  {
   "cell_type": "code",
   "execution_count": 4,
   "metadata": {},
   "outputs": [],
   "source": [
    "import pandas as pd\n",
    "import numpy as np\n",
    "from transformers import GPT2LMHeadModel, GPT2Tokenizer\n",
    "\n",
    "\n",
    "model_name_or_path = \"sberbank-ai/rugpt3large_based_on_gpt2\"\n",
    "tokenizer = GPT2Tokenizer.from_pretrained(model_name_or_path)\n",
    "# model = GPT2LMHeadModel.from_pretrained(model_name_or_path).cuda()"
   ]
  },
  {
   "cell_type": "code",
   "execution_count": 7,
   "metadata": {},
   "outputs": [],
   "source": [
    "BASE_PATH = \"data/\""
   ]
  },
  {
   "cell_type": "code",
   "execution_count": 8,
   "metadata": {},
   "outputs": [],
   "source": [
    "train_data = pd.read_csv(BASE_PATH + 'rus_train_dataset.csv', encoding='utf-8', sep='|')\n",
    "en_ru_aux_data = pd.read_csv(BASE_PATH + 'en_to_rus_train_dataset.csv', encoding='utf-8', sep='|')"
   ]
  },
  {
   "cell_type": "code",
   "execution_count": 32,
   "metadata": {},
   "outputs": [
    {
     "name": "stdout",
     "output_type": "stream",
     "text": [
      "CPU times: user 540 ms, sys: 975 ms, total: 1.52 s\n",
      "Wall time: 2.02 s\n"
     ]
    }
   ],
   "source": [
    "%%time\n",
    "train_bundle = np.load(BASE_PATH + 'train_dataset_bundle.npy', allow_pickle=True)"
   ]
  },
  {
   "cell_type": "code",
   "execution_count": 34,
   "metadata": {},
   "outputs": [
    {
     "data": {
      "text/plain": [
       "{'q': {'tokens': array([[ 4182,  7291, 13004, 18112,  1612,  7977,   282,  3723,   707,\n",
       "             35]]),\n",
       "  'likelihood': 55.590515,\n",
       "  'embed': array([[[-0.10105464,  0.01616081,  0.42873275, ..., -0.10581393,\n",
       "            1.0124849 , -0.6411731 ],\n",
       "          [ 0.07145833, -0.48871338,  0.47270167, ...,  0.35405552,\n",
       "            0.0315832 ,  0.05505302],\n",
       "          [-0.3825777 ,  0.09196834, -0.23344886, ..., -0.5369391 ,\n",
       "           -0.18912771, -0.5008245 ],\n",
       "          ...,\n",
       "          [ 0.5705487 , -0.1342039 ,  0.20777151, ..., -1.1217256 ,\n",
       "            1.155151  ,  0.0294059 ],\n",
       "          [-0.3563176 , -0.388275  , -0.42374414, ..., -0.4476165 ,\n",
       "            0.7153409 , -0.28883162],\n",
       "          [-1.1544749 , -0.06022687, -0.30357346, ..., -0.47898966,\n",
       "            0.8051275 ,  0.32764208]]], dtype=float32)},\n",
       " 'a1': {'tokens': array([[ 4182,  7291, 13004, 18112,  1612,  7977,   282,  3723,   707,\n",
       "             35,  9266,   277]]),\n",
       "  'likelihood': 67.78197,\n",
       "  'embed': array([[[-0.10105464,  0.01616081,  0.42873275, ..., -0.10581393,\n",
       "            1.0124849 , -0.6411731 ],\n",
       "          [ 0.07145833, -0.48871338,  0.47270167, ...,  0.35405552,\n",
       "            0.0315832 ,  0.05505302],\n",
       "          [-0.3825777 ,  0.09196834, -0.23344886, ..., -0.5369391 ,\n",
       "           -0.18912771, -0.5008245 ],\n",
       "          ...,\n",
       "          [-1.1544751 , -0.06022664, -0.30357388, ..., -0.47898966,\n",
       "            0.8051272 ,  0.32764256],\n",
       "          [-0.3393634 ,  0.10181887,  0.5683637 , ..., -1.2027193 ,\n",
       "           -0.36556008,  0.40437353],\n",
       "          [ 1.0317348 ,  0.21290718,  0.50464636, ..., -0.40638337,\n",
       "           -0.26882127,  0.43039846]]], dtype=float32)},\n",
       " 'a2': {'tokens': array([[ 4182,  7291, 13004, 18112,  1612,  7977,   282,  3723,   707,\n",
       "             35, 34297]]),\n",
       "  'likelihood': 58.154915,\n",
       "  'embed': array([[[-0.10105464,  0.01616081,  0.42873275, ..., -0.10581393,\n",
       "            1.0124849 , -0.6411731 ],\n",
       "          [ 0.07145833, -0.48871338,  0.47270167, ...,  0.35405552,\n",
       "            0.0315832 ,  0.05505302],\n",
       "          [-0.3825777 ,  0.09196834, -0.23344886, ..., -0.5369391 ,\n",
       "           -0.18912771, -0.5008245 ],\n",
       "          ...,\n",
       "          [-0.35631713, -0.38827524, -0.42374423, ..., -0.44761688,\n",
       "            0.71534127, -0.28883228],\n",
       "          [-1.1544751 , -0.06022664, -0.30357388, ..., -0.47898966,\n",
       "            0.8051272 ,  0.32764256],\n",
       "          [ 0.44030535,  0.4628766 , -0.17885327, ..., -0.32241654,\n",
       "            0.13494845, -0.35329437]]], dtype=float32)},\n",
       " 'a3': {'tokens': array([[ 4182,  7291, 13004, 18112,  1612,  7977,   282,  3723,   707,\n",
       "             35, 18696,   277]]),\n",
       "  'likelihood': 63.212646,\n",
       "  'embed': array([[[-0.10105464,  0.01616081,  0.42873275, ..., -0.10581393,\n",
       "            1.0124849 , -0.6411731 ],\n",
       "          [ 0.07145833, -0.48871338,  0.47270167, ...,  0.35405552,\n",
       "            0.0315832 ,  0.05505302],\n",
       "          [-0.3825777 ,  0.09196834, -0.23344886, ..., -0.5369391 ,\n",
       "           -0.18912771, -0.5008245 ],\n",
       "          ...,\n",
       "          [-1.1544751 , -0.06022664, -0.30357388, ..., -0.47898966,\n",
       "            0.8051272 ,  0.32764256],\n",
       "          [ 0.53074497,  0.2901608 , -0.06026283, ..., -0.6955209 ,\n",
       "            0.1552784 ,  0.0957253 ],\n",
       "          [ 0.691199  , -0.32908708, -0.09722845, ...,  1.0584592 ,\n",
       "            0.42891082, -0.18259877]]], dtype=float32)}}"
      ]
     },
     "execution_count": 34,
     "metadata": {},
     "output_type": "execute_result"
    }
   ],
   "source": [
    "train_bundle[0]"
   ]
  },
  {
   "cell_type": "code",
   "execution_count": 15,
   "metadata": {},
   "outputs": [
    {
     "data": {
      "text/plain": [
       "(array([1447.,    0.,    0.,    0.,    0., 1303.,    0.,    0.,    0.,\n",
       "        1311.]),\n",
       " array([0. , 0.2, 0.4, 0.6, 0.8, 1. , 1.2, 1.4, 1.6, 1.8, 2. ]),\n",
       " <BarContainer object of 10 artists>)"
      ]
     },
     "execution_count": 15,
     "metadata": {},
     "output_type": "execute_result"
    },
    {
     "data": {
      "image/png": "[encoded data removed]",
      "text/plain": [
       "<Figure size 432x288 with 1 Axes>"
      ]
     },
     "metadata": {
      "needs_background": "light"
     },
     "output_type": "display_data"
    }
   ],
   "source": [
    "plt.hist(train_data[\"right_answer_id\"].values)"
   ]
  },
  {
   "cell_type": "code",
   "execution_count": 27,
   "metadata": {},
   "outputs": [
    {
     "data": {
      "text/plain": [
       "Counter({'2.0': 626,\n",
       "         '0.0': 390,\n",
       "         '1.0': 626,\n",
       "         nan: 69,\n",
       "         '0,0': 210,\n",
       "         'right_answer_id': 2,\n",
       "         '1,0': 14,\n",
       "         '2,0': 3,\n",
       "         '1.0.': 1})"
      ]
     },
     "execution_count": 27,
     "metadata": {},
     "output_type": "execute_result"
    }
   ],
   "source": [
    "from collections import Counter\n",
    "Counter(en_ru_aux_data[\"right_answer_id\"].values)"
   ]
  },
  {
   "cell_type": "code",
   "execution_count": 29,
   "metadata": {},
   "outputs": [
    {
     "data": {
      "text/plain": [
       "(array([ 71.,   0.,   0., 600.,   0.,   0., 641.,   0.,   0., 629.]),\n",
       " array([-1. , -0.7, -0.4, -0.1,  0.2,  0.5,  0.8,  1.1,  1.4,  1.7,  2. ]),\n",
       " <BarContainer object of 10 artists>)"
      ]
     },
     "execution_count": 29,
     "metadata": {},
     "output_type": "execute_result"
    },
    {
     "data": {
      "image/png": "[encoded data removed]",
      "text/plain": [
       "<Figure size 432x288 with 1 Axes>"
      ]
     },
     "metadata": {
      "needs_background": "light"
     },
     "output_type": "display_data"
    }
   ],
   "source": [
    "def _fix_input(x):\n",
    "    if x in ['0.0', '1.0', '2.0', '0,0', '1,0', '2,0', '1.0.']:\n",
    "        return float(x[0])\n",
    "    return -1\n",
    "plt.hist([_fix_input(x) for x in en_ru_aux_data[\"right_answer_id\"].values])"
   ]
  },
  {
   "cell_type": "code",
   "execution_count": 43,
   "metadata": {},
   "outputs": [],
   "source": [
    "def evaluate(generator, pipe, aggregator):\n",
    "    for _split in generator:\n",
    "        aggregator(pipe(_split))"
   ]
  },
  {
   "cell_type": "code",
   "execution_count": 758,
   "metadata": {},
   "outputs": [],
   "source": [
    "from scipy.stats import norm\n",
    "\n",
    "def p_val(x):\n",
    "    return 2 * min(norm.cdf(-x), norm.cdf(x))\n",
    "\n",
    "class ScoreAggregator:\n",
    "    def __init__(self):\n",
    "        self._scores = []\n",
    "        self._baselines = []\n",
    "    def __call__(self, update):\n",
    "        score, baseline = update\n",
    "        self._scores.append(score)\n",
    "        self._baselines.append(baseline)\n",
    "    def calc_info(self):\n",
    "        diff = np.array(self._scores) - np.array(self._baselines)\n",
    "        return {\"mean_score\": np.mean(self._scores), \"std_score\": np.std(self._scores),\n",
    "               \"mean_diff\": np.mean(diff), \"std_diff\": np.std(diff), \"p_value\": p_val(np.mean(diff) / (np.std(diff) + 1e-9))}\n"
   ]
  },
  {
   "cell_type": "code",
   "execution_count": 723,
   "metadata": {},
   "outputs": [],
   "source": [
    "train_raw_targets = train_data[\"right_answer_id\"].values\n",
    "def extract_targets_in_domain(idxs: np.array, is_pairwise: bool) -> np.array:\n",
    "    if not is_pairwise:\n",
    "        return train_raw_targets[idxs]\n",
    "    targets = np.zeros(len(idxs) * 3)\n",
    "    for i, t in enumerate(train_raw_targets[idxs]):\n",
    "        targets[3 * i + t] = 1\n",
    "    return targets"
   ]
  },
  {
   "cell_type": "code",
   "execution_count": 462,
   "metadata": {},
   "outputs": [
    {
     "data": {
      "text/plain": [
       "array([0, 0, 0, 1, 1])"
      ]
     },
     "execution_count": 462,
     "metadata": {},
     "output_type": "execute_result"
    }
   ],
   "source": [
    "np.arange(5) // 3"
   ]
  },
  {
   "cell_type": "code",
   "execution_count": 57,
   "metadata": {},
   "outputs": [
    {
     "data": {
      "text/plain": [
       "(1, 10, 1536)"
      ]
     },
     "execution_count": 57,
     "metadata": {},
     "output_type": "execute_result"
    }
   ],
   "source": [
    "train_bundle[0]['q']['embed'].shape"
   ]
  },
  {
   "cell_type": "code",
   "execution_count": 62,
   "metadata": {},
   "outputs": [
    {
     "data": {
      "text/plain": [
       "array([[ 4182,  7291, 13004, 18112,  1612,  7977,   282,  3723,   707,\n",
       "           35]])"
      ]
     },
     "execution_count": 62,
     "metadata": {},
     "output_type": "execute_result"
    }
   ],
   "source": [
    "train_bundle[0]['q']['tokens']"
   ]
  },
  {
   "cell_type": "code",
   "execution_count": 58,
   "metadata": {},
   "outputs": [
    {
     "data": {
      "text/plain": [
       "(1, 12, 1536)"
      ]
     },
     "execution_count": 58,
     "metadata": {},
     "output_type": "execute_result"
    }
   ],
   "source": [
    "train_bundle[1]['q']['embed'].shape"
   ]
  },
  {
   "cell_type": "code",
   "execution_count": 61,
   "metadata": {},
   "outputs": [
    {
     "data": {
      "text/plain": [
       "array([[46928,   411, 22672,  3541,  5511,  1888, 26756, 26109,  2422,\n",
       "          334, 40730,    35]])"
      ]
     },
     "execution_count": 61,
     "metadata": {},
     "output_type": "execute_result"
    }
   ],
   "source": [
    "train_bundle[1]['q']['tokens']"
   ]
  },
  {
   "cell_type": "code",
   "execution_count": 239,
   "metadata": {},
   "outputs": [
    {
     "data": {
      "text/plain": [
       "(1536,)"
      ]
     },
     "execution_count": 239,
     "metadata": {},
     "output_type": "execute_result"
    }
   ],
   "source": [
    "train_bundle[0]['q']['embed'][0][-1].reshape(-1).shape"
   ]
  },
  {
   "cell_type": "code",
   "execution_count": 572,
   "metadata": {},
   "outputs": [
    {
     "data": {
      "text/plain": [
       "-0.003485747948384979"
      ]
     },
     "execution_count": 572,
     "metadata": {},
     "output_type": "execute_result"
    }
   ],
   "source": [
    "H = 32\n",
    "np.random.seed(0)\n",
    "random_proj = np.random.normal(size=(1536, H))\n",
    "np.mean(random_proj)"
   ]
  },
  {
   "cell_type": "code",
   "execution_count": 371,
   "metadata": {},
   "outputs": [],
   "source": [
    "from sklearn.feature_extraction.text import TfidfVectorizer\n",
    "from sklearn.decomposition import TruncatedSVD"
   ]
  },
  {
   "cell_type": "code",
   "execution_count": 573,
   "metadata": {},
   "outputs": [],
   "source": [
    "tf_idf_vectorizer = TfidfVectorizer()"
   ]
  },
  {
   "cell_type": "code",
   "execution_count": 370,
   "metadata": {},
   "outputs": [],
   "source": [
    "tf_idf_train = tf_idf_vectorizer.fit_transform(train_data[\"question\"].values)"
   ]
  },
  {
   "cell_type": "code",
   "execution_count": 574,
   "metadata": {},
   "outputs": [],
   "source": [
    "svd = TruncatedSVD(n_components=16, random_state=0)"
   ]
  },
  {
   "cell_type": "code",
   "execution_count": 575,
   "metadata": {},
   "outputs": [],
   "source": [
    "tf_idf_train_svd_projected = svd.fit_transform(tf_idf_train)"
   ]
  },
  {
   "cell_type": "code",
   "execution_count": 724,
   "metadata": {},
   "outputs": [],
   "source": [
    "def make_emb_random_proj(emb: np.array):\n",
    "    emb_proj = np.matmul(emb, random_proj)\n",
    "    emb_proj /= np.sum(np.abs(emb_proj))\n",
    "    return emb_proj\n",
    "\n",
    "\n",
    "def extract_features_in_domain_v1(idxs: np.array, reset_cache: bool=True, is_pairwise: bool=False,_cache=dict()) -> np.array:\n",
    "    res = []\n",
    "    if reset_cache:\n",
    "        _cache = dict()\n",
    "    for idx in idxs:\n",
    "        if idx in _cache:\n",
    "            vec = _cache[idx]\n",
    "        else:\n",
    "            emb = train_bundle[idx]['q']['embed'][0][-1].reshape(-1)\n",
    "        #         emb /= np.sum(np.abs(emb))\n",
    "            emb_proj = make_emb_random_proj(emb)\n",
    "            tf_idf_emb = tf_idf_train_svd_projected[idx]\n",
    "            tf_idf_emb /= np.sum(np.abs(tf_idf_emb))\n",
    "\n",
    "            ll = np.array([\n",
    "                train_bundle[idx]['a1']['likelihood'],\n",
    "                train_bundle[idx]['a2']['likelihood'],\n",
    "                train_bundle[idx]['a3']['likelihood'],\n",
    "            ])\n",
    "            embs = np.array([\n",
    "                train_bundle[idx]['a1']['embed'][0][-1].reshape(-1),\n",
    "                train_bundle[idx]['a2']['embed'][0][-1].reshape(-1),\n",
    "                train_bundle[idx]['a3']['embed'][0][-1].reshape(-1),\n",
    "            ])\n",
    "            \n",
    "            dists = np.sum(np.abs(embs - emb), axis=1)\n",
    "            \n",
    "            ll = (ll - np.mean(ll)) / np.std(ll)\n",
    "            vec = np.concatenate([\n",
    "                [np.argmax(ll)],\n",
    "                tf_idf_emb,\n",
    "        #         emb_proj,\n",
    "            ])\n",
    "        _cache[idx] = vec\n",
    "        if not is_pairwise:\n",
    "            res.append(vec)\n",
    "        else:\n",
    "            for j in range(3):\n",
    "                emb_a = embs[j]\n",
    "                res.append(np.concatenate([\n",
    "                    vec,\n",
    "                    np.array([np.sum(np.abs(emb - emb_a))]),\n",
    "                    make_emb_random_proj(emb_a),\n",
    "                    np.array([ll[j], j == np.argmax(ll)]),\n",
    "                ]))\n",
    "    return np.array(res)"
   ]
  },
  {
   "cell_type": "code",
   "execution_count": 714,
   "metadata": {},
   "outputs": [
    {
     "data": {
      "text/plain": [
       "((3, 52),\n",
       " array([[ 0.01061269, -0.02169646,  1.20351601,  1.        ],\n",
       "        [-0.01026207,  0.01641331, -1.24492359,  0.        ],\n",
       "        [ 0.01203792, -0.030492  ,  0.04140474,  0.        ]]))"
      ]
     },
     "execution_count": 714,
     "metadata": {},
     "output_type": "execute_result"
    }
   ],
   "source": [
    "f = extract_features_in_domain_v1([0], True, True)\n",
    "f.shape, f[:, -4:]"
   ]
  },
  {
   "cell_type": "code",
   "execution_count": 715,
   "metadata": {},
   "outputs": [],
   "source": [
    "import catboost"
   ]
  },
  {
   "cell_type": "code",
   "execution_count": 859,
   "metadata": {},
   "outputs": [
    {
     "data": {
      "text/plain": [
       "array([False, False, False])"
      ]
     },
     "execution_count": 859,
     "metadata": {},
     "output_type": "execute_result"
    }
   ],
   "source": [
    "np.arange(3) == np.arange(1,4)"
   ]
  },
  {
   "cell_type": "code",
   "execution_count": 864,
   "metadata": {},
   "outputs": [],
   "source": [
    "def fit_predict_with_model(model, X_train, X_val, X_test, y_train, y_val, val_ratio: float, is_pairwise: bool):\n",
    "    train_group_id = np.repeat(np.arange(X_train.shape[0] // 3), 3) if is_pairwise else None\n",
    "    val_group_id = np.repeat(np.arange(X_val.shape[0] // 3), 3) if is_pairwise else None\n",
    "    train_pool = catboost.Pool(X_train, y_train, group_id=train_group_id)\n",
    "    val_pool = catboost.Pool(X_val, y_val, group_id=val_group_id)\n",
    "    model.fit(train_pool, eval_set=val_pool, early_stopping_rounds=100)\n",
    "    return model.predict(X_test)\n",
    "\n",
    "def calc_metric(y_true, y_score, is_pairwise: bool):\n",
    "    if not is_pairwise:\n",
    "        return np.mean(y_true == y_score)\n",
    "    y_score = y_score.reshape(-1, 3)\n",
    "    y_true = y_true.reshape(-1, 3)\n",
    "    print(np.argmax(y_true, axis=1) - np.argmax(y_score, axis=1))\n",
    "    return np.mean(np.argmax(y_true, axis=1) == np.argmax(y_score, axis=1))"
   ]
  },
  {
   "cell_type": "code",
   "execution_count": 874,
   "metadata": {},
   "outputs": [],
   "source": [
    "class PiperV1:\n",
    "    def __init__(self, model, val_ratio: float, reset_cache: bool, is_pairwise: bool):\n",
    "        self.model = model\n",
    "        self.reset_cache = reset_cache\n",
    "        self.is_pairwise = is_pairwise\n",
    "        self.val_ratio = val_ratio\n",
    "        self.iter = 0\n",
    "    def make_pipe(self):\n",
    "        def pipe(_split):\n",
    "            train_val_idx, test_idx = _split\n",
    "\n",
    "            np.random.seed(self.iter)\n",
    "            self.iter += 1\n",
    "            ids = np.arange(len(train_val_idx))\n",
    "            np.random.shuffle(ids)\n",
    "            N = int(len(train_val_idx) * self.val_ratio)\n",
    "            train_idx = train_val_idx[N:]\n",
    "            val_idx = train_val_idx[:N]\n",
    "            \n",
    "#             X_ext = extract_features_ext_v1(self.reset_cache, self.is_pairwise)\n",
    "#             y_ext = extract_targets_ext(self.is_pairwise)\n",
    "\n",
    "            X_train = extract_features_in_domain_v1(train_idx, self.reset_cache, self.is_pairwise)\n",
    "            X_val = extract_features_in_domain_v1(val_idx, self.reset_cache, self.is_pairwise)\n",
    "            X_test = extract_features_in_domain_v1(test_idx, self.reset_cache, self.is_pairwise)\n",
    "\n",
    "            y_train = extract_targets_in_domain(train_idx, self.is_pairwise)\n",
    "            y_val = extract_targets_in_domain(val_idx, self.is_pairwise)\n",
    "            y_test = extract_targets_in_domain(test_idx, self.is_pairwise)\n",
    "\n",
    "#             y_test_pred = fit_predict_with_model(self.model, X_train, X_val, X_test, y_train, y_val, self.val_ratio, self.is_pairwise)\n",
    "            y_test_baseline = np.array([np.eye(3)[int(x)] for x in X_test[::3, 0]]).reshape(-1)\n",
    "            y_test_pred = y_test_baseline\n",
    "            print(y_test.shape, y_test_baseline.shape)\n",
    "            metric = calc_metric(y_test, y_test_pred, self.is_pairwise)\n",
    "            base_metric = calc_metric(y_test, y_test_baseline, self.is_pairwise)\n",
    "            print(metric, base_metric)\n",
    "            return (metric, base_metric)\n",
    "\n",
    "        return pipe"
   ]
  },
  {
   "cell_type": "code",
   "execution_count": 875,
   "metadata": {},
   "outputs": [],
   "source": [
    "from sklearn.model_selection import StratifiedKFold\n",
    "from catboost import CatBoostClassifier"
   ]
  },
  {
   "cell_type": "code",
   "execution_count": 876,
   "metadata": {
    "scrolled": true
   },
   "outputs": [
    {
     "name": "stdout",
     "output_type": "stream",
     "text": [
      "(612,) (612,)\n",
      "[-1  0  1  0 -1  0  0  1  0 -1 -2 -1  0 -1  0 -1  0  2 -1  0  1  2 -1  1\n",
      "  0  0  1 -1  0  1  2  1 -2  0 -2  1 -2  0 -1 -2 -2  1  1 -2  0 -1  0  1\n",
      "  1  0 -1  0  0  0 -1 -2  0  0  1 -1  0 -1  2  0  0 -1  1  2 -1 -1 -1  1\n",
      "  0  0  1 -1  1  1 -2  0 -1  0 -1  0  1  1 -1  1  0  2  2  2  0  1  2  2\n",
      "  0  0  0  0 -2  0  0  0  0  0 -1 -1  0  1  0  0  0 -1  1 -1 -2  2  2  1\n",
      " -1 -1  0  0  1 -2 -1 -1  1  0  0  0  1  1  0  2  0  0 -1  0  0 -2  0 -1\n",
      " -1  0  0 -1  0  2 -1 -1 -1  2  1  2  1 -2  1 -1 -2  0 -1 -2  0  0  0 -2\n",
      "  1  1 -1 -2  0  1  1  2 -1  2  1 -1  1  0 -2 -1  0  1  0  0  2  0  0 -1\n",
      "  2  1  1 -1  0 -2 -1  1  2 -2 -2  0]\n",
      "[-1  0  1  0 -1  0  0  1  0 -1 -2 -1  0 -1  0 -1  0  2 -1  0  1  2 -1  1\n",
      "  0  0  1 -1  0  1  2  1 -2  0 -2  1 -2  0 -1 -2 -2  1  1 -2  0 -1  0  1\n",
      "  1  0 -1  0  0  0 -1 -2  0  0  1 -1  0 -1  2  0  0 -1  1  2 -1 -1 -1  1\n",
      "  0  0  1 -1  1  1 -2  0 -1  0 -1  0  1  1 -1  1  0  2  2  2  0  1  2  2\n",
      "  0  0  0  0 -2  0  0  0  0  0 -1 -1  0  1  0  0  0 -1  1 -1 -2  2  2  1\n",
      " -1 -1  0  0  1 -2 -1 -1  1  0  0  0  1  1  0  2  0  0 -1  0  0 -2  0 -1\n",
      " -1  0  0 -1  0  2 -1 -1 -1  2  1  2  1 -2  1 -1 -2  0 -1 -2  0  0  0 -2\n",
      "  1  1 -1 -2  0  1  1  2 -1  2  1 -1  1  0 -2 -1  0  1  0  0  2  0  0 -1\n",
      "  2  1  1 -1  0 -2 -1  1  2 -2 -2  0]\n",
      "0.35294117647058826 0.35294117647058826\n",
      "(609,) (609,)\n",
      "[-2  2 -1  0  0 -1  0  1  2  2  1 -1  0  0  2  0 -2  2  2  0  0  1 -1 -2\n",
      "  0  2  1 -1 -1  0 -2 -1 -1  0 -1 -1 -1 -1 -1  0 -2  0  0  1 -1 -1 -2 -1\n",
      " -1 -1  0  1  0 -1  0 -1 -1  1  1  1 -1  0 -1 -1 -1  0  1 -2  0 -1  0  2\n",
      "  0 -1  2  2 -1  0  0  0  0 -2  0  2  0 -2  0  0  1  1 -2  0  2 -1 -2 -1\n",
      " -1  1  0 -1 -1  1 -1  1  0 -1 -1  0  0  1 -2  0  2  0  1  2  2  0 -1  0\n",
      "  1  1  0  0 -1  0  0  2 -2  1  0  1  0  0  1  0  2  2  0  0  0  0  2  1\n",
      " -1  0  2  0 -1  1  1  0 -1  0 -2  0 -1  0  0  0  2  1 -1  1  0  0  1  0\n",
      " -2  0 -1 -2 -1  1 -1  0  1  0  1 -1  2 -1 -2 -1  0 -1  0  2  2  0  0  0\n",
      "  0  0  0  0  0 -2 -2  0  0  0 -2]\n",
      "[-2  2 -1  0  0 -1  0  1  2  2  1 -1  0  0  2  0 -2  2  2  0  0  1 -1 -2\n",
      "  0  2  1 -1 -1  0 -2 -1 -1  0 -1 -1 -1 -1 -1  0 -2  0  0  1 -1 -1 -2 -1\n",
      " -1 -1  0  1  0 -1  0 -1 -1  1  1  1 -1  0 -1 -1 -1  0  1 -2  0 -1  0  2\n",
      "  0 -1  2  2 -1  0  0  0  0 -2  0  2  0 -2  0  0  1  1 -2  0  2 -1 -2 -1\n",
      " -1  1  0 -1 -1  1 -1  1  0 -1 -1  0  0  1 -2  0  2  0  1  2  2  0 -1  0\n",
      "  1  1  0  0 -1  0  0  2 -2  1  0  1  0  0  1  0  2  2  0  0  0  0  2  1\n",
      " -1  0  2  0 -1  1  1  0 -1  0 -2  0 -1  0  0  0  2  1 -1  1  0  0  1  0\n",
      " -2  0 -1 -2 -1  1 -1  0  1  0  1 -1  2 -1 -2 -1  0 -1  0  2  2  0  0  0\n",
      "  0  0  0  0  0 -2 -2  0  0  0 -2]\n",
      "0.3842364532019704 0.3842364532019704\n",
      "(609,) (609,)\n",
      "[-1  0  2 -2  0 -2 -1  0 -1  0  0  0 -2  1 -1  0  0  0  1  1  1 -2  0  1\n",
      "  0 -2  1 -2  1 -2 -2  1  0 -2  2 -1  2  2  1  0 -1  0  0  1  1 -2  2 -1\n",
      "  2  0  0  0  0  2  1 -2 -2  0 -1  0  1 -1  0  0  2  0  0  0 -1  0 -2 -1\n",
      "  1 -2  0  0  0  2  2  0  1  0  0  0 -1  2  0  1 -1  1 -2 -1  0  1  1  1\n",
      " -1 -2  0 -1  0  1 -1  2  0  0  2  2  0 -1  0  2 -2 -1  2 -1  1  1  0  0\n",
      "  2  1 -1  0  0  0  1 -2  0 -1  2  2  0  2 -1  0 -1  0 -1 -1  0 -2  0 -2\n",
      "  2 -1  0 -1  0  0 -1 -1 -1 -1  1  0 -1  0  0  0  2  2 -1  2 -1  0  1  1\n",
      "  2  1  1  0  1 -1  0 -1  1 -1  0  2  0  1  1  0  0  2  0  1 -2  1  1  0\n",
      "  0 -2 -2  0  1  2 -1  0 -1  2 -2]\n",
      "[-1  0  2 -2  0 -2 -1  0 -1  0  0  0 -2  1 -1  0  0  0  1  1  1 -2  0  1\n",
      "  0 -2  1 -2  1 -2 -2  1  0 -2  2 -1  2  2  1  0 -1  0  0  1  1 -2  2 -1\n",
      "  2  0  0  0  0  2  1 -2 -2  0 -1  0  1 -1  0  0  2  0  0  0 -1  0 -2 -1\n",
      "  1 -2  0  0  0  2  2  0  1  0  0  0 -1  2  0  1 -1  1 -2 -1  0  1  1  1\n",
      " -1 -2  0 -1  0  1 -1  2  0  0  2  2  0 -1  0  2 -2 -1  2 -1  1  1  0  0\n",
      "  2  1 -1  0  0  0  1 -2  0 -1  2  2  0  2 -1  0 -1  0 -1 -1  0 -2  0 -2\n",
      "  2 -1  0 -1  0  0 -1 -1 -1 -1  1  0 -1  0  0  0  2  2 -1  2 -1  0  1  1\n",
      "  2  1  1  0  1 -1  0 -1  1 -1  0  2  0  1  1  0  0  2  0  1 -2  1  1  0\n",
      "  0 -2 -2  0  1  2 -1  0 -1  2 -2]\n",
      "0.35467980295566504 0.35467980295566504\n",
      "(609,) (609,)\n",
      "[-2 -1  0 -2 -2  0 -1 -1  0 -1 -1 -2  0  1  0 -1  1  0  2  1  2  2 -2  1\n",
      " -1  0 -2  1  0  1 -1  0 -1 -1  0  1  1  2  0  1 -2  0 -1 -1  2 -1 -1  0\n",
      " -1 -1 -2 -1  2  1  0 -2  2  0  2  1 -1  0 -1  1  0 -1  0 -1  0 -2  0  1\n",
      "  2 -2 -1  0  0  0  2 -1  0  0  0  0  0  0  1  0 -1  0 -2  1  0  0  1  0\n",
      "  0  1  0  0 -1 -1 -1 -1  0 -1  0 -1  1  0  1  1  1 -2  1 -1 -1 -2  0  1\n",
      " -1 -1  1  0  1  0  0 -1 -1  1 -1 -1 -1  0  0  1  0  1  0 -1 -2  0  1  1\n",
      "  2  1 -2  2  0 -1  0 -1  0  1 -1  0  1  2 -1  1  1 -2 -1 -1 -1  1  0  1\n",
      "  0  1  2  0  2  0 -1 -1  0  1  1 -1  1 -2  1  0  0 -1  0  2  2 -1  1 -2\n",
      "  0 -1 -1  0 -1 -1 -2  0  2 -1  1]\n",
      "[-2 -1  0 -2 -2  0 -1 -1  0 -1 -1 -2  0  1  0 -1  1  0  2  1  2  2 -2  1\n",
      " -1  0 -2  1  0  1 -1  0 -1 -1  0  1  1  2  0  1 -2  0 -1 -1  2 -1 -1  0\n",
      " -1 -1 -2 -1  2  1  0 -2  2  0  2  1 -1  0 -1  1  0 -1  0 -1  0 -2  0  1\n",
      "  2 -2 -1  0  0  0  2 -1  0  0  0  0  0  0  1  0 -1  0 -2  1  0  0  1  0\n",
      "  0  1  0  0 -1 -1 -1 -1  0 -1  0 -1  1  0  1  1  1 -2  1 -1 -1 -2  0  1\n",
      " -1 -1  1  0  1  0  0 -1 -1  1 -1 -1 -1  0  0  1  0  1  0 -1 -2  0  1  1\n",
      "  2  1 -2  2  0 -1  0 -1  0  1 -1  0  1  2 -1  1  1 -2 -1 -1 -1  1  0  1\n",
      "  0  1  2  0  2  0 -1 -1  0  1  1 -1  1 -2  1  0  0 -1  0  2  2 -1  1 -2\n",
      "  0 -1 -1  0 -1 -1 -2  0  2 -1  1]\n",
      "0.31527093596059114 0.31527093596059114\n"
     ]
    },
    {
     "ename": "KeyboardInterrupt",
     "evalue": "",
     "output_type": "error",
     "traceback": [
      "\u001b[0;31m--------------------------------------------------------------------------\u001b[0m",
      "\u001b[0;31mKeyboardInterrupt\u001b[0m                        Traceback (most recent call last)",
      "\u001b[0;32m<ipython-input-876-a66921e1b848>\u001b[0m in \u001b[0;36m<module>\u001b[0;34m\u001b[0m\n\u001b[1;32m      5\u001b[0m     \u001b[0mgenerator\u001b[0m\u001b[0;34m=\u001b[0m\u001b[0mStratifiedKFold\u001b[0m\u001b[0;34m(\u001b[0m\u001b[0mn_splits\u001b[0m\u001b[0;34m=\u001b[0m\u001b[0;36m20\u001b[0m\u001b[0;34m,\u001b[0m \u001b[0mshuffle\u001b[0m\u001b[0;34m=\u001b[0m\u001b[0;32mTrue\u001b[0m\u001b[0;34m,\u001b[0m \u001b[0mrandom_state\u001b[0m\u001b[0;34m=\u001b[0m\u001b[0;36m13\u001b[0m\u001b[0;34m)\u001b[0m\u001b[0;34m.\u001b[0m\u001b[0msplit\u001b[0m\u001b[0;34m(\u001b[0m\u001b[0mnp\u001b[0m\u001b[0;34m.\u001b[0m\u001b[0marange\u001b[0m\u001b[0;34m(\u001b[0m\u001b[0mtrain_data\u001b[0m\u001b[0;34m.\u001b[0m\u001b[0mshape\u001b[0m\u001b[0;34m[\u001b[0m\u001b[0;36m0\u001b[0m\u001b[0;34m]\u001b[0m\u001b[0;34m)\u001b[0m\u001b[0;34m,\u001b[0m \u001b[0mtrain_raw_targets\u001b[0m\u001b[0;34m)\u001b[0m\u001b[0;34m,\u001b[0m\u001b[0;34m\u001b[0m\u001b[0;34m\u001b[0m\u001b[0m\n\u001b[1;32m      6\u001b[0m     \u001b[0mpipe\u001b[0m\u001b[0;34m=\u001b[0m\u001b[0mpiper\u001b[0m\u001b[0;34m.\u001b[0m\u001b[0mmake_pipe\u001b[0m\u001b[0;34m(\u001b[0m\u001b[0;34m)\u001b[0m\u001b[0;34m,\u001b[0m\u001b[0;34m\u001b[0m\u001b[0;34m\u001b[0m\u001b[0m\n\u001b[0;32m----> 7\u001b[0;31m     \u001b[0maggregator\u001b[0m\u001b[0;34m=\u001b[0m\u001b[0mscore_aggregator\u001b[0m\u001b[0;34m\u001b[0m\u001b[0;34m\u001b[0m\u001b[0m\n\u001b[0m\u001b[1;32m      8\u001b[0m )\n",
      "\u001b[0;32m<ipython-input-43-ac21c97eeba4>\u001b[0m in \u001b[0;36mevaluate\u001b[0;34m(generator, pipe, aggregator)\u001b[0m\n\u001b[1;32m      1\u001b[0m \u001b[0;32mdef\u001b[0m \u001b[0mevaluate\u001b[0m\u001b[0;34m(\u001b[0m\u001b[0mgenerator\u001b[0m\u001b[0;34m,\u001b[0m \u001b[0mpipe\u001b[0m\u001b[0;34m,\u001b[0m \u001b[0maggregator\u001b[0m\u001b[0;34m)\u001b[0m\u001b[0;34m:\u001b[0m\u001b[0;34m\u001b[0m\u001b[0;34m\u001b[0m\u001b[0m\n\u001b[1;32m      2\u001b[0m     \u001b[0;32mfor\u001b[0m \u001b[0m_split\u001b[0m \u001b[0;32min\u001b[0m \u001b[0mgenerator\u001b[0m\u001b[0;34m:\u001b[0m\u001b[0;34m\u001b[0m\u001b[0;34m\u001b[0m\u001b[0m\n\u001b[0;32m----> 3\u001b[0;31m         \u001b[0maggregator\u001b[0m\u001b[0;34m(\u001b[0m\u001b[0mpipe\u001b[0m\u001b[0;34m(\u001b[0m\u001b[0m_split\u001b[0m\u001b[0;34m)\u001b[0m\u001b[0;34m)\u001b[0m\u001b[0;34m\u001b[0m\u001b[0;34m\u001b[0m\u001b[0m\n\u001b[0m",
      "\u001b[0;32m<ipython-input-874-11bcfefaac26>\u001b[0m in \u001b[0;36mpipe\u001b[0;34m(_split)\u001b[0m\n\u001b[1;32m     21\u001b[0m \u001b[0;31m#             y_ext = extract_targets_ext(self.is_pairwise)\u001b[0m\u001b[0;34m\u001b[0m\u001b[0;34m\u001b[0m\u001b[0;34m\u001b[0m\u001b[0m\n\u001b[1;32m     22\u001b[0m \u001b[0;34m\u001b[0m\u001b[0m\n\u001b[0;32m---> 23\u001b[0;31m             \u001b[0mX_train\u001b[0m \u001b[0;34m=\u001b[0m \u001b[0mextract_features_in_domain_v1\u001b[0m\u001b[0;34m(\u001b[0m\u001b[0mtrain_idx\u001b[0m\u001b[0;34m,\u001b[0m \u001b[0mself\u001b[0m\u001b[0;34m.\u001b[0m\u001b[0mreset_cache\u001b[0m\u001b[0;34m,\u001b[0m \u001b[0mself\u001b[0m\u001b[0;34m.\u001b[0m\u001b[0mis_pairwise\u001b[0m\u001b[0;34m)\u001b[0m\u001b[0;34m\u001b[0m\u001b[0;34m\u001b[0m\u001b[0m\n\u001b[0m\u001b[1;32m     24\u001b[0m             \u001b[0mX_val\u001b[0m \u001b[0;34m=\u001b[0m \u001b[0mextract_features_in_domain_v1\u001b[0m\u001b[0;34m(\u001b[0m\u001b[0mval_idx\u001b[0m\u001b[0;34m,\u001b[0m \u001b[0mself\u001b[0m\u001b[0;34m.\u001b[0m\u001b[0mreset_cache\u001b[0m\u001b[0;34m,\u001b[0m \u001b[0mself\u001b[0m\u001b[0;34m.\u001b[0m\u001b[0mis_pairwise\u001b[0m\u001b[0;34m)\u001b[0m\u001b[0;34m\u001b[0m\u001b[0;34m\u001b[0m\u001b[0m\n\u001b[1;32m     25\u001b[0m             \u001b[0mX_test\u001b[0m \u001b[0;34m=\u001b[0m \u001b[0mextract_features_in_domain_v1\u001b[0m\u001b[0;34m(\u001b[0m\u001b[0mtest_idx\u001b[0m\u001b[0;34m,\u001b[0m \u001b[0mself\u001b[0m\u001b[0;34m.\u001b[0m\u001b[0mreset_cache\u001b[0m\u001b[0;34m,\u001b[0m \u001b[0mself\u001b[0m\u001b[0;34m.\u001b[0m\u001b[0mis_pairwise\u001b[0m\u001b[0;34m)\u001b[0m\u001b[0;34m\u001b[0m\u001b[0;34m\u001b[0m\u001b[0m\n",
      "\u001b[0;32m<ipython-input-724-324ceaf8e205>\u001b[0m in \u001b[0;36mextract_features_in_domain_v1\u001b[0;34m(idxs, reset_cache, is_pairwise, _cache)\u001b[0m\n\u001b[1;32m     33\u001b[0m             ])\n\u001b[1;32m     34\u001b[0m \u001b[0;34m\u001b[0m\u001b[0m\n\u001b[0;32m---> 35\u001b[0;31m             \u001b[0mdists\u001b[0m \u001b[0;34m=\u001b[0m \u001b[0mnp\u001b[0m\u001b[0;34m.\u001b[0m\u001b[0msum\u001b[0m\u001b[0;34m(\u001b[0m\u001b[0mnp\u001b[0m\u001b[0;34m.\u001b[0m\u001b[0mabs\u001b[0m\u001b[0;34m(\u001b[0m\u001b[0membs\u001b[0m \u001b[0;34m-\u001b[0m \u001b[0memb\u001b[0m\u001b[0;34m)\u001b[0m\u001b[0;34m,\u001b[0m \u001b[0maxis\u001b[0m\u001b[0;34m=\u001b[0m\u001b[0;36m1\u001b[0m\u001b[0;34m)\u001b[0m\u001b[0;34m\u001b[0m\u001b[0;34m\u001b[0m\u001b[0m\n\u001b[0m\u001b[1;32m     36\u001b[0m \u001b[0;34m\u001b[0m\u001b[0m\n\u001b[1;32m     37\u001b[0m             \u001b[0mll\u001b[0m \u001b[0;34m=\u001b[0m \u001b[0;34m(\u001b[0m\u001b[0mll\u001b[0m \u001b[0;34m-\u001b[0m \u001b[0mnp\u001b[0m\u001b[0;34m.\u001b[0m\u001b[0mmean\u001b[0m\u001b[0;34m(\u001b[0m\u001b[0mll\u001b[0m\u001b[0;34m)\u001b[0m\u001b[0;34m)\u001b[0m \u001b[0;34m/\u001b[0m \u001b[0mnp\u001b[0m\u001b[0;34m.\u001b[0m\u001b[0mstd\u001b[0m\u001b[0;34m(\u001b[0m\u001b[0mll\u001b[0m\u001b[0;34m)\u001b[0m\u001b[0;34m\u001b[0m\u001b[0;34m\u001b[0m\u001b[0m\n",
      "\u001b[0;31mKeyboardInterrupt\u001b[0m: "
     ]
    }
   ],
   "source": [
    "score_aggregator = ScoreAggregator()\n",
    "piper = PiperV1(catboost.CatBoost({\"loss_function\":\"PairLogit\"}), 0.2, True, True)\n",
    "\n",
    "evaluate(\n",
    "    generator=StratifiedKFold(n_splits=20, shuffle=True, random_state=13).split(np.arange(train_data.shape[0]), train_raw_targets),\n",
    "    pipe=piper.make_pipe(),\n",
    "    aggregator=score_aggregator\n",
    ")"
   ]
  },
  {
   "cell_type": "code",
   "execution_count": 742,
   "metadata": {},
   "outputs": [],
   "source": [
    "score_aggregator._baselines"
   ]
  },
  {
   "cell_type": "code",
   "execution_count": 762,
   "metadata": {},
   "outputs": [
    {
     "data": {
      "text/plain": [
       "{'mean_score': 0.3659289577900126,\n",
       " 'std_score': 0.024310671032777474,\n",
       " 'mean_diff': 0.00961315560707041,\n",
       " 'std_diff': 0.024395011172256086,\n",
       " 'p_value': 0.6935350135858609}"
      ]
     },
     "execution_count": 762,
     "metadata": {},
     "output_type": "execute_result"
    }
   ],
   "source": [
    "score_aggregator.calc_info()  # query rmse"
   ]
  },
  {
   "cell_type": "code",
   "execution_count": 770,
   "metadata": {},
   "outputs": [
    {
     "data": {
      "text/plain": [
       "{'mean_score': 0.3777588621655559,\n",
       " 'std_score': 0.028248432434976527,\n",
       " 'mean_diff': 0.02144305998261372,\n",
       " 'std_diff': 0.027966887740728863,\n",
       " 'p_value': 0.4432419060997186}"
      ]
     },
     "execution_count": 770,
     "metadata": {},
     "output_type": "execute_result"
    }
   ],
   "source": [
    "score_aggregator.calc_info()  # query rmse"
   ]
  },
  {
   "cell_type": "code",
   "execution_count": 547,
   "metadata": {},
   "outputs": [],
   "source": [
    "# constant_baselines = score_aggregator.get_scores()\n",
    "# np.save(\"data/constant_baselines.npy\", constant_baselines)"
   ]
  },
  {
   "cell_type": "code",
   "execution_count": 782,
   "metadata": {},
   "outputs": [
    {
     "data": {
      "text/plain": [
       "[0.35784313725490197,\n",
       " 0.35960591133004927,\n",
       " 0.35960591133004927,\n",
       " 0.35960591133004927,\n",
       " 0.35960591133004927,\n",
       " 0.35960591133004927,\n",
       " 0.35960591133004927,\n",
       " 0.35467980295566504,\n",
       " 0.35467980295566504,\n",
       " 0.35467980295566504,\n",
       " 0.35467980295566504,\n",
       " 0.35467980295566504,\n",
       " 0.35467980295566504,\n",
       " 0.35467980295566504,\n",
       " 0.35467980295566504,\n",
       " 0.35467980295566504,\n",
       " 0.35467980295566504,\n",
       " 0.35467980295566504,\n",
       " 0.35467980295566504,\n",
       " 0.35467980295566504]"
      ]
     },
     "execution_count": 782,
     "metadata": {},
     "output_type": "execute_result"
    }
   ],
   "source": [
    "score_aggregator._scores"
   ]
  },
  {
   "cell_type": "code",
   "execution_count": 783,
   "metadata": {},
   "outputs": [
    {
     "data": {
      "text/plain": [
       "[0.35784313725490197,\n",
       " 0.35960591133004927,\n",
       " 0.35960591133004927,\n",
       " 0.35960591133004927,\n",
       " 0.35960591133004927,\n",
       " 0.35960591133004927,\n",
       " 0.35960591133004927,\n",
       " 0.35467980295566504,\n",
       " 0.35467980295566504,\n",
       " 0.35467980295566504,\n",
       " 0.35467980295566504,\n",
       " 0.35467980295566504,\n",
       " 0.35467980295566504,\n",
       " 0.35467980295566504,\n",
       " 0.35467980295566504,\n",
       " 0.35467980295566504,\n",
       " 0.35467980295566504,\n",
       " 0.35467980295566504,\n",
       " 0.35467980295566504,\n",
       " 0.35467980295566504]"
      ]
     },
     "execution_count": 783,
     "metadata": {},
     "output_type": "execute_result"
    }
   ],
   "source": [
    "score_aggregator._baselines"
   ]
  },
  {
   "cell_type": "code",
   "execution_count": 675,
   "metadata": {},
   "outputs": [
    {
     "data": {
      "text/plain": [
       "{'learn': {'QueryRMSE': 0.4354256619495151},\n",
       " 'validation': {'QueryRMSE': 0.4691979262833337}}"
      ]
     },
     "execution_count": 675,
     "metadata": {},
     "output_type": "execute_result"
    }
   ],
   "source": [
    "piper.model.best_score_"
   ]
  },
  {
   "cell_type": "code",
   "execution_count": null,
   "metadata": {},
   "outputs": [],
   "source": [
    "piper.model.best_score_"
   ]
  }
 ],
 "metadata": {
  "kernelspec": {
   "display_name": "Python 3",
   "language": "python",
   "name": "python3"
  },
  "language_info": {
   "codemirror_mode": {
    "name": "ipython",
    "version": 3
   },
   "file_extension": ".py",
   "mimetype": "text/x-python",
   "name": "python",
   "nbconvert_exporter": "python",
   "pygments_lexer": "ipython3",
   "version": "3.7.9"
  }
 },
 "nbformat": 4,
 "nbformat_minor": 4
}
