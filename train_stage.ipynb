{
 "cells": [
  {
   "cell_type": "code",
   "execution_count": 3,
   "metadata": {
    "scrolled": true
   },
   "outputs": [
    {
     "name": "stdout",
     "output_type": "stream",
     "text": [
      "Requirement already satisfied: transformers==4.9.2 in /Library/Frameworks/Python.framework/Versions/3.7/lib/python3.7/site-packages (4.9.2)\n",
      "Requirement already satisfied: requests in /Library/Frameworks/Python.framework/Versions/3.7/lib/python3.7/site-packages (from transformers==4.9.2) (2.25.1)\n",
      "Requirement already satisfied: huggingface-hub==0.0.12 in /Library/Frameworks/Python.framework/Versions/3.7/lib/python3.7/site-packages (from transformers==4.9.2) (0.0.12)\n",
      "Requirement already satisfied: packaging in /Library/Frameworks/Python.framework/Versions/3.7/lib/python3.7/site-packages (from transformers==4.9.2) (21.0)\n",
      "Requirement already satisfied: filelock in /Users/sergmiller/Library/Python/3.7/lib/python/site-packages (from transformers==4.9.2) (3.0.12)\n",
      "Requirement already satisfied: tqdm>=4.27 in /Library/Frameworks/Python.framework/Versions/3.7/lib/python3.7/site-packages (from transformers==4.9.2) (4.55.1)\n",
      "Requirement already satisfied: numpy>=1.17 in /Library/Frameworks/Python.framework/Versions/3.7/lib/python3.7/site-packages (from transformers==4.9.2) (1.19.4)\n",
      "Requirement already satisfied: sacremoses in /Users/sergmiller/Library/Python/3.7/lib/python/site-packages (from transformers==4.9.2) (0.0.43)\n",
      "Requirement already satisfied: tokenizers<0.11,>=0.10.1 in /Users/sergmiller/Library/Python/3.7/lib/python/site-packages (from transformers==4.9.2) (0.10.1)\n",
      "Requirement already satisfied: pyyaml>=5.1 in /Library/Frameworks/Python.framework/Versions/3.7/lib/python3.7/site-packages (from transformers==4.9.2) (5.4.1)\n",
      "Requirement already satisfied: regex!=2019.12.17 in /Users/sergmiller/Library/Python/3.7/lib/python/site-packages (from transformers==4.9.2) (2020.11.13)\n",
      "Requirement already satisfied: importlib-metadata in /Library/Frameworks/Python.framework/Versions/3.7/lib/python3.7/site-packages (from transformers==4.9.2) (3.3.0)\n",
      "Requirement already satisfied: typing-extensions in /Library/Frameworks/Python.framework/Versions/3.7/lib/python3.7/site-packages (from huggingface-hub==0.0.12->transformers==4.9.2) (3.7.4.3)\n",
      "Requirement already satisfied: pyparsing>=2.0.2 in /Library/Frameworks/Python.framework/Versions/3.7/lib/python3.7/site-packages (from packaging->transformers==4.9.2) (2.4.7)\n",
      "Requirement already satisfied: zipp>=0.5 in /Library/Frameworks/Python.framework/Versions/3.7/lib/python3.7/site-packages (from importlib-metadata->transformers==4.9.2) (3.4.0)\n",
      "Requirement already satisfied: certifi>=2017.4.17 in /Library/Frameworks/Python.framework/Versions/3.7/lib/python3.7/site-packages (from requests->transformers==4.9.2) (2020.12.5)\n",
      "Requirement already satisfied: chardet<5,>=3.0.2 in /Library/Frameworks/Python.framework/Versions/3.7/lib/python3.7/site-packages (from requests->transformers==4.9.2) (4.0.0)\n",
      "Requirement already satisfied: urllib3<1.27,>=1.21.1 in /Library/Frameworks/Python.framework/Versions/3.7/lib/python3.7/site-packages (from requests->transformers==4.9.2) (1.26.2)\n",
      "Requirement already satisfied: idna<3,>=2.5 in /Library/Frameworks/Python.framework/Versions/3.7/lib/python3.7/site-packages (from requests->transformers==4.9.2) (2.10)\n",
      "Requirement already satisfied: six in /Library/Frameworks/Python.framework/Versions/3.7/lib/python3.7/site-packages (from sacremoses->transformers==4.9.2) (1.15.0)\n",
      "Requirement already satisfied: joblib in /Library/Frameworks/Python.framework/Versions/3.7/lib/python3.7/site-packages (from sacremoses->transformers==4.9.2) (1.0.0)\n",
      "Requirement already satisfied: click in /Users/sergmiller/Library/Python/3.7/lib/python/site-packages (from sacremoses->transformers==4.9.2) (7.1.2)\n",
      "\u001b[33mWARNING: You are using pip version 21.0.1; however, version 21.2.4 is available.\n",
      "You should consider upgrading via the '/usr/local/bin/python3.7 -m pip install --upgrade pip' command.\u001b[0m\n"
     ]
    }
   ],
   "source": [
    "!python3.7 -m pip install transformers==4.9.2"
   ]
  },
  {
   "cell_type": "code",
   "execution_count": 1,
   "metadata": {},
   "outputs": [],
   "source": [
    "import numpy as np\n",
    "import pandas as pd\n",
    "\n",
    "import matplotlib.pyplot as plt\n",
    "\n",
    "from collections import defaultdict\n",
    "\n",
    "%matplotlib inline"
   ]
  },
  {
   "cell_type": "code",
   "execution_count": 2,
   "metadata": {},
   "outputs": [],
   "source": [
    "%config Completer.use_jedi = False"
   ]
  },
  {
   "cell_type": "code",
   "execution_count": 3,
   "metadata": {},
   "outputs": [],
   "source": [
    "import pandas as pd\n",
    "import numpy as np\n",
    "# from transformers import GPT2LMHeadModel, GPT2Tokenizer\n",
    "\n",
    "\n",
    "# model_name_or_path = \"sberbank-ai/rugpt3large_based_on_gpt2\"\n",
    "# tokenizer = GPT2Tokenizer.from_pretrained(model_name_or_path)\n",
    "# model = GPT2LMHeadModel.from_pretrained(model_name_or_path).cuda()"
   ]
  },
  {
   "cell_type": "code",
   "execution_count": 4,
   "metadata": {},
   "outputs": [],
   "source": [
    "BASE_PATH = \"data/\""
   ]
  },
  {
   "cell_type": "code",
   "execution_count": 5,
   "metadata": {},
   "outputs": [],
   "source": [
    "train_data = pd.read_csv(BASE_PATH + 'rus_train_dataset.csv', encoding='utf-8', sep='|')\n",
    "en_ru_aux_data = pd.read_csv(BASE_PATH + 'en_to_rus_train_dataset.csv', encoding='utf-8', sep='|')"
   ]
  },
  {
   "cell_type": "code",
   "execution_count": 6,
   "metadata": {},
   "outputs": [
    {
     "name": "stdout",
     "output_type": "stream",
     "text": [
      "CPU times: user 493 ms, sys: 762 ms, total: 1.25 s\n",
      "Wall time: 1.3 s\n"
     ]
    }
   ],
   "source": [
    "%%time\n",
    "train_bundle = np.load(BASE_PATH + 'train_dataset_bundle.npy', allow_pickle=True)"
   ]
  },
  {
   "cell_type": "code",
   "execution_count": 7,
   "metadata": {},
   "outputs": [
    {
     "name": "stdout",
     "output_type": "stream",
     "text": [
      "CPU times: user 454 ms, sys: 897 ms, total: 1.35 s\n",
      "Wall time: 2.05 s\n"
     ]
    }
   ],
   "source": [
    "%%time\n",
    "ext_bundle = np.load(BASE_PATH + 'en_ru_aux_dataset_bundle.npy', allow_pickle=True)"
   ]
  },
  {
   "cell_type": "code",
   "execution_count": 8,
   "metadata": {},
   "outputs": [
    {
     "data": {
      "text/plain": [
       "Counter({'2.0': 626,\n",
       "         '0.0': 390,\n",
       "         '1.0': 626,\n",
       "         nan: 69,\n",
       "         '0,0': 210,\n",
       "         'right_answer_id': 2,\n",
       "         '1,0': 14,\n",
       "         '2,0': 3,\n",
       "         '1.0.': 1})"
      ]
     },
     "execution_count": 8,
     "metadata": {},
     "output_type": "execute_result"
    }
   ],
   "source": [
    "from collections import Counter\n",
    "Counter(en_ru_aux_data[\"right_answer_id\"].values)"
   ]
  },
  {
   "cell_type": "code",
   "execution_count": 9,
   "metadata": {},
   "outputs": [],
   "source": [
    "def evaluate(generator, pipe, aggregator):\n",
    "    for _split in generator:\n",
    "        aggregator(pipe(_split))"
   ]
  },
  {
   "cell_type": "code",
   "execution_count": 10,
   "metadata": {},
   "outputs": [],
   "source": [
    "from scipy.stats import norm\n",
    "\n",
    "def p_val(x):\n",
    "    return 2 * min(norm.cdf(-x), norm.cdf(x))\n",
    "\n",
    "class ScoreAggregator:\n",
    "    def __init__(self):\n",
    "        self._scores = []\n",
    "        self._baselines = []\n",
    "    def __call__(self, update):\n",
    "        score, baseline = update\n",
    "        self._scores.append(score)\n",
    "        self._baselines.append(baseline)\n",
    "    def calc_info(self):\n",
    "        diff = np.array(self._scores) - np.array(self._baselines)\n",
    "        return {\"mean_score\": np.mean(self._scores), \"std_score\": np.std(self._scores),\n",
    "               \"mean_diff\": np.mean(diff), \"std_diff\": np.std(diff), \"p_value\": p_val(np.mean(diff) / (np.std(diff) + 1e-9))}\n"
   ]
  },
  {
   "cell_type": "code",
   "execution_count": 11,
   "metadata": {},
   "outputs": [],
   "source": [
    "train_raw_targets = train_data[\"right_answer_id\"].values\n",
    "def extract_targets_in_domain(idxs: np.array, is_pairwise: bool) -> np.array:\n",
    "    if not is_pairwise:\n",
    "        return train_raw_targets[idxs]\n",
    "    targets = np.zeros(len(idxs) * 3)\n",
    "    for i, t in enumerate(train_raw_targets[idxs]):\n",
    "        targets[3 * i + t] = 1\n",
    "    return targets"
   ]
  },
  {
   "cell_type": "code",
   "execution_count": 12,
   "metadata": {},
   "outputs": [],
   "source": [
    "tr_ext_4K_dataset = np.load(\"data/en_ru_4k_dataset.npy\", allow_pickle=True)\n",
    "tr_ext_4K_bundle = np.load(\"data/en_ru_4k_bundle.npy\", allow_pickle=True)"
   ]
  },
  {
   "cell_type": "code",
   "execution_count": 13,
   "metadata": {},
   "outputs": [
    {
     "data": {
      "text/plain": [
       "array([2, 1, 0, ..., 2, 0, 0], dtype=object)"
      ]
     },
     "execution_count": 13,
     "metadata": {},
     "output_type": "execute_result"
    }
   ],
   "source": [
    "tr_ext_4K_targets = tr_ext_4K_dataset[:, -1]\n",
    "tr_ext_4K_targets"
   ]
  },
  {
   "cell_type": "code",
   "execution_count": 362,
   "metadata": {},
   "outputs": [],
   "source": [
    "rubq_qat_pairs = np.load(\"data/rubq_qat_pairs.npy\", allow_pickle=True)\n",
    "rubq_bundle = [x[-1] for x in rubq_qat_pairs]\n",
    "rubq_targets = np.array([x[-2] for x in rubq_qat_pairs])\n",
    "rubq_dataset = np.array([list([i,]) + list(x[:5]) for i,x in enumerate(rubq_qat_pairs)])\n",
    "rubq_predictions_by_model_v1 = np.load(\"data/rubq_predictions_by_model_v1.npy\", allow_pickle=True)"
   ]
  },
  {
   "cell_type": "code",
   "execution_count": 492,
   "metadata": {},
   "outputs": [],
   "source": [
    "def _fix_input(x):\n",
    "    if x in ['0.0', '1.0', '2.0', '0,0', '1,0', '2,0', '1.0.']:\n",
    "        return float(x[0])\n",
    "    return -1\n",
    "\n",
    "prepared_en_ru_targets = np.array([_fix_input(x) for x in en_ru_aux_data[\"right_answer_id\"].values])\n",
    "\n",
    "full_ext_targets = np.concatenate([\n",
    "    prepared_en_ru_targets, \n",
    "                                   tr_ext_4K_targets, rubq_targets])\n",
    "\n",
    "def extract_targets_ext(is_pairwise: bool) -> np.array:\n",
    "    assert is_pairwise\n",
    "    N = full_ext_targets.shape[0]\n",
    "    targets = np.zeros(N * 3)\n",
    "    for i, t in enumerate(full_ext_targets):\n",
    "        t = int(t)\n",
    "        if t == -1:\n",
    "            continue\n",
    "        targets[3 * i + t] = 1\n",
    "    return targets"
   ]
  },
  {
   "cell_type": "code",
   "execution_count": 16,
   "metadata": {},
   "outputs": [],
   "source": [
    "train_predictions_by_model_v1 =  np.load(\"data/original_train_predictions_by_model_v1.npy\", allow_pickle=True)\n",
    "ext_predictions_by_model_v1 =  np.load(\"data/ext_predictions_by_model_v1.npy\", allow_pickle=True)\n",
    "tr_ext_4K_predictions_by_model_v1 =  np.load(\"data/tr_ext_4K_predictions_by_model_v1.npy\", allow_pickle=True)"
   ]
  },
  {
   "cell_type": "code",
   "execution_count": 493,
   "metadata": {},
   "outputs": [],
   "source": [
    "full_ext_predictions_by_model_v1 = np.concatenate([\n",
    "    ext_predictions_by_model_v1, \n",
    "    tr_ext_4K_predictions_by_model_v1, rubq_predictions_by_model_v1])\n",
    "full_ext_bundle = np.concatenate([\n",
    "    ext_bundle,\n",
    "    tr_ext_4K_bundle, rubq_bundle])\n",
    "full_ext_dataset = np.concatenate([\n",
    "    en_ru_aux_data.values,\n",
    "    tr_ext_4K_dataset, rubq_dataset])"
   ]
  },
  {
   "cell_type": "code",
   "execution_count": 155,
   "metadata": {},
   "outputs": [],
   "source": [
    "ext_q_embs = []\n",
    "\n",
    "for b in ext_bundle:\n",
    "    e = b['q']['embed'][0][-1].reshape(-1)\n",
    "    ext_q_embs.append(e)\n",
    "ext_q_embs = np.array(ext_q_embs)"
   ]
  },
  {
   "cell_type": "code",
   "execution_count": 156,
   "metadata": {},
   "outputs": [],
   "source": [
    "from sklearn.decomposition import PCA"
   ]
  },
  {
   "cell_type": "code",
   "execution_count": 159,
   "metadata": {},
   "outputs": [],
   "source": [
    "N = len(ext_q_embs)\n",
    "M = int(N * 0.9)\n",
    "ext_q_embs_train = ext_q_embs[:M]\n",
    "ext_q_embs_val = ext_q_embs[M:]"
   ]
  },
  {
   "cell_type": "code",
   "execution_count": 217,
   "metadata": {},
   "outputs": [],
   "source": [
    "pca = PCA(n_components=32, random_state=0)\n",
    "ext_q_embs_train_proj = pca.fit_transform(ext_q_embs_train)\n",
    "ext_q_embs_val_proj = pca.transform(ext_q_embs_val)"
   ]
  },
  {
   "cell_type": "code",
   "execution_count": 262,
   "metadata": {},
   "outputs": [],
   "source": [
    "np.save(\"models/pca_h32_v1\", pca)"
   ]
  },
  {
   "cell_type": "code",
   "execution_count": 218,
   "metadata": {},
   "outputs": [
    {
     "data": {
      "text/plain": [
       "0.04108772"
      ]
     },
     "execution_count": 218,
     "metadata": {},
     "output_type": "execute_result"
    }
   ],
   "source": [
    "np.mean((pca.inverse_transform(ext_q_embs_train_proj) - ext_q_embs_train) ** 2)"
   ]
  },
  {
   "cell_type": "code",
   "execution_count": 219,
   "metadata": {},
   "outputs": [
    {
     "data": {
      "text/plain": [
       "0.047490757"
      ]
     },
     "execution_count": 219,
     "metadata": {},
     "output_type": "execute_result"
    }
   ],
   "source": [
    "np.mean((pca.inverse_transform(ext_q_embs_val_proj) - ext_q_embs_val) ** 2)"
   ]
  },
  {
   "cell_type": "code",
   "execution_count": 494,
   "metadata": {},
   "outputs": [],
   "source": [
    "def make_emb_random_proj(emb: np.array):\n",
    "    emb_proj = np.matmul(emb, random_proj)\n",
    "    emb_proj /= np.sum(np.abs(emb_proj))\n",
    "    return emb_proj\n",
    "\n",
    "def make_pca_proj(emb: np.array):\n",
    "    e = pca.transform([emb]).reshape(-1)\n",
    "    e /= np.sum(np.abs(e))\n",
    "    return e\n",
    "\n",
    "def extract_year(s: str):\n",
    "    cur = []\n",
    "    for c in str(s) + \" \":\n",
    "        if c.isdigit():\n",
    "            cur.append(c)\n",
    "        else:\n",
    "            if len(cur) == 4:\n",
    "                return float(''.join(cur))\n",
    "            else:\n",
    "                cur = []\n",
    "    return -1\n",
    "\n",
    "\n",
    "def extract_features_in_domain_v1(bundle: np.array, idxs: np.array, reset_cache: bool, is_pairwise: bool, is_train: bool) -> np.array:\n",
    "    res = []\n",
    "\n",
    "    for idx in idxs:\n",
    "        emb = bundle[idx]['q']['embed'][0][-1].reshape(-1)\n",
    "    #         emb /= np.sum(np.abs(emb))\n",
    "#         emb_proj = make_emb_random_proj(emb)\n",
    "        emb_proj = make_pca_proj(emb)\n",
    "    \n",
    "#         q = questions[idx]\n",
    "\n",
    "        ll = np.array([\n",
    "            bundle[idx]['a1']['likelihood'],\n",
    "            bundle[idx]['a2']['likelihood'],\n",
    "            bundle[idx]['a3']['likelihood'],\n",
    "        ])\n",
    "        embs = np.array([\n",
    "            bundle[idx]['a1']['embed'][0][-1].reshape(-1),\n",
    "            bundle[idx]['a2']['embed'][0][-1].reshape(-1),\n",
    "            bundle[idx]['a3']['embed'][0][-1].reshape(-1),\n",
    "        ])\n",
    "\n",
    "        dists = np.sum(np.abs(embs - emb), axis=1)\n",
    "\n",
    "        ll = (ll - np.mean(ll)) / np.std(ll)\n",
    "        vec = np.concatenate([\n",
    "#             [extract_year(q)],\n",
    "#             [np.argmax(ll)],\n",
    "            emb_proj\n",
    "        ])\n",
    "        for j in range(3):\n",
    "#             ans = answers[idx][j]\n",
    "            emb_a = embs[j]\n",
    "            prediction = train_predictions_by_model_v1[3 * idx + j] if is_train else full_ext_predictions_by_model_v1[3 * idx + j]\n",
    "            res.append(np.concatenate([\n",
    "                vec,\n",
    "                np.array([np.mean(np.abs(emb - emb_a))]),\n",
    "                make_pca_proj(emb_a),\n",
    "                np.array([ll[j],prediction, j == np.argmax(ll)]),\n",
    "            ]))\n",
    "    return np.array(res)"
   ]
  },
  {
   "cell_type": "code",
   "execution_count": 495,
   "metadata": {},
   "outputs": [
    {
     "data": {
      "text/plain": [
       "array([[0, 'Как называется половина основного времени матча в футболе?',\n",
       "        'Тайм', 'Период', 'Гейм', 0],\n",
       "       [1,\n",
       "        'Какая из указанных команд чаще других становилась чемпионом мира по хоккею?',\n",
       "        'Россия', 'Англия', 'Чехия', 0],\n",
       "       [2,\n",
       "        'В каком году мужская сборная СССР по баскетболу впервые выиграла золото на Олимпийских играх?',\n",
       "        '1972', '1980', '1988', 0],\n",
       "       ...,\n",
       "       [4058, 'В каком году была выпущена приставка «Playstation 2»?',\n",
       "        '2000', '2001', '1999', 0],\n",
       "       [4059, 'Как называлась добыча мёда диких пчёл на Руси?',\n",
       "        'Бортничество', 'Капище', 'Полюдье', 0],\n",
       "       [4060, 'Какого произведения НЕ было у Л. Н. Толстого?',\n",
       "        '«Оловянный солдатик»', '«Хаджи-Мурат»', '«Казаки»', 0]],\n",
       "      dtype=object)"
      ]
     },
     "execution_count": 495,
     "metadata": {},
     "output_type": "execute_result"
    }
   ],
   "source": [
    "train_data.values"
   ]
  },
  {
   "cell_type": "code",
   "execution_count": 496,
   "metadata": {},
   "outputs": [
    {
     "data": {
      "text/plain": [
       "((3, 68),\n",
       " array([-0.11351538, -0.02693948,  0.06229229, -0.10466813, -0.04197856,\n",
       "        -0.01103976, -0.02884177,  0.03987112, -0.04965616, -0.08312124,\n",
       "         0.03852581,  0.03369633,  0.03872566,  0.00550216, -0.021699  ,\n",
       "         0.00924887, -0.01096463,  0.01409951,  0.03005068, -0.00094993,\n",
       "        -0.00216449,  0.04341423,  0.02227794, -0.01268454,  0.01205025,\n",
       "         0.03482549,  0.03769698, -0.01937344,  0.00161218, -0.01009029,\n",
       "         0.00910751, -0.02931618,  0.36769983,  0.03501877, -0.01560779,\n",
       "        -0.00335252, -0.06607332, -0.03694912, -0.03568615, -0.04999945,\n",
       "         0.0421305 ,  0.02423212, -0.02678693,  0.07623202,  0.07491807,\n",
       "         0.0018204 ,  0.01541569, -0.03876211, -0.00327033,  0.0339863 ,\n",
       "         0.03316834, -0.01695172,  0.02052337,  0.06128677,  0.02366902,\n",
       "         0.02891698, -0.03665592,  0.02161785,  0.0435885 ,  0.0198328 ,\n",
       "         0.02516922,  0.02372486,  0.00428901,  0.01493454, -0.04542952,\n",
       "        -0.4280453 , -0.9240756 ,  0.        ]))"
      ]
     },
     "execution_count": 496,
     "metadata": {},
     "output_type": "execute_result"
    }
   ],
   "source": [
    "f = extract_features_in_domain_v1(train_bundle, [2], True, True, True)\n",
    "f.shape, f[0]"
   ]
  },
  {
   "cell_type": "code",
   "execution_count": 466,
   "metadata": {},
   "outputs": [],
   "source": [
    "import catboost"
   ]
  },
  {
   "cell_type": "code",
   "execution_count": 497,
   "metadata": {},
   "outputs": [],
   "source": [
    "def fit_predict_with_catboost(model, X_train, X_val, X_test, y_train, y_val, val_ratio: float, is_pairwise: bool, weights:np.array):\n",
    "    train_group_id = np.repeat(np.arange(X_train.shape[0] // 3), 3) if is_pairwise else None\n",
    "    val_group_id = np.repeat(np.arange(X_val.shape[0] // 3), 3) if is_pairwise else None\n",
    "    train_pool = catboost.Pool(X_train, y_train, group_id=train_group_id, weight=weights)\n",
    "#     val_pool = catboost.Pool(X_val, y_val, group_id=val_group_id)\n",
    "    model.fit(train_pool)#, eval_set=val_pool)\n",
    "    return model.predict(X_test)\n",
    "\n",
    "def calc_metric(y_true, y_score, is_pairwise: bool):\n",
    "    if not is_pairwise:\n",
    "        return np.mean(y_true == y_score)\n",
    "    y_score = y_score.reshape(-1, 3)\n",
    "    y_true = y_true.reshape(-1, 3)\n",
    "    return np.mean(np.argmax(y_true, axis=1) == np.argmax(y_score, axis=1))"
   ]
  },
  {
   "cell_type": "code",
   "execution_count": 498,
   "metadata": {},
   "outputs": [],
   "source": [
    "class PiperV1:\n",
    "    def __init__(self, model_fn, val_ratio: float, is_pairwise: bool, ext_weight:float, fit_predict_with_model, global_dataset_ids: np.array):\n",
    "        self.model_fn = model_fn\n",
    "        self.models = []\n",
    "        self.reset_cache = True\n",
    "        self.is_pairwise = is_pairwise\n",
    "        self.val_ratio = val_ratio\n",
    "        self.ext_weight = ext_weight\n",
    "        self.fit_predict_with_model = fit_predict_with_model\n",
    "        self.global_dataset_ids = global_dataset_ids\n",
    "        self.iter = 0\n",
    "\n",
    "    def pipe(self, _split):\n",
    "        train_val_idx, test_idx = _split\n",
    "        train_val_idx = self.global_dataset_ids[train_val_idx]\n",
    "        test_idx = self.global_dataset_ids[test_idx]\n",
    "        \n",
    "        self.models.append(self.model_fn(self.iter))\n",
    "\n",
    "        np.random.seed(self.iter)\n",
    "        self.iter += 1\n",
    "        ids = np.arange(len(train_val_idx))\n",
    "        np.random.shuffle(ids)\n",
    "        N = int(len(train_val_idx) * self.val_ratio)\n",
    "        train_idx = train_val_idx[N:]\n",
    "        val_idx = train_val_idx[:N]\n",
    "\n",
    "        X_ext = extract_features_in_domain_v1(\n",
    "            full_ext_bundle,\n",
    "            np.arange(len(full_ext_targets)),\n",
    "            self.reset_cache,\n",
    "            self.is_pairwise,\n",
    "            False,\n",
    "        )\n",
    "        y_ext = extract_targets_ext(self.is_pairwise)\n",
    "\n",
    "        X_train = extract_features_in_domain_v1(train_bundle, train_idx, self.reset_cache, self.is_pairwise, True)\n",
    "        X_val = extract_features_in_domain_v1(train_bundle, val_idx, self.reset_cache, self.is_pairwise, True)\n",
    "        X_test = extract_features_in_domain_v1(train_bundle, test_idx, self.reset_cache, self.is_pairwise, True)\n",
    "\n",
    "        y_train = extract_targets_in_domain(train_idx, self.is_pairwise)\n",
    "        y_val = extract_targets_in_domain(val_idx, self.is_pairwise)\n",
    "        y_test = extract_targets_in_domain(test_idx, self.is_pairwise)\n",
    "\n",
    "        train_weights = np.ones_like(y_train)\n",
    "        ext_weights = np.concatenate([np.ones((len(ext_bundle) + len(tr_ext_4K_bundle)) * 3) * self.ext_weight,\n",
    "                                      np.ones(len(rubq_bundle) * 3)]) * self.ext_weight\n",
    "#                                       ext_bundle, tr_ext_4K_bundle, rubq_bundle\n",
    "        \n",
    "        if True:  # useful for debug\n",
    "            train_weights = np.concatenate([train_weights, ext_weights], axis=0)\n",
    "            X_train = np.concatenate([X_train, X_ext], axis=0)\n",
    "            y_train = np.concatenate([y_train, y_ext], axis=0)\n",
    "\n",
    "        y_test_pred = self.fit_predict_with_model(self.models[-1], X_train, X_val, X_test, y_train, y_val, self.val_ratio, self.is_pairwise, train_weights)\n",
    "#         y_test_baseline = np.array([np.eye(3)[int(x)] for x in X_test[::3, 0]]).reshape(-1)\n",
    "        y_test_baseline = X_test[:, -1]   # is sber-gpt3\n",
    "        metric = calc_metric(y_test, y_test_pred, self.is_pairwise)\n",
    "        base_metric = calc_metric(y_test, y_test_baseline, self.is_pairwise)\n",
    "        return (metric, base_metric)"
   ]
  },
  {
   "cell_type": "code",
   "execution_count": 499,
   "metadata": {},
   "outputs": [],
   "source": [
    "from sklearn.linear_model import LinearRegression, LogisticRegression"
   ]
  },
  {
   "cell_type": "code",
   "execution_count": 500,
   "metadata": {},
   "outputs": [],
   "source": [
    "def fit_predict_with_sklearn(model, X_train, X_val, X_test, y_train, y_val, val_ratio: float, is_pairwise: bool, weights:np.array):\n",
    "#     train_group_id = np.repeat(np.arange(X_train.shape[0] // 3), 3) if is_pairwise else None\n",
    "#     val_group_id = np.repeat(np.arange(X_val.shape[0] // 3), 3) if is_pairwise else None\n",
    "#     train_pool = catboost.Pool(X_train, y_train, group_id=train_group_id, weight=weights)\n",
    "#     val_pool = catboost.Pool(X_val, y_val, group_id=val_group_id)\n",
    "#     model.fit(train_pool, eval_set=val_pool, early_stopping_rounds=100)\n",
    "    model.fit(X_train, y_train)#, weights)\n",
    "    return model.predict(X_test)"
   ]
  },
  {
   "cell_type": "code",
   "execution_count": 501,
   "metadata": {},
   "outputs": [],
   "source": [
    "from sklearn.model_selection import RepeatedStratifiedKFold\n",
    "from catboost import CatBoostClassifier\n",
    "from sklearn.neural_network import MLPClassifier\n",
    "from sklearn.ensemble import RandomForestClassifier"
   ]
  },
  {
   "cell_type": "code",
   "execution_count": 502,
   "metadata": {},
   "outputs": [
    {
     "name": "stdout",
     "output_type": "stream",
     "text": [
      "[3286 2463 4058  746 1979  534  166 2620 3205 3664]\n"
     ]
    }
   ],
   "source": [
    "GLOBAL_TEST_RATIO = 0.1\n",
    "np.random.seed(42)\n",
    "ids = np.arange(len(train_data))\n",
    "np.random.shuffle(ids)\n",
    "print(ids[:10])\n",
    "N = int(len(train_data) * GLOBAL_TEST_RATIO)\n",
    "train_global_idx = ids[N:]\n",
    "val_global_idx = ids[:N]"
   ]
  },
  {
   "cell_type": "code",
   "execution_count": null,
   "metadata": {
    "scrolled": true
   },
   "outputs": [],
   "source": [
    "score_aggregator = ScoreAggregator()\n",
    "global_dataset_ids = np.arange(train_data.shape[0])[train_global_idx]\n",
    "piper = PiperV1(\n",
    "    lambda n_split: catboost.CatBoost({\n",
    "        \"loss_function\":\"QueryRMSE\",\n",
    "        \"rsm\":0.3,\n",
    "        \"random_seed\": n_split,\n",
    "        \"max_bin\": 32,\n",
    "        \"n_estimators\": 1000}),\n",
    "    0.,\n",
    "    True,\n",
    "    0.01,\n",
    "    fit_predict_with_catboost,\n",
    "    global_dataset_ids\n",
    ")\n",
    "\n",
    "evaluate(\n",
    "    generator=RepeatedStratifiedKFold(n_repeats=3, n_splits=3, random_state=13).split(\n",
    "        global_dataset_ids,\n",
    "        train_raw_targets[train_global_idx]\n",
    "    ),\n",
    "    pipe=piper.pipe,\n",
    "    aggregator=score_aggregator\n",
    ")"
   ]
  },
  {
   "cell_type": "code",
   "execution_count": 431,
   "metadata": {},
   "outputs": [],
   "source": [
    "for i, m in enumerate(piper.models):\n",
    "    m.save_model(\"models/cb_model_v1_{}_out_of_{}\".format(i+1, len(piper.models)))"
   ]
  },
  {
   "cell_type": "code",
   "execution_count": 251,
   "metadata": {},
   "outputs": [
    {
     "data": {
      "text/plain": [
       "{'mean_score': 0.37328101447928325,\n",
       " 'std_score': 0.008979662688540868,\n",
       " 'mean_diff': 0.018972619111229033,\n",
       " 'std_diff': 0.012395365464154137,\n",
       " 'p_value': 0.12586287112651248}"
      ]
     },
     "execution_count": 251,
     "metadata": {},
     "output_type": "execute_result"
    }
   ],
   "source": [
    "score_aggregator.calc_info() # 37.3 for 500 it"
   ]
  },
  {
   "cell_type": "code",
   "execution_count": 504,
   "metadata": {},
   "outputs": [
    {
     "data": {
      "text/plain": [
       "{'mean_score': 0.3726407984986243,\n",
       " 'std_score': 0.009915737520026517,\n",
       " 'mean_diff': 0.01833240313057006,\n",
       " 'std_diff': 0.012346703234910505,\n",
       " 'p_value': 0.13759645389105363}"
      ]
     },
     "execution_count": 504,
     "metadata": {},
     "output_type": "execute_result"
    }
   ],
   "source": [
    "score_aggregator.calc_info() # "
   ]
  },
  {
   "cell_type": "code",
   "execution_count": 451,
   "metadata": {},
   "outputs": [
    {
     "data": {
      "text/plain": [
       "{'mean_score': 0.3726407984986243,\n",
       " 'std_score': 0.009915737520026517,\n",
       " 'mean_diff': 0.01833240313057006,\n",
       " 'std_diff': 0.012346703234910505,\n",
       " 'p_value': 0.13759645389105363}"
      ]
     },
     "execution_count": 451,
     "metadata": {},
     "output_type": "execute_result"
    }
   ],
   "source": [
    "score_aggregator.calc_info()"
   ]
  },
  {
   "cell_type": "code",
   "execution_count": 435,
   "metadata": {},
   "outputs": [
    {
     "data": {
      "text/plain": [
       "{'mean_score': 0.34527667283459196,\n",
       " 'std_score': 0.015831845922636752,\n",
       " 'mean_diff': -0.009031722533462246,\n",
       " 'std_diff': 0.016623245791967542,\n",
       " 'p_value': 0.5869103209204434}"
      ]
     },
     "execution_count": 435,
     "metadata": {},
     "output_type": "execute_result"
    }
   ],
   "source": [
    "score_aggregator.calc_info()"
   ]
  },
  {
   "cell_type": "code",
   "execution_count": 460,
   "metadata": {},
   "outputs": [
    {
     "data": {
      "text/plain": [
       "[0.35684987694831827,\n",
       " 0.3817733990147783,\n",
       " 0.3850574712643678,\n",
       " 0.3724364232977851,\n",
       " 0.3768472906403941,\n",
       " 0.37110016420361247,\n",
       " 0.38392124692370794,\n",
       " 0.36042692939244664,\n",
       " 0.3620689655172414]"
      ]
     },
     "execution_count": 460,
     "metadata": {},
     "output_type": "execute_result"
    }
   ],
   "source": [
    "score_aggregator._scores"
   ]
  },
  {
   "cell_type": "code",
   "execution_count": 458,
   "metadata": {},
   "outputs": [
    {
     "data": {
      "text/plain": [
       "(0.009966793166767428, 0.35684987694831827)"
      ]
     },
     "execution_count": 458,
     "metadata": {},
     "output_type": "execute_result"
    }
   ],
   "source": [
    "np.std(score_aggregator._scores), np.min(score_aggregator._scores)"
   ]
  },
  {
   "cell_type": "code",
   "execution_count": 459,
   "metadata": {},
   "outputs": [
    {
     "data": {
      "text/plain": [
       "(0.005675757668625942, 0.3440065681444992)"
      ]
     },
     "execution_count": 459,
     "metadata": {},
     "output_type": "execute_result"
    }
   ],
   "source": [
    "np.std(score_aggregator._baselines), np.min(score_aggregator._baselines)"
   ]
  },
  {
   "cell_type": "code",
   "execution_count": 428,
   "metadata": {},
   "outputs": [
    {
     "data": {
      "text/plain": [
       "{'learn': {'QueryRMSE': 0.4114848185417093}}"
      ]
     },
     "execution_count": 428,
     "metadata": {},
     "output_type": "execute_result"
    }
   ],
   "source": [
    "piper.models[-1].best_score_"
   ]
  },
  {
   "cell_type": "code",
   "execution_count": 76,
   "metadata": {},
   "outputs": [],
   "source": [
    "m = piper.models[-1]"
   ]
  },
  {
   "cell_type": "code",
   "execution_count": 438,
   "metadata": {},
   "outputs": [],
   "source": [
    "global_test = extract_features_in_domain_v1(train_bundle, val_global_idx, True, True, True)"
   ]
  },
  {
   "cell_type": "code",
   "execution_count": 449,
   "metadata": {},
   "outputs": [
    {
     "data": {
      "text/plain": [
       "0.4014778325123153"
      ]
     },
     "execution_count": 449,
     "metadata": {},
     "output_type": "execute_result"
    }
   ],
   "source": [
    "res = []\n",
    "\n",
    "for m in piper.models:\n",
    "    scores = m.predict(global_test)\n",
    "    scores = scores.reshape(-1, 3)\n",
    "    res.append(scores)\n",
    "res = np.array(res)\n",
    "global_test_pred = np.median(res, axis=0)\n",
    "\n",
    "y_global_test = extract_targets_in_domain(val_global_idx, True)\n",
    "metric = calc_metric(y_global_test, global_test_pred, True)\n",
    "metric"
   ]
  },
  {
   "cell_type": "code",
   "execution_count": 283,
   "metadata": {},
   "outputs": [],
   "source": [
    "train_data.loc[val_global_idx].to_csv(\"data/global_val_dataset.csv\")"
   ]
  },
  {
   "cell_type": "code",
   "execution_count": 444,
   "metadata": {},
   "outputs": [
    {
     "data": {
      "text/plain": [
       "(1218,)"
      ]
     },
     "execution_count": 444,
     "metadata": {},
     "output_type": "execute_result"
    }
   ],
   "source": [
    "y_global_test.shape"
   ]
  },
  {
   "cell_type": "code",
   "execution_count": 445,
   "metadata": {},
   "outputs": [
    {
     "data": {
      "text/plain": [
       "(406, 3)"
      ]
     },
     "execution_count": 445,
     "metadata": {},
     "output_type": "execute_result"
    }
   ],
   "source": [
    "global_test_pred.shape"
   ]
  },
  {
   "cell_type": "code",
   "execution_count": 450,
   "metadata": {},
   "outputs": [
    {
     "data": {
      "text/plain": [
       "[(2, array([ 0.01412552,  0.01579307, -0.05706615])),\n",
       " (2, array([0.01256603, 0.02836872, 0.00798458])),\n",
       " (0, array([0.02716267, 0.00381815, 0.07961208])),\n",
       " (2, array([ 0.04498007, -0.03872567, -0.03266267])),\n",
       " (0, array([-0.02860388,  0.01581549, -0.06030325])),\n",
       " (2, array([ 0.08058833, -0.08315102, -0.05639211])),\n",
       " (2, array([ 0.02954279, -0.00264727, -0.01093597])),\n",
       " (0, array([ 0.02764234, -0.00946021,  0.04710662])),\n",
       " (2, array([-0.00348881, -0.03033365, -0.0187319 ])),\n",
       " (2, array([0.00855746, 0.05284259, 0.0371246 ])),\n",
       " (2, array([-0.01130463, -0.03204767, -0.05780448])),\n",
       " (2, array([-0.01928139,  0.0983702 , -0.01715747])),\n",
       " (1, array([0.02937252, 0.03327462, 0.01647447])),\n",
       " (2, array([0.00283855, 0.06703682, 0.04309594])),\n",
       " (0, array([0.03938226, 0.02194227, 0.04999485])),\n",
       " (0, array([-0.08499498, -0.12336161,  0.04435601])),\n",
       " (0, array([ 0.01372693,  0.07065571, -0.02964317])),\n",
       " (1, array([ 0.0155695 , -0.00117963,  0.0576145 ])),\n",
       " (1, array([0.02179518, 0.03174753, 0.0272986 ])),\n",
       " (0, array([ 0.04368192, -0.02227013,  0.05783134])),\n",
       " (1, array([ 0.00865029, -0.01057934,  0.10824173])),\n",
       " (2, array([ 0.04254199, -0.02062266,  0.02690892])),\n",
       " (1, array([-0.04294651, -0.07860261, -0.07790094])),\n",
       " (0, array([-0.00125972, -0.01805331,  0.02102125])),\n",
       " (2, array([ 0.03898821, -0.00976694, -0.05324703])),\n",
       " (2, array([-0.09885739, -0.08551941, -0.02013515])),\n",
       " (2, array([ 0.0084225 , -0.03177763,  0.06304806])),\n",
       " (2, array([0.09346826, 0.00349541, 0.05991348])),\n",
       " (1, array([ 0.0576319 , -0.04927513, -0.10305829])),\n",
       " (0, array([-0.09952804, -0.04260056,  0.02308806])),\n",
       " (2, array([-0.00889676, -0.0239816 ,  0.02519505])),\n",
       " (2, array([0.00353625, 0.02009856, 0.05706729])),\n",
       " (0, array([0.05946149, 0.03679584, 0.0829692 ])),\n",
       " (0, array([-0.03715776, -0.06107972, -0.02718146])),\n",
       " (1, array([-0.02828704, -0.02619462, -0.02083709])),\n",
       " (2, array([-0.07860872, -0.07293638,  0.00617298])),\n",
       " (0, array([0.00605344, 0.0718902 , 0.02212852])),\n",
       " (0, array([0.03501579, 0.11543401, 0.04065544])),\n",
       " (0, array([-0.02319835,  0.05759644, -0.12422509])),\n",
       " (1, array([0.05161431, 0.00772795, 0.04726653])),\n",
       " (0, array([ 0.04266221,  0.0315505 , -0.01818604])),\n",
       " (1, array([-0.01128845,  0.09517146,  0.01403263])),\n",
       " (2, array([-0.03392155, -0.01996596,  0.05873015])),\n",
       " (0, array([-0.04220161, -0.02041463, -0.02175031])),\n",
       " (1, array([0.03890213, 0.03202926, 0.04891939])),\n",
       " (1, array([0.00421611, 0.00103477, 0.02448131])),\n",
       " (0, array([-0.08477249, -0.12690229,  0.01174396])),\n",
       " (1, array([0.03283457, 0.0703015 , 0.10407826])),\n",
       " (2, array([ 0.03298942,  0.05292275, -0.03865149])),\n",
       " (0, array([ 0.09831003, -0.01052428,  0.07522384])),\n",
       " (2, array([-0.05072724,  0.01413252, -0.01977891])),\n",
       " (1, array([-0.01864764,  0.0127925 , -0.02917158])),\n",
       " (2, array([0.06743752, 0.02584121, 0.04352374])),\n",
       " (1, array([ 0.03138681, -0.03957862, -0.03185247])),\n",
       " (1, array([0.00729635, 0.01668236, 0.00621487])),\n",
       " (2, array([0.06635072, 0.02495115, 0.06115642])),\n",
       " (2, array([0.03945873, 0.00494635, 0.04984322])),\n",
       " (2, array([-0.02059798, -0.05181764, -0.03838384])),\n",
       " (0, array([-0.00276032,  0.06379753,  0.02245511])),\n",
       " (0, array([-0.0022398 ,  0.00905716,  0.00538353])),\n",
       " (2, array([0.03841353, 0.02266526, 0.01355498])),\n",
       " (2, array([-0.01613205,  0.05539822, -0.05611686])),\n",
       " (2, array([ 0.09368516, -0.00725106,  0.02727205])),\n",
       " (0, array([ 0.02044842, -0.02450724,  0.06862879])),\n",
       " (0, array([-0.00703697, -0.07194538, -0.05111249])),\n",
       " (2, array([-0.03744897, -0.00825062,  0.05235989])),\n",
       " (2, array([-0.02011429,  0.12955968,  0.04403933])),\n",
       " (0, array([ 0.08894426, -0.05680838, -0.02650365])),\n",
       " (2, array([0.0247086 , 0.01592004, 0.02680775])),\n",
       " (0, array([-0.03409073,  0.02761304, -0.0253104 ])),\n",
       " (2, array([-0.0100638 , -0.06460966, -0.07886849])),\n",
       " (1, array([-0.06444017,  0.00217183, -0.10545932])),\n",
       " (0, array([0.03093696, 0.01769117, 0.02310466])),\n",
       " (2, array([-0.02220354, -0.03634297,  0.0229535 ])),\n",
       " (0, array([-0.00632928,  0.00095345,  0.00114701])),\n",
       " (1, array([-0.05833047, -0.04690374, -0.05131092])),\n",
       " (1, array([-0.08416528, -0.02804585,  0.00758906])),\n",
       " (2, array([-0.0805592 ,  0.03429637,  0.03738887])),\n",
       " (0, array([-0.04531969,  0.02410306,  0.01720403])),\n",
       " (2, array([-0.01518386,  0.07501861, -0.01762905])),\n",
       " (1, array([-0.02465687,  0.02837579,  0.0084749 ])),\n",
       " (2, array([0.08054028, 0.06775264, 0.0571274 ])),\n",
       " (0, array([ 0.0254036 , -0.02043329, -0.00357364])),\n",
       " (0, array([ 0.00168706, -0.03002707, -0.04472929])),\n",
       " (1, array([-0.07618764,  0.00366434, -0.00222856])),\n",
       " (0, array([0.08130925, 0.04967308, 0.0885214 ])),\n",
       " (0, array([ 0.02210072, -0.00613551, -0.00735471])),\n",
       " (2, array([-0.00311643, -0.04740055, -0.03665632])),\n",
       " (2, array([-0.07720775, -0.02303182,  0.01480349])),\n",
       " (0, array([0.03668792, 0.00998393, 0.01044994])),\n",
       " (0, array([ 0.08994446, -0.06188125,  0.03285148])),\n",
       " (0, array([ 0.1022902 , -0.04205052, -0.12919121])),\n",
       " (0, array([ 0.14904895,  0.05303157, -0.07228428])),\n",
       " (0, array([ 0.02277099,  0.0350004 , -0.00953526])),\n",
       " (1, array([0.11193356, 0.03806589, 0.14414586])),\n",
       " (2, array([ 0.01094593, -0.0018822 ,  0.0187105 ])),\n",
       " (2, array([-0.03532242,  0.03626233, -0.04426757])),\n",
       " (1, array([0.06270615, 0.03065268, 0.03145732])),\n",
       " (1, array([-0.00934807,  0.015549  ,  0.02313762])),\n",
       " (0, array([-0.08607822,  0.04724543, -0.07596598])),\n",
       " (0, array([-0.02574979,  0.0057111 ,  0.00812329])),\n",
       " (2, array([0.06469681, 0.06239666, 0.07510959])),\n",
       " (1, array([-0.01657741,  0.04812697,  0.04444956])),\n",
       " (0, array([ 0.03565037,  0.04910294, -0.07554467])),\n",
       " (2, array([ 0.05690855, -0.03143074,  0.01505479])),\n",
       " (1, array([ 0.03294775, -0.07200971, -0.0346347 ])),\n",
       " (1, array([-0.01852898, -0.02814928, -0.05076284])),\n",
       " (0, array([-0.07014987, -0.02681798, -0.06331205])),\n",
       " (2, array([ 0.03983141, -0.06960114,  0.01505557])),\n",
       " (1, array([ 0.04320245, -0.07396303,  0.03705744])),\n",
       " (0, array([ 0.11740397,  0.03594381, -0.06139381])),\n",
       " (0, array([-0.08507942, -0.15216754,  0.05575958])),\n",
       " (2, array([-0.04060204, -0.04238317,  0.04257127])),\n",
       " (0, array([0.08160887, 0.02452404, 0.03104333])),\n",
       " (2, array([-0.03202086, -0.0619044 ,  0.08988177])),\n",
       " (1, array([-0.00599246,  0.05333558, -0.007928  ])),\n",
       " (1, array([-0.0142961 ,  0.03785508, -0.06554519])),\n",
       " (1, array([0.01008872, 0.01163879, 0.03430999])),\n",
       " (0, array([-0.06994505, -0.01605561, -0.01615019])),\n",
       " (1, array([ 0.04162551, -0.05824991, -0.10945863])),\n",
       " (0, array([-0.06953439, -0.07704808, -0.00128841])),\n",
       " (1, array([-0.0053675 ,  0.02806969,  0.01041944])),\n",
       " (0, array([ 0.03503009, -0.04207198,  0.02471234])),\n",
       " (2, array([0.06025945, 0.00598223, 0.00967532])),\n",
       " (1, array([-0.04952445, -0.04566323, -0.02759972])),\n",
       " (0, array([ 0.01460389,  0.03852834, -0.04925458])),\n",
       " (2, array([-0.06268623, -0.036785  , -0.06684842])),\n",
       " (0, array([0.02593787, 0.04652158, 0.04070217])),\n",
       " (1, array([-0.04417684, -0.04907658, -0.0142935 ])),\n",
       " (1, array([0.07772851, 0.02293726, 0.06648802])),\n",
       " (0, array([ 0.03314279, -0.00869433,  0.01058322])),\n",
       " (1, array([-0.02271007,  0.03133981, -0.06037845])),\n",
       " (1, array([-0.01251442,  0.05047086, -0.07928115])),\n",
       " (0, array([-0.02358362, -0.00567341, -0.05331658])),\n",
       " (1, array([ 0.00130541,  0.00450402, -0.02130679])),\n",
       " (0, array([0.03031347, 0.05797007, 0.09865084])),\n",
       " (2, array([-0.05251395,  0.04688251,  0.02587343])),\n",
       " (2, array([-0.00122615,  0.03597346,  0.01776381])),\n",
       " (2, array([-0.00510002, -0.0738517 , -0.06198677])),\n",
       " (1, array([-0.01147907, -0.03403673,  0.00489254])),\n",
       " (1, array([ 0.0187829,  0.0112902, -0.0308156])),\n",
       " (0, array([ 0.0243142 , -0.01507446, -0.03486977])),\n",
       " (2, array([0.00798258, 0.01706964, 0.07799816])),\n",
       " (2, array([ 0.0658723 , -0.00259662,  0.01883868])),\n",
       " (1, array([ 0.03078579, -0.00260124,  0.02285668])),\n",
       " (1, array([-0.02462258, -0.00175114, -0.02126204])),\n",
       " (1, array([-0.04023903, -0.10933907, -0.02275425])),\n",
       " (1, array([-0.07444682,  0.00021257, -0.00703793])),\n",
       " (2, array([-0.07560014,  0.00014903, -0.05134931])),\n",
       " (1, array([-0.01285211, -0.01643268,  0.00525063])),\n",
       " (0, array([-0.044922  ,  0.03865193,  0.04240499])),\n",
       " (0, array([-0.00023963, -0.09997442,  0.02311747])),\n",
       " (1, array([ 0.02663247, -0.00289964,  0.03895247])),\n",
       " (1, array([ 0.03019241,  0.06172078, -0.00204484])),\n",
       " (2, array([-0.00187803, -0.05466456,  0.02928702])),\n",
       " (2, array([-0.01521228,  0.00634787,  0.0541795 ])),\n",
       " (2, array([-0.00702566,  0.00999369,  0.01042321])),\n",
       " (2, array([ 0.01980645,  0.0207692 , -0.06173287])),\n",
       " (1, array([0.00968386, 0.10684181, 0.02935069])),\n",
       " (2, array([-0.03604074,  0.01696731,  0.01861781])),\n",
       " (1, array([-0.02936212, -0.00539863, -0.02194708])),\n",
       " (0, array([-0.01686249, -0.0252011 , -0.09331936])),\n",
       " (0, array([0.00688661, 0.00508533, 0.09351138])),\n",
       " (2, array([-0.05558317, -0.03924518, -0.01200776])),\n",
       " (1, array([-0.05200242, -0.00414846, -0.00090875])),\n",
       " (1, array([ 0.00518743,  0.13022051, -0.04383502])),\n",
       " (0, array([0.05069095, 0.01221837, 0.00789563])),\n",
       " (1, array([-0.04273477, -0.04610738,  0.0501295 ])),\n",
       " (0, array([ 0.01565208, -0.03410346,  0.0095175 ])),\n",
       " (2, array([0.05618295, 0.0659228 , 0.01530176])),\n",
       " (0, array([0.09561192, 0.02459224, 0.03903324])),\n",
       " (0, array([-0.03050679,  0.02640832,  0.0035315 ])),\n",
       " (1, array([ 0.00341328, -0.06533521, -0.02115666])),\n",
       " (1, array([-0.03330188, -0.0425955 , -0.10191407])),\n",
       " (1, array([0.02724494, 0.04312767, 0.02323337])),\n",
       " (1, array([0.03559643, 0.05464699, 0.08371287])),\n",
       " (1, array([-0.05171333, -0.10062876, -0.0418736 ])),\n",
       " (2, array([-0.01901249,  0.03249895, -0.01079319])),\n",
       " (0, array([-0.07646432,  0.0466401 , -0.074452  ])),\n",
       " (0, array([-0.03902778, -0.00527816,  0.00874009])),\n",
       " (0, array([ 0.06031767, -0.00093784,  0.0081392 ])),\n",
       " (0, array([ 0.0168594 , -0.12681838, -0.08839242])),\n",
       " (1, array([ 0.01322223, -0.02323045,  0.02673712])),\n",
       " (0, array([0.01302313, 0.02268367, 0.03980661])),\n",
       " (2, array([ 0.0108529 , -0.04877697,  0.12027284])),\n",
       " (2, array([-0.00216321,  0.01043267,  0.0550899 ])),\n",
       " (1, array([-0.03482778,  0.03936701, -0.01898314])),\n",
       " (0, array([ 0.0094276 ,  0.00488496, -0.02085453])),\n",
       " (2, array([ 0.0058169 , -0.01162965,  0.0954617 ])),\n",
       " (2, array([0.0767341 , 0.00954931, 0.05284792])),\n",
       " (2, array([-0.05991552, -0.07381877, -0.01406585])),\n",
       " (1, array([-0.04772393, -0.10800926, -0.04563953])),\n",
       " (0, array([ 0.00367096,  0.05934576, -0.00792675])),\n",
       " (2, array([-0.06249478,  0.02934255, -0.0627573 ])),\n",
       " (1, array([-0.07097232, -0.05447603, -0.08387523])),\n",
       " (2, array([0.08186627, 0.13564229, 0.04403512])),\n",
       " (1, array([ 0.0029579 , -0.02678386, -0.03071   ])),\n",
       " (0, array([0.01071122, 0.08321179, 0.01254754])),\n",
       " (0, array([ 0.08877285, -0.03153941, -0.01968345])),\n",
       " (1, array([ 0.01258002, -0.05998387, -0.0200557 ])),\n",
       " (2, array([-0.05120267, -0.06429579, -0.03978292])),\n",
       " (0, array([-0.0396125 ,  0.07127998, -0.02531898])),\n",
       " (2, array([0.02504485, 0.08313389, 0.0853121 ])),\n",
       " (1, array([0.11739603, 0.03340023, 0.06481359])),\n",
       " (1, array([-0.02858131, -0.00384428,  0.03609421])),\n",
       " (1, array([ 0.06037783,  0.01265213, -0.02229198])),\n",
       " (0, array([ 0.00501834, -0.04158835, -0.05359162])),\n",
       " (0, array([0.04525318, 0.02438532, 0.03176279])),\n",
       " (1, array([-0.02306036,  0.08396661,  0.05196672])),\n",
       " (0, array([0.0307858 , 0.02779703, 0.09511555])),\n",
       " (0, array([ 0.0373661 ,  0.00986865, -0.00478015])),\n",
       " (1, array([ 0.03455947,  0.05840117, -0.02897312])),\n",
       " (0, array([ 0.01688333,  0.00945407, -0.07347976])),\n",
       " (1, array([-0.03658703,  0.02366197, -0.00749487])),\n",
       " (2, array([-0.04686366, -0.02466751, -0.04858427])),\n",
       " (0, array([0.03385985, 0.02096599, 0.03153228])),\n",
       " (2, array([-0.0229742 , -0.03178825,  0.03722489])),\n",
       " (0, array([ 0.10650758,  0.00564554, -0.04407018])),\n",
       " (2, array([-0.08004246, -0.07517949, -0.02706166])),\n",
       " (1, array([-0.00285331,  0.03758284,  0.05007302])),\n",
       " (0, array([-0.07215743, -0.03801304, -0.08335145])),\n",
       " (0, array([-0.01149313,  0.01724316,  0.03881972])),\n",
       " (1, array([-0.02173726, -0.02268791, -0.08102299])),\n",
       " (0, array([0.01246361, 0.05123434, 0.01853567])),\n",
       " (1, array([0.00431204, 0.10639903, 0.06255808])),\n",
       " (2, array([0.09868606, 0.0671524 , 0.06276556])),\n",
       " (1, array([-0.00046346,  0.02619599, -0.01269556])),\n",
       " (0, array([ 0.07556126,  0.0012434 , -0.00625585])),\n",
       " (0, array([ 0.01210919, -0.06392338, -0.03291609])),\n",
       " (2, array([0.02745223, 0.09299142, 0.03105948])),\n",
       " (0, array([0.03813066, 0.01432357, 0.02010325])),\n",
       " (0, array([ 0.01488702, -0.01463627,  0.03832975])),\n",
       " (0, array([ 0.02422096, -0.01579368, -0.03332307])),\n",
       " (0, array([ 0.02559491, -0.00547193,  0.03457493])),\n",
       " (2, array([-0.03884244, -0.04428308, -0.0290718 ])),\n",
       " (2, array([ 0.01739967,  0.06218826, -0.03514209])),\n",
       " (2, array([-0.01202359,  0.07261821, -0.01461335])),\n",
       " (1, array([-0.09484133, -0.03241924, -0.02874594])),\n",
       " (0, array([-0.01431573, -0.01774805,  0.09724666])),\n",
       " (1, array([-0.03326816,  0.0067023 , -0.10451146])),\n",
       " (1, array([0.06761942, 0.08228149, 0.04646605])),\n",
       " (2, array([0.1048933 , 0.01198949, 0.00569691])),\n",
       " (2, array([-0.01249024, -0.02318564,  0.04647522])),\n",
       " (0, array([-0.05038976, -0.00565778, -0.00918651])),\n",
       " (0, array([0.04215559, 0.02519637, 0.00168993])),\n",
       " (0, array([ 0.03466796, -0.03125997,  0.05907734])),\n",
       " (1, array([0.02302377, 0.05056281, 0.14765437])),\n",
       " (2, array([-0.04050507,  0.05898748,  0.01124908])),\n",
       " (0, array([-0.06327661,  0.02222329,  0.01759312])),\n",
       " (1, array([ 0.0020937 ,  0.0726293 , -0.05196296])),\n",
       " (1, array([-0.01837807, -0.02377646, -0.00843019])),\n",
       " (0, array([-0.06215718, -0.07950489, -0.08947533])),\n",
       " (0, array([0.02675868, 0.01714399, 0.12676812])),\n",
       " (1, array([0.02375533, 0.0410248 , 0.03305435])),\n",
       " (2, array([-0.02241591, -0.01947356,  0.0058937 ])),\n",
       " (2, array([0.03393646, 0.10475523, 0.00644717])),\n",
       " (1, array([-0.03376714,  0.03566243, -0.02597951])),\n",
       " (0, array([0.04933923, 0.02893786, 0.02808478])),\n",
       " (0, array([-0.00886555,  0.00164019,  0.03724873])),\n",
       " (0, array([ 0.0103439 , -0.0310333 , -0.08454729])),\n",
       " (2, array([-0.07007735,  0.05653251, -0.1468297 ])),\n",
       " (0, array([0.01894366, 0.02293898, 0.0644607 ])),\n",
       " (0, array([ 0.01510658, -0.03199453,  0.04622833])),\n",
       " (0, array([-0.01778754,  0.01159772,  0.0100527 ])),\n",
       " (0, array([-0.09761781, -0.06807607, -0.0600835 ])),\n",
       " (2, array([-0.030535  , -0.07565933, -0.10961252])),\n",
       " (1, array([ 0.04552112, -0.07283957,  0.0338515 ])),\n",
       " (1, array([ 0.01779261, -0.02972153,  0.02344519])),\n",
       " (1, array([-0.00122501,  0.01163896,  0.02518746])),\n",
       " (0, array([ 0.04718299, -0.02402332, -0.00454743])),\n",
       " (0, array([0.09371415, 0.00902385, 0.05970474])),\n",
       " (0, array([ 0.01564773,  0.04239262, -0.12908618])),\n",
       " (2, array([-0.04800933,  0.01155892, -0.02039608])),\n",
       " (0, array([-0.1268104 ,  0.01253716, -0.07491318])),\n",
       " (1, array([-0.08944646, -0.00407086,  0.01873233])),\n",
       " (2, array([-0.05490531, -0.0439389 , -0.05721789])),\n",
       " (1, array([ 0.01793915, -0.00464855, -0.02167707])),\n",
       " (1, array([0.04944221, 0.11406335, 0.00020665])),\n",
       " (1, array([ 0.03408547,  0.01798433, -0.08463561])),\n",
       " (0, array([ 0.08984671,  0.12090666, -0.02149536])),\n",
       " (0, array([ 0.02060101, -0.01005136,  0.05916267])),\n",
       " (0, array([ 0.02551635, -0.00184665, -0.01933   ])),\n",
       " (0, array([ 0.01936967,  0.01285502, -0.00114786])),\n",
       " (1, array([-0.0264128 , -0.03587768,  0.00126108])),\n",
       " (0, array([-0.00602234, -0.04661552, -0.07710289])),\n",
       " (2, array([-0.07155103,  0.0051513 ,  0.07453212])),\n",
       " (1, array([-0.08213911,  0.01605602,  0.00825948])),\n",
       " (1, array([-0.00817095, -0.05275049, -0.03908311])),\n",
       " (1, array([ 0.01956333, -0.06637238,  0.01478818])),\n",
       " (1, array([-0.02225883, -0.03167724, -0.01028228])),\n",
       " (1, array([-0.04850218, -0.01036907, -0.05167223])),\n",
       " (0, array([-0.01650843,  0.01256908,  0.03475301])),\n",
       " (1, array([-0.06016301, -0.04726425, -0.07194101])),\n",
       " (0, array([-0.14443216, -0.06018414, -0.03384959])),\n",
       " (2, array([ 0.03269359,  0.00756605, -0.07042616])),\n",
       " (2, array([ 0.01159536, -0.06114855,  0.02902914])),\n",
       " (0, array([-0.02914553, -0.03465294,  0.00034451])),\n",
       " (2, array([ 0.03043516,  0.04308935, -0.02732344])),\n",
       " (1, array([ 0.04647348, -0.09620918, -0.01136294])),\n",
       " (1, array([-0.00947083, -0.01336211, -0.05773434])),\n",
       " (1, array([-0.08751153, -0.01123849,  0.01235982])),\n",
       " (0, array([ 0.02722188,  0.06230201, -0.00030309])),\n",
       " (2, array([ 0.05150727,  0.01907651, -0.0277022 ])),\n",
       " (1, array([-0.02367274, -0.00944564,  0.03198504])),\n",
       " (0, array([-0.01366693, -0.02799217,  0.03894305])),\n",
       " (1, array([-0.08003051, -0.05964103, -0.01412295])),\n",
       " (0, array([ 0.00644226, -0.00017875,  0.03602578])),\n",
       " (0, array([ 0.04280774, -0.04415078,  0.03582727])),\n",
       " (0, array([-0.02217769,  0.00586056, -0.04604019])),\n",
       " (0, array([ 0.01264513, -0.00124859, -0.00772976])),\n",
       " (2, array([0.01479322, 0.01914167, 0.04733552])),\n",
       " (2, array([0.00278078, 0.00908472, 0.00247659])),\n",
       " (0, array([-0.01763012, -0.08501417,  0.06913788])),\n",
       " (0, array([ 0.01147656,  0.0235373 , -0.06944182])),\n",
       " (0, array([ 0.08915554, -0.09934263, -0.05715308])),\n",
       " (0, array([-0.00105142, -0.0013901 , -0.07932475])),\n",
       " (0, array([-0.10854052,  0.0311153 , -0.02985896])),\n",
       " (0, array([ 0.03380468, -0.0841892 , -0.01170737])),\n",
       " (2, array([ 0.00737197, -0.08445677, -0.09101482])),\n",
       " (0, array([ 0.04141591, -0.00854307,  0.03710191])),\n",
       " (2, array([-0.00331202, -0.02083436,  0.02472424])),\n",
       " (1, array([0.04162944, 0.02683825, 0.03825392])),\n",
       " (2, array([ 0.02647576,  0.03006628, -0.00566069])),\n",
       " (2, array([0.05360765, 0.03203644, 0.05224119])),\n",
       " (1, array([ 0.01307458, -0.03171285, -0.08263663])),\n",
       " (1, array([-0.05376754, -0.04413769, -0.05281991])),\n",
       " (1, array([-0.04818452,  0.0293674 , -0.00685506])),\n",
       " (1, array([ 0.03468421, -0.01291215,  0.05412628])),\n",
       " (0, array([ 0.01011352,  0.03121375, -0.00556151])),\n",
       " (0, array([0.16274114, 0.07309694, 0.08290231])),\n",
       " (1, array([-0.01827247, -0.04548103, -0.00723411])),\n",
       " (1, array([-0.01043173,  0.03206206, -0.03783408])),\n",
       " (0, array([-0.05661918, -0.12940141,  0.04908904])),\n",
       " (0, array([0.11988257, 0.05975746, 0.01345818])),\n",
       " (1, array([-0.03446569,  0.02483165, -0.07482358])),\n",
       " (2, array([ 0.00858341, -0.09001382,  0.02397896])),\n",
       " (2, array([-0.06732421,  0.13634536,  0.03178411])),\n",
       " (0, array([0.02132229, 0.06703015, 0.0013287 ])),\n",
       " (1, array([ 0.0221082 , -0.03965053,  0.01739124])),\n",
       " (0, array([-0.03920023, -0.08554724, -0.07771554])),\n",
       " (2, array([-0.00949153,  0.00797717, -0.05428875])),\n",
       " (0, array([0.04309868, 0.01765278, 0.02208101])),\n",
       " (2, array([ 0.03121527, -0.00351231, -0.04831031])),\n",
       " (0, array([ 0.0482369 ,  0.00642602, -0.03139975])),\n",
       " (0, array([ 0.00784017,  0.00443322, -0.01608776])),\n",
       " (2, array([0.08065829, 0.07627994, 0.0412427 ])),\n",
       " (0, array([-0.0192112 , -0.03527406, -0.08057093])),\n",
       " (1, array([-0.07533825,  0.0184788 , -0.00791964])),\n",
       " (0, array([0.00358698, 0.03255742, 0.02907281])),\n",
       " (1, array([-0.09292974, -0.03938083,  0.00776509])),\n",
       " (2, array([0.05529966, 0.02171705, 0.04031166])),\n",
       " (1, array([-0.09427866,  0.04167605, -0.05866364])),\n",
       " (0, array([ 0.05188567, -0.04275855,  0.01535201])),\n",
       " (0, array([-0.04475782,  0.03029841, -0.02080897])),\n",
       " (2, array([-0.00304761, -0.0400281 ,  0.09980759])),\n",
       " (1, array([-0.10619647, -0.03228612, -0.09979682])),\n",
       " (1, array([-0.06554371, -0.06995476,  0.0467363 ])),\n",
       " (0, array([ 0.07012295, -0.02712974,  0.0141457 ])),\n",
       " (0, array([ 0.03580226, -0.03387156,  0.00882523])),\n",
       " (0, array([-0.0104743 , -0.07341725, -0.03847095])),\n",
       " (1, array([-0.06313684,  0.03148196,  0.07271644])),\n",
       " (1, array([ 0.08954106, -0.04192904,  0.07269804])),\n",
       " (1, array([0.01199665, 0.02278586, 0.0545553 ])),\n",
       " (0, array([ 0.0139415 ,  0.00586795, -0.0457826 ])),\n",
       " (0, array([ 0.06245029, -0.0017204 , -0.11264916])),\n",
       " (0, array([-0.00462215, -0.0534441 , -0.02628292])),\n",
       " (2, array([0.00570999, 0.02413552, 0.02822213])),\n",
       " (2, array([-0.02963499,  0.02497195,  0.04955873])),\n",
       " (1, array([0.06870581, 0.06781377, 0.07815353])),\n",
       " (0, array([ 0.0438694 , -0.04267514, -0.06339448])),\n",
       " (0, array([-0.06376645,  0.03394337, -0.05947225])),\n",
       " (1, array([ 0.0367007 ,  0.00035817, -0.01606269])),\n",
       " (0, array([-0.02474233, -0.01250993, -0.05143032])),\n",
       " (2, array([-0.031482  ,  0.01785003, -0.0268363 ])),\n",
       " (1, array([-0.088258  ,  0.01439626,  0.05346529])),\n",
       " (0, array([-0.01726972,  0.09815138, -0.06386867])),\n",
       " (0, array([-0.01623922,  0.00325068, -0.01258598])),\n",
       " (0, array([ 0.03947473, -0.03976038, -0.05897538])),\n",
       " (1, array([-0.01962881,  0.04109582,  0.01912103])),\n",
       " (0, array([-0.02281164,  0.05542282,  0.10201458])),\n",
       " (2, array([ 0.01013899, -0.04090279,  0.03822988])),\n",
       " (1, array([ 0.0105979 , -0.03543383, -0.03686393])),\n",
       " (1, array([-0.05152507,  0.0500458 , -0.08213099])),\n",
       " (1, array([ 0.04155487, -0.06251588,  0.0160137 ])),\n",
       " (2, array([0.08003922, 0.01890069, 0.00935651])),\n",
       " (1, array([ 0.00766139, -0.08504728, -0.07918048])),\n",
       " (2, array([-0.0142042 ,  0.00060175,  0.06279239])),\n",
       " (1, array([ 0.02930007, -0.0353509 , -0.06760854])),\n",
       " (2, array([0.04897635, 0.02593627, 0.07050871])),\n",
       " (1, array([-0.0382788 , -0.00264238, -0.0893436 ])),\n",
       " (1, array([-0.00351182, -0.02681294, -0.05557498])),\n",
       " (0, array([-0.09504043, -0.09169968,  0.02637255])),\n",
       " (1, array([ 0.01468873,  0.03625796, -0.04277188])),\n",
       " (2, array([ 0.02128437,  0.02327982, -0.01079503])),\n",
       " (0, array([-0.09616205, -0.09370677,  0.04196393])),\n",
       " (0, array([-0.03555388, -0.03683623, -0.02194832])),\n",
       " (0, array([0.00438903, 0.06365216, 0.05151483])),\n",
       " (2, array([0.06882207, 0.10973818, 0.0562215 ])),\n",
       " (2, array([ 0.0268669 , -0.03199877, -0.00190557])),\n",
       " (1, array([-0.00363429,  0.00809295, -0.06882084])),\n",
       " (0, array([-0.00243687,  0.06670238,  0.03765678])),\n",
       " (2, array([0.04707819, 0.08161113, 0.02562819])),\n",
       " (1, array([ 0.02738787,  0.0021952 , -0.03125158])),\n",
       " (0, array([0.0545795 , 0.00749909, 0.02174063])),\n",
       " (0, array([-0.05878147, -0.03514753, -0.01427156])),\n",
       " (0, array([-0.02079601, -0.04510048, -0.05724548]))]"
      ]
     },
     "execution_count": 450,
     "metadata": {},
     "output_type": "execute_result"
    }
   ],
   "source": [
    "[(x,y) for x,y in zip(np.argmax(y_global_test.reshape(-1,3),axis=1), global_test_pred)]"
   ]
  },
  {
   "cell_type": "code",
   "execution_count": null,
   "metadata": {},
   "outputs": [],
   "source": []
  }
 ],
 "metadata": {
  "kernelspec": {
   "display_name": "Python 3",
   "language": "python",
   "name": "python3"
  },
  "language_info": {
   "codemirror_mode": {
    "name": "ipython",
    "version": 3
   },
   "file_extension": ".py",
   "mimetype": "text/x-python",
   "name": "python",
   "nbconvert_exporter": "python",
   "pygments_lexer": "ipython3",
   "version": "3.7.9"
  }
 },
 "nbformat": 4,
 "nbformat_minor": 4
}
